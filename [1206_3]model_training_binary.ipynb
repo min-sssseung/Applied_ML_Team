{
 "cells": [
  {
   "cell_type": "code",
   "execution_count": 112,
   "metadata": {},
   "outputs": [],
   "source": [
    "import numpy as np\n",
    "import pandas as pd\n",
    "from collections import Counter"
   ]
  },
  {
   "cell_type": "code",
   "execution_count": 113,
   "metadata": {},
   "outputs": [
    {
     "data": {
      "text/html": [
       "<div>\n",
       "<style scoped>\n",
       "    .dataframe tbody tr th:only-of-type {\n",
       "        vertical-align: middle;\n",
       "    }\n",
       "\n",
       "    .dataframe tbody tr th {\n",
       "        vertical-align: top;\n",
       "    }\n",
       "\n",
       "    .dataframe thead th {\n",
       "        text-align: right;\n",
       "    }\n",
       "</style>\n",
       "<table border=\"1\" class=\"dataframe\">\n",
       "  <thead>\n",
       "    <tr style=\"text-align: right;\">\n",
       "      <th></th>\n",
       "      <th>회사명</th>\n",
       "      <th>corp_code</th>\n",
       "      <th>stock_code</th>\n",
       "      <th>연도</th>\n",
       "      <th>ESG</th>\n",
       "      <th>자산총계</th>\n",
       "      <th>자산별 현금흐름</th>\n",
       "      <th>부채 비율</th>\n",
       "      <th>무형자산 비중</th>\n",
       "      <th>매출액 성장률</th>\n",
       "      <th>현금 배당성향 상승률</th>\n",
       "      <th>EBITDA 성장률</th>\n",
       "      <th>임직원 성장률</th>\n",
       "      <th>최대주주 지분율</th>\n",
       "      <th>사외이사비율</th>\n",
       "      <th>비정규직(o2)</th>\n",
       "    </tr>\n",
       "  </thead>\n",
       "  <tbody>\n",
       "    <tr>\n",
       "      <th>0</th>\n",
       "      <td>기아</td>\n",
       "      <td>00106641</td>\n",
       "      <td>000270</td>\n",
       "      <td>2022</td>\n",
       "      <td>B+</td>\n",
       "      <td>7.371096e+13</td>\n",
       "      <td>0.126619</td>\n",
       "      <td>0.466252</td>\n",
       "      <td>3.942399e-08</td>\n",
       "      <td>0.192893</td>\n",
       "      <td>0.023166</td>\n",
       "      <td>0.147722</td>\n",
       "      <td>0.009652</td>\n",
       "      <td>35.62</td>\n",
       "      <td>0.555556</td>\n",
       "      <td>0.044271</td>\n",
       "    </tr>\n",
       "    <tr>\n",
       "      <th>1</th>\n",
       "      <td>S-Oil</td>\n",
       "      <td>00138279</td>\n",
       "      <td>010950</td>\n",
       "      <td>2022</td>\n",
       "      <td>A</td>\n",
       "      <td>1.961314e+13</td>\n",
       "      <td>0.065207</td>\n",
       "      <td>0.567460</td>\n",
       "      <td>5.425854e-09</td>\n",
       "      <td>0.352968</td>\n",
       "      <td>-0.055921</td>\n",
       "      <td>0.352081</td>\n",
       "      <td>0.239521</td>\n",
       "      <td>63.44</td>\n",
       "      <td>0.081967</td>\n",
       "      <td>0.050898</td>\n",
       "    </tr>\n",
       "    <tr>\n",
       "      <th>2</th>\n",
       "      <td>풀무원</td>\n",
       "      <td>00155355</td>\n",
       "      <td>017810</td>\n",
       "      <td>2022</td>\n",
       "      <td>A</td>\n",
       "      <td>2.049218e+12</td>\n",
       "      <td>0.046280</td>\n",
       "      <td>0.733241</td>\n",
       "      <td>4.770911e-02</td>\n",
       "      <td>0.112535</td>\n",
       "      <td>4.023285</td>\n",
       "      <td>1.733645</td>\n",
       "      <td>0.108481</td>\n",
       "      <td>54.30</td>\n",
       "      <td>0.296296</td>\n",
       "      <td>0.072978</td>\n",
       "    </tr>\n",
       "    <tr>\n",
       "      <th>3</th>\n",
       "      <td>케이티</td>\n",
       "      <td>00190321</td>\n",
       "      <td>030200</td>\n",
       "      <td>2022</td>\n",
       "      <td>A</td>\n",
       "      <td>4.098068e+13</td>\n",
       "      <td>0.087775</td>\n",
       "      <td>0.550649</td>\n",
       "      <td>7.637338e-08</td>\n",
       "      <td>0.029318</td>\n",
       "      <td>0.165829</td>\n",
       "      <td>-0.044531</td>\n",
       "      <td>-0.059141</td>\n",
       "      <td>12.68</td>\n",
       "      <td>0.400000</td>\n",
       "      <td>0.035095</td>\n",
       "    </tr>\n",
       "    <tr>\n",
       "      <th>4</th>\n",
       "      <td>SK</td>\n",
       "      <td>00181712</td>\n",
       "      <td>034730</td>\n",
       "      <td>2022</td>\n",
       "      <td>A+</td>\n",
       "      <td>1.945059e+14</td>\n",
       "      <td>0.039473</td>\n",
       "      <td>0.630814</td>\n",
       "      <td>6.534003e-08</td>\n",
       "      <td>0.277574</td>\n",
       "      <td>0.105882</td>\n",
       "      <td>-0.012461</td>\n",
       "      <td>0.754470</td>\n",
       "      <td>26.69</td>\n",
       "      <td>0.048077</td>\n",
       "      <td>0.035761</td>\n",
       "    </tr>\n",
       "  </tbody>\n",
       "</table>\n",
       "</div>"
      ],
      "text/plain": [
       "     회사명 corp_code stock_code    연도 ESG          자산총계  자산별 현금흐름     부채 비율  \\\n",
       "0     기아  00106641     000270  2022  B+  7.371096e+13  0.126619  0.466252   \n",
       "1  S-Oil  00138279     010950  2022   A  1.961314e+13  0.065207  0.567460   \n",
       "2    풀무원  00155355     017810  2022   A  2.049218e+12  0.046280  0.733241   \n",
       "3    케이티  00190321     030200  2022   A  4.098068e+13  0.087775  0.550649   \n",
       "4     SK  00181712     034730  2022  A+  1.945059e+14  0.039473  0.630814   \n",
       "\n",
       "        무형자산 비중   매출액 성장률  현금 배당성향 상승률  EBITDA 성장률   임직원 성장률  최대주주 지분율  \\\n",
       "0  3.942399e-08  0.192893     0.023166    0.147722  0.009652     35.62   \n",
       "1  5.425854e-09  0.352968    -0.055921    0.352081  0.239521     63.44   \n",
       "2  4.770911e-02  0.112535     4.023285    1.733645  0.108481     54.30   \n",
       "3  7.637338e-08  0.029318     0.165829   -0.044531 -0.059141     12.68   \n",
       "4  6.534003e-08  0.277574     0.105882   -0.012461  0.754470     26.69   \n",
       "\n",
       "     사외이사비율  비정규직(o2)  \n",
       "0  0.555556  0.044271  \n",
       "1  0.081967  0.050898  \n",
       "2  0.296296  0.072978  \n",
       "3  0.400000  0.035095  \n",
       "4  0.048077  0.035761  "
      ]
     },
     "execution_count": 113,
     "metadata": {},
     "output_type": "execute_result"
    }
   ],
   "source": [
    "ds = pd.read_csv('Financial/[1206]ESG.csv', dtype={'corp_code': str, 'stock_code': str})\n",
    "ds['ESG'] = pd.Categorical(ds['ESG'], categories=['D', 'C', 'C+', 'B', 'B+', 'A', 'A+'], ordered=True)\n",
    "ds.head()"
   ]
  },
  {
   "cell_type": "code",
   "execution_count": 114,
   "metadata": {},
   "outputs": [
    {
     "data": {
      "text/html": [
       "<div>\n",
       "<style scoped>\n",
       "    .dataframe tbody tr th:only-of-type {\n",
       "        vertical-align: middle;\n",
       "    }\n",
       "\n",
       "    .dataframe tbody tr th {\n",
       "        vertical-align: top;\n",
       "    }\n",
       "\n",
       "    .dataframe thead th {\n",
       "        text-align: right;\n",
       "    }\n",
       "</style>\n",
       "<table border=\"1\" class=\"dataframe\">\n",
       "  <thead>\n",
       "    <tr style=\"text-align: right;\">\n",
       "      <th></th>\n",
       "      <th>연도</th>\n",
       "      <th>자산총계</th>\n",
       "      <th>자산별 현금흐름</th>\n",
       "      <th>부채 비율</th>\n",
       "      <th>무형자산 비중</th>\n",
       "      <th>매출액 성장률</th>\n",
       "      <th>현금 배당성향 상승률</th>\n",
       "      <th>EBITDA 성장률</th>\n",
       "      <th>임직원 성장률</th>\n",
       "      <th>최대주주 지분율</th>\n",
       "      <th>사외이사비율</th>\n",
       "      <th>비정규직(o2)</th>\n",
       "    </tr>\n",
       "  </thead>\n",
       "  <tbody>\n",
       "    <tr>\n",
       "      <th>count</th>\n",
       "      <td>2359.000000</td>\n",
       "      <td>2.359000e+03</td>\n",
       "      <td>2359.000000</td>\n",
       "      <td>2359.000000</td>\n",
       "      <td>2359.000000</td>\n",
       "      <td>2359.000000</td>\n",
       "      <td>2359.000000</td>\n",
       "      <td>2359.000000</td>\n",
       "      <td>2359.000000</td>\n",
       "      <td>2359.000000</td>\n",
       "      <td>2359.000000</td>\n",
       "      <td>2359.000000</td>\n",
       "    </tr>\n",
       "    <tr>\n",
       "      <th>mean</th>\n",
       "      <td>2021.001272</td>\n",
       "      <td>4.410375e+12</td>\n",
       "      <td>0.042544</td>\n",
       "      <td>0.455809</td>\n",
       "      <td>0.069319</td>\n",
       "      <td>0.041308</td>\n",
       "      <td>-0.201379</td>\n",
       "      <td>0.083710</td>\n",
       "      <td>-0.017478</td>\n",
       "      <td>43.728368</td>\n",
       "      <td>0.220666</td>\n",
       "      <td>0.085893</td>\n",
       "    </tr>\n",
       "    <tr>\n",
       "      <th>std</th>\n",
       "      <td>0.816755</td>\n",
       "      <td>2.221912e+13</td>\n",
       "      <td>0.082666</td>\n",
       "      <td>0.235338</td>\n",
       "      <td>0.124285</td>\n",
       "      <td>0.495036</td>\n",
       "      <td>2.665132</td>\n",
       "      <td>10.867919</td>\n",
       "      <td>0.350911</td>\n",
       "      <td>16.396905</td>\n",
       "      <td>0.149923</td>\n",
       "      <td>0.137904</td>\n",
       "    </tr>\n",
       "    <tr>\n",
       "      <th>min</th>\n",
       "      <td>2020.000000</td>\n",
       "      <td>1.771785e+08</td>\n",
       "      <td>-0.665621</td>\n",
       "      <td>0.024488</td>\n",
       "      <td>0.000000</td>\n",
       "      <td>-10.138547</td>\n",
       "      <td>-31.066667</td>\n",
       "      <td>-315.969743</td>\n",
       "      <td>-6.272727</td>\n",
       "      <td>0.010000</td>\n",
       "      <td>0.000000</td>\n",
       "      <td>0.000000</td>\n",
       "    </tr>\n",
       "    <tr>\n",
       "      <th>25%</th>\n",
       "      <td>2020.000000</td>\n",
       "      <td>2.672679e+11</td>\n",
       "      <td>0.004227</td>\n",
       "      <td>0.284374</td>\n",
       "      <td>0.005575</td>\n",
       "      <td>-0.024593</td>\n",
       "      <td>-0.225263</td>\n",
       "      <td>-0.230199</td>\n",
       "      <td>-0.042359</td>\n",
       "      <td>31.135000</td>\n",
       "      <td>0.108306</td>\n",
       "      <td>0.006192</td>\n",
       "    </tr>\n",
       "    <tr>\n",
       "      <th>50%</th>\n",
       "      <td>2021.000000</td>\n",
       "      <td>5.788165e+11</td>\n",
       "      <td>0.045882</td>\n",
       "      <td>0.456739</td>\n",
       "      <td>0.019455</td>\n",
       "      <td>0.084702</td>\n",
       "      <td>-0.010766</td>\n",
       "      <td>0.272963</td>\n",
       "      <td>0.009744</td>\n",
       "      <td>44.940000</td>\n",
       "      <td>0.181985</td>\n",
       "      <td>0.036765</td>\n",
       "    </tr>\n",
       "    <tr>\n",
       "      <th>75%</th>\n",
       "      <td>2022.000000</td>\n",
       "      <td>1.643858e+12</td>\n",
       "      <td>0.084497</td>\n",
       "      <td>0.607313</td>\n",
       "      <td>0.079064</td>\n",
       "      <td>0.178747</td>\n",
       "      <td>0.243094</td>\n",
       "      <td>0.835626</td>\n",
       "      <td>0.067154</td>\n",
       "      <td>54.920000</td>\n",
       "      <td>0.285714</td>\n",
       "      <td>0.091989</td>\n",
       "    </tr>\n",
       "    <tr>\n",
       "      <th>max</th>\n",
       "      <td>2022.000000</td>\n",
       "      <td>4.484245e+14</td>\n",
       "      <td>0.435786</td>\n",
       "      <td>4.391744</td>\n",
       "      <td>1.280853</td>\n",
       "      <td>0.999154</td>\n",
       "      <td>51.799729</td>\n",
       "      <td>134.738889</td>\n",
       "      <td>1.000000</td>\n",
       "      <td>100.000000</td>\n",
       "      <td>0.727273</td>\n",
       "      <td>0.933721</td>\n",
       "    </tr>\n",
       "  </tbody>\n",
       "</table>\n",
       "</div>"
      ],
      "text/plain": [
       "                연도          자산총계     자산별 현금흐름        부채 비율      무형자산 비중  \\\n",
       "count  2359.000000  2.359000e+03  2359.000000  2359.000000  2359.000000   \n",
       "mean   2021.001272  4.410375e+12     0.042544     0.455809     0.069319   \n",
       "std       0.816755  2.221912e+13     0.082666     0.235338     0.124285   \n",
       "min    2020.000000  1.771785e+08    -0.665621     0.024488     0.000000   \n",
       "25%    2020.000000  2.672679e+11     0.004227     0.284374     0.005575   \n",
       "50%    2021.000000  5.788165e+11     0.045882     0.456739     0.019455   \n",
       "75%    2022.000000  1.643858e+12     0.084497     0.607313     0.079064   \n",
       "max    2022.000000  4.484245e+14     0.435786     4.391744     1.280853   \n",
       "\n",
       "           매출액 성장률  현금 배당성향 상승률   EBITDA 성장률      임직원 성장률     최대주주 지분율  \\\n",
       "count  2359.000000  2359.000000  2359.000000  2359.000000  2359.000000   \n",
       "mean      0.041308    -0.201379     0.083710    -0.017478    43.728368   \n",
       "std       0.495036     2.665132    10.867919     0.350911    16.396905   \n",
       "min     -10.138547   -31.066667  -315.969743    -6.272727     0.010000   \n",
       "25%      -0.024593    -0.225263    -0.230199    -0.042359    31.135000   \n",
       "50%       0.084702    -0.010766     0.272963     0.009744    44.940000   \n",
       "75%       0.178747     0.243094     0.835626     0.067154    54.920000   \n",
       "max       0.999154    51.799729   134.738889     1.000000   100.000000   \n",
       "\n",
       "            사외이사비율     비정규직(o2)  \n",
       "count  2359.000000  2359.000000  \n",
       "mean      0.220666     0.085893  \n",
       "std       0.149923     0.137904  \n",
       "min       0.000000     0.000000  \n",
       "25%       0.108306     0.006192  \n",
       "50%       0.181985     0.036765  \n",
       "75%       0.285714     0.091989  \n",
       "max       0.727273     0.933721  "
      ]
     },
     "execution_count": 114,
     "metadata": {},
     "output_type": "execute_result"
    }
   ],
   "source": [
    "ds.describe()"
   ]
  },
  {
   "cell_type": "code",
   "execution_count": 115,
   "metadata": {},
   "outputs": [
    {
     "data": {
      "text/plain": [
       "Counter({'B+': 372, 'A': 387, 'A+': 19, 'B': 548, 'C': 719, 'D': 314})"
      ]
     },
     "execution_count": 115,
     "metadata": {},
     "output_type": "execute_result"
    }
   ],
   "source": [
    "Counter(ds['ESG'])"
   ]
  },
  {
   "cell_type": "code",
   "execution_count": 116,
   "metadata": {},
   "outputs": [
    {
     "name": "stdout",
     "output_type": "stream",
     "text": [
      "Trainig set of X = (1887, 11)\n",
      "Trainig set of y = (1887,)\n",
      "Test set of X = (472, 11)\n",
      "Test set of y = (472,)\n",
      "The distribution of y_train = Counter({1.0: 575, 2.0: 438, 4.0: 310, 3.0: 298, 0.0: 251, 5.0: 15})\n",
      "The distribution of y_train = Counter({1.0: 144, 2.0: 110, 4.0: 77, 3.0: 74, 0.0: 63, 5.0: 4})\n"
     ]
    }
   ],
   "source": [
    "# data split: Train vs test \n",
    "from sklearn.model_selection import train_test_split\n",
    "\n",
    "X, y = ds.iloc[:, 5:], ds.iloc[:, 4]\n",
    "y = y.map({'A+': 5,'A': 4,'B+': 3,'B': 2,'C': 1,'D': 0})\n",
    "\n",
    "X_train, X_test, y_train, y_test = train_test_split(X, y, \n",
    "                                                    random_state=1975,\n",
    "                                                    shuffle=True,\n",
    "                                                    stratify=y, \n",
    "                                                    test_size=0.2)\n",
    "print('Trainig set of X =', X_train.shape)\n",
    "print('Trainig set of y =', y_train.shape)\n",
    "\n",
    "print('Test set of X =', X_test.shape)\n",
    "print('Test set of y =', y_test.shape)\n",
    "\n",
    "print('The distribution of y_train =', Counter(y_train))\n",
    "print('The distribution of y_train =', Counter(y_test))"
   ]
  },
  {
   "cell_type": "code",
   "execution_count": 117,
   "metadata": {},
   "outputs": [
    {
     "name": "stdout",
     "output_type": "stream",
     "text": [
      "Trainig set of X = (1509, 11)\n",
      "Trainig set of y = (1509,)\n",
      "Validatin set of X = (378, 11)\n",
      "Validatin set of y = (378,)\n",
      "The distribution of y_train = Counter({1.0: 460, 2.0: 350, 4.0: 248, 3.0: 238, 0.0: 201, 5.0: 12})\n",
      "The distribution of y_train = Counter({1.0: 115, 2.0: 88, 4.0: 62, 3.0: 60, 0.0: 50, 5.0: 3})\n"
     ]
    }
   ],
   "source": [
    "# Train into Train & Valid\n",
    "\n",
    "X_train, X_val, y_train, y_val = train_test_split(X_train, y_train, \n",
    "                                                    random_state=1975,\n",
    "                                                    shuffle=True,\n",
    "                                                    stratify=y_train, \n",
    "                                                    test_size=0.2)\n",
    "\n",
    "print('Trainig set of X =', X_train.shape)\n",
    "print('Trainig set of y =', y_train.shape)\n",
    "\n",
    "print('Validatin set of X =', X_val.shape)\n",
    "print('Validatin set of y =', y_val.shape)\n",
    "\n",
    "print('The distribution of y_train =', Counter(y_train))\n",
    "print('The distribution of y_train =', Counter(y_val))"
   ]
  },
  {
   "cell_type": "code",
   "execution_count": 118,
   "metadata": {},
   "outputs": [
    {
     "name": "stdout",
     "output_type": "stream",
     "text": [
      "X_train_scaled's shape&type: (1509, 11) <class 'numpy.ndarray'>\n",
      "X_val_scaled's shape&type: (378, 11) <class 'numpy.ndarray'>\n"
     ]
    }
   ],
   "source": [
    "# data scaler\n",
    "from sklearn.preprocessing import MinMaxScaler\n",
    "\n",
    "scaler = MinMaxScaler().fit(X_train)\n",
    "X_train_scaled = scaler.transform(X_train)\n",
    "X_val_scaled = scaler.transform(X_val)\n",
    "\n",
    "print(\"X_train_scaled's shape&type:\", X_train_scaled.shape, type(X_train_scaled))\n",
    "print(\"X_val_scaled's shape&type:\", X_val_scaled.shape, type(X_val_scaled))"
   ]
  },
  {
   "cell_type": "code",
   "execution_count": 119,
   "metadata": {},
   "outputs": [
    {
     "name": "stdout",
     "output_type": "stream",
     "text": [
      "X_train_res, shape&type: (2760, 11) <class 'numpy.ndarray'>\n",
      "y_train_res, shape&type: (2760,) <class 'pandas.core.series.Series'>\n",
      "The dist OF y_train_res Counter({2.0: 460, 1.0: 460, 3.0: 460, 0.0: 460, 4.0: 460, 5.0: 460})\n"
     ]
    }
   ],
   "source": [
    "# dataset imbalance problem\n",
    "\n",
    "from imblearn.over_sampling import SMOTE\n",
    "\n",
    "X_train_res, y_train_res = SMOTE().fit_resample(X_train_scaled, y_train)\n",
    "\n",
    "print(\"X_train_res, shape&type:\", X_train_res.shape, type(X_train_res))\n",
    "print(\"y_train_res, shape&type:\", y_train_res.shape, type(y_train_res))\n",
    "print('The dist OF y_train_res', Counter(y_train_res))\n",
    "\n",
    "# references: https://imbalanced-learn.org/stable/over_sampling.html"
   ]
  },
  {
   "cell_type": "code",
   "execution_count": 120,
   "metadata": {},
   "outputs": [
    {
     "name": "stdout",
     "output_type": "stream",
     "text": [
      "Requirement already satisfied: xgboost in c:\\users\\kmk45\\appdata\\local\\programs\\python\\python310\\lib\\site-packages (2.0.2)\n",
      "Requirement already satisfied: numpy in c:\\users\\kmk45\\appdata\\local\\programs\\python\\python310\\lib\\site-packages (from xgboost) (1.24.4)\n",
      "Requirement already satisfied: scipy in c:\\users\\kmk45\\appdata\\local\\programs\\python\\python310\\lib\\site-packages (from xgboost) (1.8.1)\n"
     ]
    },
    {
     "name": "stderr",
     "output_type": "stream",
     "text": [
      "WARNING: There was an error checking the latest version of pip.\n"
     ]
    }
   ],
   "source": [
    "!pip install xgboost"
   ]
  },
  {
   "cell_type": "code",
   "execution_count": 121,
   "metadata": {},
   "outputs": [
    {
     "name": "stdout",
     "output_type": "stream",
     "text": [
      "[0]\tvalidation_0-mlogloss:1.69177\n",
      "[1]\tvalidation_0-mlogloss:1.60793\n",
      "[2]\tvalidation_0-mlogloss:1.54591\n",
      "[3]\tvalidation_0-mlogloss:1.50202\n"
     ]
    },
    {
     "name": "stdout",
     "output_type": "stream",
     "text": [
      "[4]\tvalidation_0-mlogloss:1.47446\n",
      "[5]\tvalidation_0-mlogloss:1.45081\n"
     ]
    },
    {
     "name": "stderr",
     "output_type": "stream",
     "text": [
      "c:\\Users\\kmk45\\AppData\\Local\\Programs\\Python\\Python310\\lib\\site-packages\\xgboost\\sklearn.py:885: UserWarning: `early_stopping_rounds` in `fit` method is deprecated for better compatibility with scikit-learn, use `early_stopping_rounds` in constructor or`set_params` instead.\n",
      "  warnings.warn(\n"
     ]
    },
    {
     "name": "stdout",
     "output_type": "stream",
     "text": [
      "[6]\tvalidation_0-mlogloss:1.43261\n",
      "[7]\tvalidation_0-mlogloss:1.41780\n",
      "[8]\tvalidation_0-mlogloss:1.40166\n",
      "[9]\tvalidation_0-mlogloss:1.39115\n",
      "[10]\tvalidation_0-mlogloss:1.38552\n",
      "[11]\tvalidation_0-mlogloss:1.38376\n",
      "[12]\tvalidation_0-mlogloss:1.38627\n",
      "[13]\tvalidation_0-mlogloss:1.38765\n",
      "[14]\tvalidation_0-mlogloss:1.38581\n",
      "[15]\tvalidation_0-mlogloss:1.39311\n",
      "[16]\tvalidation_0-mlogloss:1.39751\n",
      "[17]\tvalidation_0-mlogloss:1.39615\n",
      "[18]\tvalidation_0-mlogloss:1.40171\n",
      "[19]\tvalidation_0-mlogloss:1.41032\n",
      "[20]\tvalidation_0-mlogloss:1.41551\n"
     ]
    }
   ],
   "source": [
    "from xgboost import XGBClassifier\n",
    "\n",
    "xgbc_smote = XGBClassifier(n_jobs=-1).fit(X_train_res, y_train_res,\n",
    "                                         eval_set = [(X_val_scaled, y_val)],\n",
    "                                         early_stopping_rounds=10)"
   ]
  },
  {
   "cell_type": "code",
   "execution_count": 124,
   "metadata": {},
   "outputs": [
    {
     "name": "stdout",
     "output_type": "stream",
     "text": [
      "              precision    recall  f1-score   support\n",
      "\n",
      "         0.0       0.75      0.95      0.84       201\n",
      "         1.0       0.93      0.76      0.83       460\n",
      "         2.0       0.82      0.83      0.82       350\n",
      "         3.0       0.80      0.89      0.84       238\n",
      "         4.0       0.90      0.88      0.89       248\n",
      "         5.0       0.80      1.00      0.89        12\n",
      "\n",
      "    accuracy                           0.84      1509\n",
      "   macro avg       0.83      0.88      0.85      1509\n",
      "weighted avg       0.85      0.84      0.84      1509\n",
      "\n"
     ]
    }
   ],
   "source": [
    "from sklearn.metrics import classification_report\n",
    "\n",
    "print(classification_report(y_train, xgbc_smote.predict(X_train_scaled)))"
   ]
  }
 ],
 "metadata": {
  "kernelspec": {
   "display_name": "Python 3",
   "language": "python",
   "name": "python3"
  },
  "language_info": {
   "codemirror_mode": {
    "name": "ipython",
    "version": 3
   },
   "file_extension": ".py",
   "mimetype": "text/x-python",
   "name": "python",
   "nbconvert_exporter": "python",
   "pygments_lexer": "ipython3",
   "version": "3.10.5"
  }
 },
 "nbformat": 4,
 "nbformat_minor": 2
}
