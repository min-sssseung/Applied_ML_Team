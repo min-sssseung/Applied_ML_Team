{
 "cells": [
  {
   "cell_type": "code",
   "execution_count": 3,
   "metadata": {},
   "outputs": [
    {
     "data": {
      "text/html": [
       "<div>\n",
       "<style scoped>\n",
       "    .dataframe tbody tr th:only-of-type {\n",
       "        vertical-align: middle;\n",
       "    }\n",
       "\n",
       "    .dataframe tbody tr th {\n",
       "        vertical-align: top;\n",
       "    }\n",
       "\n",
       "    .dataframe thead th {\n",
       "        text-align: right;\n",
       "    }\n",
       "</style>\n",
       "<table border=\"1\" class=\"dataframe\">\n",
       "  <thead>\n",
       "    <tr style=\"text-align: right;\">\n",
       "      <th></th>\n",
       "      <th>corp_name</th>\n",
       "      <th>esg</th>\n",
       "      <th>fin_state</th>\n",
       "      <th>corp_code</th>\n",
       "      <th>stock_code</th>\n",
       "      <th>year</th>\n",
       "    </tr>\n",
       "  </thead>\n",
       "  <tbody>\n",
       "    <tr>\n",
       "      <th>0</th>\n",
       "      <td>기아</td>\n",
       "      <td>A+</td>\n",
       "      <td>60,490,443,000,000</td>\n",
       "      <td>00106641</td>\n",
       "      <td>000270</td>\n",
       "      <td>2020</td>\n",
       "    </tr>\n",
       "    <tr>\n",
       "      <th>1</th>\n",
       "      <td>S-Oil</td>\n",
       "      <td>A+</td>\n",
       "      <td>15,690,510,000,000</td>\n",
       "      <td>00138279</td>\n",
       "      <td>010950</td>\n",
       "      <td>2020</td>\n",
       "    </tr>\n",
       "    <tr>\n",
       "      <th>2</th>\n",
       "      <td>풀무원</td>\n",
       "      <td>A+</td>\n",
       "      <td>1,693,573,176,270</td>\n",
       "      <td>00155355</td>\n",
       "      <td>017810</td>\n",
       "      <td>2020</td>\n",
       "    </tr>\n",
       "    <tr>\n",
       "      <th>3</th>\n",
       "      <td>케이티</td>\n",
       "      <td>A+</td>\n",
       "      <td>33,662,545,000,000</td>\n",
       "      <td>00190321</td>\n",
       "      <td>030200</td>\n",
       "      <td>2020</td>\n",
       "    </tr>\n",
       "    <tr>\n",
       "      <th>4</th>\n",
       "      <td>SK</td>\n",
       "      <td>A+</td>\n",
       "      <td>137,667,906,000,000</td>\n",
       "      <td>00181712</td>\n",
       "      <td>034730</td>\n",
       "      <td>2020</td>\n",
       "    </tr>\n",
       "  </tbody>\n",
       "</table>\n",
       "</div>"
      ],
      "text/plain": [
       "  corp_name esg            fin_state corp_code stock_code  year\n",
       "0        기아  A+   60,490,443,000,000  00106641     000270  2020\n",
       "1     S-Oil  A+   15,690,510,000,000  00138279     010950  2020\n",
       "2       풀무원  A+    1,693,573,176,270  00155355     017810  2020\n",
       "3       케이티  A+   33,662,545,000,000  00190321     030200  2020\n",
       "4        SK  A+  137,667,906,000,000  00181712     034730  2020"
      ]
     },
     "execution_count": 3,
     "metadata": {},
     "output_type": "execute_result"
    }
   ],
   "source": [
    "import OpenDartReader\n",
    "import pandas as pd \n",
    "import os\n",
    "import glob\n",
    "\n",
    "# api_key = '1ee244d6168bde153cb2d45463d71139f567d1f4'\n",
    "api_key ='4fb4acc1d37b1dae74040e64a9674e018ccfd7fe'\n",
    "\n",
    "dart = OpenDartReader(api_key)\n",
    "\n",
    "df = pd.read_csv('esg_finance_data.csv', dtype={'corp_code': str, \n",
    "                                                'stock_code': str})\n",
    "df['year'] = ['2020'] * 847 + ['2021'] * 847 + ['2022'] * 847\n",
    "df['year'] = df['year'].astype('int')\n",
    "df.head()"
   ]
  },
  {
   "cell_type": "code",
   "execution_count": 14,
   "metadata": {},
   "outputs": [],
   "source": [
    "# def intang(code, year):# stock_code\n",
    "#     lst = dart.list(code, start='2019', end='2024') # 2019-2024 모든 보고서에서 데이터 찾아오기\n",
    "    \n",
    "#     # 변경1: 원하는 년도의 사업 보고서 고르기 \n",
    "#     report_num = lst[(lst['report_nm'].str.contains('사업보고서'))&(lst['report_nm'].str.contains(str(year)))].iloc[0, 5]\n",
    "#     url = dart.sub_docs(report_num) #사업보고서 번호를 통해 url 요청\n",
    "#     html = url[url['title'].str.contains('연결재무제표')].iloc[0, 1] # url 주소\n",
    "    \n",
    "#     docu = pd.read_html(html) # 데이터 읽어오기 \n",
    "    \n",
    "#     fin_state = docu[1].rename(columns={'Unnamed: 0': 'tag'})\n",
    "#     intangible = fin_state[fin_state['tag'].str.contains('무형자산')] # 무형자산 DF\n",
    "#     output = intangible.iloc[0, 1]\n",
    "\n",
    "#     return output"
   ]
  },
  {
   "cell_type": "code",
   "execution_count": 44,
   "metadata": {},
   "outputs": [
    {
     "name": "stdout",
     "output_type": "stream",
     "text": [
      "저장된 회사 수:  670\n",
      "누락 회사 수:  177\n"
     ]
    }
   ],
   "source": [
    "import numpy as np\n",
    "entire_codes = []\n",
    "for f in glob.glob('./2020/fin_2020/*.csv'):\n",
    "    code = f.split('\\\\')[1][:6]\n",
    "    entire_codes.append(code)\n",
    "\n",
    "entire_codes\n",
    "code_missing = [code for code in list(df['stock_code'].unique()) if code not in entire_codes]\n",
    "\n",
    "print('저장된 회사 수: ', len(entire_codes)) # 847개 중 690개 # 157개 누락\n",
    "print('누락 회사 수: ', len(code_missing)) # 847개 중 177개 누락\n",
    "\n",
    "\n",
    "# for index in range(df.shape[0]):\n",
    "#     code, year = df.loc[index, 'stock_code'], df.loc[index, 'year']\n",
    "#     try:\n",
    "#         df.loc[index, 'intangible'] = intang(code, year)\n",
    "#     except:\n",
    "#         df.loc[index, 'intangible'] = 0.0\n",
    "# df"
   ]
  },
  {
   "cell_type": "code",
   "execution_count": 45,
   "metadata": {},
   "outputs": [],
   "source": [
    "df_c = df.copy()\n",
    "df_c['intangible'] = [np.nan] * df_c.shape[0]\n",
    "df_c['ratio'] = [np.nan] * df_c.shape[0]\n",
    "\n",
    "missing_codes_intang = []\n",
    "for code in df_c['stock_code'].unique():\n",
    "    try:\n",
    "        docu = pd.read_csv(f'./2022/fin_2022/{code}_2022.csv', index_col=0)\n",
    "        intang = docu[docu['tag'].str.contains('무형자산')].iloc[0, 1:]\n",
    "        \n",
    "        data = df_c[df_c['stock_code'] == code].sort_values(['year'], ascending=False)\n",
    "\n",
    "        for i, (k,v) in enumerate(data.intangible.items()):\n",
    "            df_c.loc[k, 'intangible'] = intang[i]\n",
    "    except:\n",
    "        missing_codes_intang.append(code)\n",
    "\n",
    "df_c['intangible'] = pd.to_numeric(df_c['intangible'])"
   ]
  },
  {
   "cell_type": "code",
   "execution_count": 54,
   "metadata": {},
   "outputs": [
    {
     "data": {
      "text/html": [
       "<div>\n",
       "<style scoped>\n",
       "    .dataframe tbody tr th:only-of-type {\n",
       "        vertical-align: middle;\n",
       "    }\n",
       "\n",
       "    .dataframe tbody tr th {\n",
       "        vertical-align: top;\n",
       "    }\n",
       "\n",
       "    .dataframe thead th {\n",
       "        text-align: right;\n",
       "    }\n",
       "</style>\n",
       "<table border=\"1\" class=\"dataframe\">\n",
       "  <thead>\n",
       "    <tr style=\"text-align: right;\">\n",
       "      <th></th>\n",
       "      <th>title</th>\n",
       "      <th>url</th>\n",
       "    </tr>\n",
       "  </thead>\n",
       "  <tbody>\n",
       "    <tr>\n",
       "      <th>0</th>\n",
       "      <td>정 정 신 고 (보고)</td>\n",
       "      <td>http://dart.fss.or.kr/report/viewer.do?rcpNo=2...</td>\n",
       "    </tr>\n",
       "    <tr>\n",
       "      <th>1</th>\n",
       "      <td>영 업 보 고 서</td>\n",
       "      <td>http://dart.fss.or.kr/report/viewer.do?rcpNo=2...</td>\n",
       "    </tr>\n",
       "  </tbody>\n",
       "</table>\n",
       "</div>"
      ],
      "text/plain": [
       "          title                                                url\n",
       "0  정 정 신 고 (보고)  http://dart.fss.or.kr/report/viewer.do?rcpNo=2...\n",
       "1     영 업 보 고 서  http://dart.fss.or.kr/report/viewer.do?rcpNo=2..."
      ]
     },
     "execution_count": 54,
     "metadata": {},
     "output_type": "execute_result"
    }
   ],
   "source": [
    "# for code in missing_codes_intang:\n",
    "#     dart.list()\n",
    "    \n",
    "lst = dart.list('009830', start='2019', end='2024') # 2019-2024 모든 보고서에서 데이터 찾아오기\n",
    "    \n",
    "# 변경1: 원하는 년도의 사업 보고서 고르기 \n",
    "report_num = lst[(lst['report_nm'].str.contains('사업보고서'))&(lst['report_nm'].str.contains(str(2022)))].iloc[0, 5]\n",
    "url = dart.sub_docs(report_num) #사업보고서 번호를 통해 url 요청\n",
    "html = url[url['title'].str.contains('연결재무제표')] # url 주소"
   ]
  },
  {
   "cell_type": "code",
   "execution_count": 55,
   "metadata": {},
   "outputs": [
    {
     "data": {
      "text/plain": [
       "'http://dart.fss.or.kr/report/viewer.do?rcpNo=20230316001209&dcmNo=9066248&eleId=2&offset=2120&length=7609&dtd=dart3.xsd'"
      ]
     },
     "execution_count": 55,
     "metadata": {},
     "output_type": "execute_result"
    }
   ],
   "source": [
    "url.iloc[1, 1]"
   ]
  },
  {
   "cell_type": "code",
   "execution_count": 25,
   "metadata": {},
   "outputs": [
    {
     "data": {
      "text/html": [
       "<div>\n",
       "<style scoped>\n",
       "    .dataframe tbody tr th:only-of-type {\n",
       "        vertical-align: middle;\n",
       "    }\n",
       "\n",
       "    .dataframe tbody tr th {\n",
       "        vertical-align: top;\n",
       "    }\n",
       "\n",
       "    .dataframe thead th {\n",
       "        text-align: right;\n",
       "    }\n",
       "</style>\n",
       "<table border=\"1\" class=\"dataframe\">\n",
       "  <thead>\n",
       "    <tr style=\"text-align: right;\">\n",
       "      <th></th>\n",
       "      <th>corp_name</th>\n",
       "      <th>esg</th>\n",
       "      <th>fin_state</th>\n",
       "      <th>corp_code</th>\n",
       "      <th>stock_code</th>\n",
       "      <th>year</th>\n",
       "      <th>intangible</th>\n",
       "      <th>ratio</th>\n",
       "    </tr>\n",
       "  </thead>\n",
       "  <tbody>\n",
       "    <tr>\n",
       "      <th>2335</th>\n",
       "      <td>경인양행</td>\n",
       "      <td>C</td>\n",
       "      <td>548,252,999,063</td>\n",
       "      <td>00102113</td>\n",
       "      <td>012610</td>\n",
       "      <td>2022</td>\n",
       "      <td>5.277820e+09</td>\n",
       "      <td>0.0</td>\n",
       "    </tr>\n",
       "    <tr>\n",
       "      <th>1488</th>\n",
       "      <td>경인양행</td>\n",
       "      <td>C</td>\n",
       "      <td>579,492,465,098</td>\n",
       "      <td>00102113</td>\n",
       "      <td>012610</td>\n",
       "      <td>2021</td>\n",
       "      <td>6.420705e+09</td>\n",
       "      <td>0.0</td>\n",
       "    </tr>\n",
       "    <tr>\n",
       "      <th>641</th>\n",
       "      <td>경인양행</td>\n",
       "      <td>C</td>\n",
       "      <td>505,102,150,581</td>\n",
       "      <td>00102113</td>\n",
       "      <td>012610</td>\n",
       "      <td>2020</td>\n",
       "      <td>7.040427e+09</td>\n",
       "      <td>0.0</td>\n",
       "    </tr>\n",
       "  </tbody>\n",
       "</table>\n",
       "</div>"
      ],
      "text/plain": [
       "     corp_name esg        fin_state corp_code stock_code  year    intangible  \\\n",
       "2335      경인양행   C  548,252,999,063  00102113     012610  2022  5.277820e+09   \n",
       "1488      경인양행   C  579,492,465,098  00102113     012610  2021  6.420705e+09   \n",
       "641       경인양행   C  505,102,150,581  00102113     012610  2020  7.040427e+09   \n",
       "\n",
       "      ratio  \n",
       "2335    0.0  \n",
       "1488    0.0  \n",
       "641     0.0  "
      ]
     },
     "execution_count": 25,
     "metadata": {},
     "output_type": "execute_result"
    }
   ],
   "source": [
    "code = '00102113'\n",
    "docu = pd.read_csv(f'./2022/cash_2022/{code}_2022.csv', index_col=0)\n",
    "docu[docu['se'].str.contains('현금배당성향')].iloc[0, 2:].values\n",
    "\n",
    "df_c[df_c['corp_code']==code].sort_values(['year'], ascending=False)"
   ]
  },
  {
   "cell_type": "code",
   "execution_count": 31,
   "metadata": {},
   "outputs": [],
   "source": [
    "missing_cash = []\n",
    "for code in df_c['corp_code'].unique():\n",
    "    try:\n",
    "        docu = pd.read_csv(f'./2022/cash_2022/{code}_2022.csv', index_col=0)\n",
    "        cash = docu[docu['se'].str.contains('현금배당성향')].iloc[0, 2:].values\n",
    "        \n",
    "        data = df_c[df_c['corp_code'] == code].sort_values(['year'], ascending=False)\n",
    "\n",
    "        for i, (k,v) in enumerate(data.ratio.items()):\n",
    "            df_c.loc[k, 'ratio'] = cash[i]\n",
    "    except:\n",
    "        missing_cash.append(code)"
   ]
  },
  {
   "cell_type": "code",
   "execution_count": 33,
   "metadata": {},
   "outputs": [],
   "source": [
    "# df_c = df_c['ratio'].replace('-', np.nan)"
   ]
  },
  {
   "cell_type": "code",
   "execution_count": 34,
   "metadata": {},
   "outputs": [
    {
     "name": "stdout",
     "output_type": "stream",
     "text": [
      "<class 'pandas.core.series.Series'>\n",
      "RangeIndex: 2541 entries, 0 to 2540\n",
      "Series name: ratio\n",
      "Non-Null Count  Dtype \n",
      "--------------  ----- \n",
      "1642 non-null   object\n",
      "dtypes: object(1)\n",
      "memory usage: 20.0+ KB\n"
     ]
    }
   ],
   "source": [
    "# df_c.info()"
   ]
  }
 ],
 "metadata": {
  "kernelspec": {
   "display_name": "Python 3",
   "language": "python",
   "name": "python3"
  },
  "language_info": {
   "codemirror_mode": {
    "name": "ipython",
    "version": 3
   },
   "file_extension": ".py",
   "mimetype": "text/x-python",
   "name": "python",
   "nbconvert_exporter": "python",
   "pygments_lexer": "ipython3",
   "version": "3.10.5"
  }
 },
 "nbformat": 4,
 "nbformat_minor": 2
}
