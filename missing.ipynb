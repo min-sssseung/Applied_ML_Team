{
 "cells": [
  {
   "cell_type": "code",
   "execution_count": 1,
   "metadata": {},
   "outputs": [],
   "source": [
    "import OpenDartReader\n",
    "import pandas as pd \n",
    "import os\n",
    "import glob\n",
    "import numpy as np"
   ]
  },
  {
   "cell_type": "code",
   "execution_count": null,
   "metadata": {},
   "outputs": [],
   "source": [
    "# df = pd.read_csv('esg_financial_data_9_columns.csv', \n",
    "#                  dtype={'corp_code': str, 'stock_code': str})\n",
    "# c_code = df['stock_code'].to_list()\n",
    "# stock_code = [str(code) for code in c_code]\n",
    "\n",
    "# def add_zero(c):\n",
    "#     if len(c) < 6:\n",
    "#         c = (6-len(c)) * '0' + c\n",
    "#     return c\n",
    "\n",
    "# st_code = list(map(add_zero, stock_code))\n",
    "# df['stock_code'] = st_code\n",
    "\n",
    "# c_code = df['corp_code'].to_list()\n",
    "# corp_code = [str(code) for code in c_code]\n",
    "\n",
    "# def add_zero(c):\n",
    "#     if len(c) < 8:\n",
    "#         c = (8-len(c)) * '0' + c\n",
    "#     return c\n",
    "\n",
    "# st_code = list(map(add_zero, corp_code))\n",
    "# df['corp_code'] = st_code"
   ]
  },
  {
   "cell_type": "code",
   "execution_count": null,
   "metadata": {},
   "outputs": [],
   "source": [
    "# api_key = '1ee244d6168bde153cb2d45463d71139f567d1f4'\n",
    "api_key ='4fb4acc1d37b1dae74040e64a9674e018ccfd7fe'\n",
    "dart = OpenDartReader(api_key)\n",
    "\n",
    "df = pd.read_csv('ESG_data.csv', index_col=0, dtype={'corp_code': str,\n",
    "                                                       'stock_code': str})\n",
    "print(df.shape)\n",
    "df.head()"
   ]
  },
  {
   "cell_type": "code",
   "execution_count": null,
   "metadata": {},
   "outputs": [],
   "source": [
    "entire_codes = []\n",
    "\n",
    "for f in glob.glob('./2020/fin_2020/*.csv'):\n",
    "    code = f.split('\\\\')[1][:6]\n",
    "    entire_codes.append(code)\n",
    "\n",
    "code_missing = [code for code in list(df['stock_code'].unique()) if code not in entire_codes]\n",
    "\n",
    "print('저장된 회사 수: ', len(entire_codes)) # 670개 데이터 존재\n",
    "print('누락 회사 수: ', len(code_missing)) # 124개는 다시 호출할 필요 있음"
   ]
  },
  {
   "cell_type": "markdown",
   "metadata": {},
   "source": [
    "### 무형자산 데이터 import"
   ]
  },
  {
   "cell_type": "code",
   "execution_count": null,
   "metadata": {},
   "outputs": [],
   "source": [
    "# csv 파일 합치기\n",
    "\n",
    "df_c = df.copy()\n",
    "\n",
    "df_c['intangible'] = np.zeros(df_c.shape[0])\n",
    "\n",
    "code_missing = [code for code in list(df['stock_code'].unique()) if code in entire_codes]\n",
    "\n",
    "missing_codes_intang = []\n",
    "for code in code_missing:\n",
    "    try:\n",
    "        docu = pd.read_csv(f'./2022/fin_2022/{code}_2022.csv', index_col=0)\n",
    "        intang = docu[docu['tag'].str.contains('무형자산')].iloc[0, 1:]\n",
    "        \n",
    "        data = df_c[df_c['stock_code'] == code]\n",
    "\n",
    "        for i, (k,v) in enumerate(data.intangible.items()):\n",
    "            df_c.loc[k, 'intangible'] = intang[i]\n",
    "    except:\n",
    "        missing_codes_intang.append(code)\n",
    "\n",
    "df_c['intangible'] = pd.to_numeric(df_c['intangible'])"
   ]
  },
  {
   "cell_type": "code",
   "execution_count": null,
   "metadata": {},
   "outputs": [],
   "source": [
    "# 누락된 데이터는 OpenDartreader 다시 이용\n",
    "# 사업 보고서 > 연결재무제표\n",
    "re_codes = df_c[df_c['intangible'] == 0]['stock_code'].unique()\n",
    "\n",
    "re = []\n",
    "for code in re_codes:\n",
    "    try: \n",
    "        lst = dart.list(code, start='2019', end='2024') # 2019-2024 모든 보고서에서 데이터 찾아오기\n",
    "        report_num = lst[(lst['report_nm'].str.contains('사업보고서')) & (lst['report_nm'].str.contains('2022'))].iloc[0, 5]\n",
    "        url = dart.sub_docs(report_num) #사업보고서 번호를 통해 url 요청\n",
    "        html = url[url['title'].str.contains('연결재무제표')].iloc[0, 1] # url 주소\n",
    "\n",
    "        docu = pd.read_html(html)[1]\n",
    "\n",
    "        docu = docu.rename(columns={'Unnamed: 0': 'tag'})\n",
    "        intang = docu[docu['tag'].str.contains('무형자산')].iloc[0, 1:]\n",
    "        \n",
    "        data = df_c[df_c['stock_code'] == code]\n",
    "\n",
    "        for i, (k,v) in enumerate(data.intangible.items()):\n",
    "            df_c.loc[k, 'intangible'] = intang[i]\n",
    "        print(f'{code}: good')\n",
    "    except:\n",
    "        re.append(code)\n",
    "print(len(re))"
   ]
  },
  {
   "cell_type": "code",
   "execution_count": null,
   "metadata": {},
   "outputs": [],
   "source": [
    "# 사업보고서 > 영업보고서\n",
    "\n",
    "re_re = []\n",
    "for code in re:\n",
    "    try:\n",
    "        lst = dart.list(code, start='2019', end='2024') # 2019-2024 모든 보고서에서 데이터 찾아오기\n",
    "        report_num = lst[(lst['report_nm'].str.contains('사업보고서')) & (lst['report_nm'].str.contains('2022'))].iloc[0, 5]\n",
    "        url = dart.sub_docs(report_num).iloc[1,1] #사업보고서 번호를 통해 url 요청\n",
    "        # html = url[url['title'].str.contains('연결재무제표')].iloc[0, 1] # url 주소\n",
    "\n",
    "        docu = pd.read_html(html)[1]\n",
    "\n",
    "        docu = docu.rename(columns={'Unnamed: 0': 'tag'})\n",
    "        intang = docu[docu['tag'].str.contains('무형자산')].iloc[0, 1:]\n",
    "        \n",
    "        data = df_c[df_c['stock_code'] == code]\n",
    "\n",
    "        for i, (k,v) in enumerate(data.intangible.items()):\n",
    "            df_c.loc[k, 'intangible'] = intang[i]\n",
    "        print(f'{code}: good')\n",
    "    except:\n",
    "        re_re.append(code)"
   ]
  },
  {
   "cell_type": "code",
   "execution_count": null,
   "metadata": {},
   "outputs": [],
   "source": [
    "df_c[df_c['intangible'] == 0]"
   ]
  },
  {
   "cell_type": "code",
   "execution_count": null,
   "metadata": {},
   "outputs": [],
   "source": [
    "# 무형자산 import 완료 # save point \n",
    "df_c.to_csv('./ESG_data_intangible.csv', encoding='utf8', index = False)"
   ]
  },
  {
   "cell_type": "markdown",
   "metadata": {},
   "source": [
    "### 현금배당성향 import"
   ]
  },
  {
   "cell_type": "code",
   "execution_count": 165,
   "metadata": {},
   "outputs": [
    {
     "name": "stdout",
     "output_type": "stream",
     "text": [
      "저장된 회사 수:  844\n",
      "누락 회사 수:  3\n"
     ]
    }
   ],
   "source": [
    "df = pd.read_csv('ESG_data_intangible.csv', index_col=0, dtype={'corp_code': str,\n",
    "                                                       'stock_code': str})\n",
    "entire_codes = []\n",
    "\n",
    "for f in glob.glob('./2022/cash_2022/*.csv'):\n",
    "    code = f.split('\\\\')[1][:8]\n",
    "    entire_codes.append(code)\n",
    "\n",
    "code_missing = [code for code in list(df['corp_code'].unique()) if code not in entire_codes]\n",
    "\n",
    "print('저장된 회사 수: ', len(entire_codes)) # 690개 데이터 존재\n",
    "print('누락 회사 수: ', len(code_missing)) # 3 개는 다시 호출할 필요 있음"
   ]
  },
  {
   "cell_type": "code",
   "execution_count": 166,
   "metadata": {},
   "outputs": [
    {
     "name": "stdout",
     "output_type": "stream",
     "text": [
      "9\n"
     ]
    }
   ],
   "source": [
    "df_s = df.copy()\n",
    "df_s = df_s.reset_index()\n",
    "\n",
    "df_s['ratio'] = np.nan\n",
    "\n",
    "# 1단계 csv 파일 합치기\n",
    "re_codes= []\n",
    "for code in df_s['corp_code'].unique():\n",
    "    try:\n",
    "        docu = pd.read_csv(f'./2022/cash_2022/{code}_2022.csv', index_col=0)\n",
    "        cash = docu[docu['se']=='(연결)현금배당성향(%)'].iloc[0, 2:].values\n",
    "        \n",
    "        data = df_s[df_s['corp_code'] == code]\n",
    "\n",
    "        for i, (k,v) in enumerate(data.ratio.items()):\n",
    "            df_s.loc[k, 'ratio'] = cash[i]\n",
    "    except:\n",
    "        re_codes.append(code)\n",
    "print(sum(df_s['ratio'].isna()))"
   ]
  },
  {
   "cell_type": "code",
   "execution_count": 167,
   "metadata": {},
   "outputs": [
    {
     "name": "stdout",
     "output_type": "stream",
     "text": [
      "00115287\n",
      "00545929\n",
      "00530185\n",
      "1\n"
     ]
    }
   ],
   "source": [
    "# 2단계: 함수 불러오기\n",
    "# api_key = '1ee244d6168bde153cb2d45463d71139f567d1f4'\n",
    "api_key ='4fb4acc1d37b1dae74040e64a9674e018ccfd7fe'\n",
    "dart = OpenDartReader(api_key)\n",
    "\n",
    "for code in re_codes:\n",
    "    print(code)\n",
    "    docu = dart.report(code, '배당', 2022)\n",
    "    \n",
    "    cash = docu[docu['se'].str.contains('현금배당성향')].iloc[0, -3:].values\n",
    "        \n",
    "    data = df_s[df_s['corp_code'] == code]\n",
    "\n",
    "    for i, (k,v) in enumerate(data.ratio.items()):\n",
    "        df_s.loc[k, 'ratio'] = cash[i]\n",
    "        \n",
    "print(sum(df_s['ratio'].isna())) # ratio 반영 완료 # nan 값 하나가 재무재표에 있음"
   ]
  },
  {
   "cell_type": "code",
   "execution_count": 168,
   "metadata": {},
   "outputs": [
    {
     "name": "stdout",
     "output_type": "stream",
     "text": [
      "862\n"
     ]
    }
   ],
   "source": [
    "print(sum(df_s['ratio']=='-')) # 862\n",
    "\n",
    "df_s['ratio'] = df_s['ratio'].replace('-', np.nan) # '-'를 nan값으로 변환\n",
    "df_s['ratio'] = df_s['ratio'].replace('#######', np.nan) # '#######'를 nan값으로 변환\n",
    "df_s['ratio'] = df_s['ratio'].astype(float) # error\n",
    "\n",
    "# ratio 반영 완료 # nan 값 다수 존재 -> 대체로 평균을 사용할 가능성"
   ]
  },
  {
   "cell_type": "code",
   "execution_count": 169,
   "metadata": {},
   "outputs": [
    {
     "name": "stdout",
     "output_type": "stream",
     "text": [
      "279\n"
     ]
    }
   ],
   "source": [
    "# pre_ratio\n",
    "df_s['pre_ratio'] = np.nan\n",
    "\n",
    "for code in df_s['corp_code'].unique():\n",
    "    ratio_index = df_s[df_s['corp_code'] == code]['ratio'].index\n",
    "    v = df_s[df_s['corp_code'] == code]['ratio'].values\n",
    "    \n",
    "    docu = dart.report(code, '배당', 2020)    \n",
    "    v_2019 = docu[docu['se']=='(연결)현금배당성향(%)'].iloc[0, -2] \n",
    "    \n",
    "    df_s.loc[ratio_index[0], 'pre_ratio'] = v[1]\n",
    "    df_s.loc[ratio_index[1], 'pre_ratio'] = v[2]\n",
    "    df_s.loc[ratio_index[2], 'pre_ratio'] = v_2019\n",
    "\n",
    "print(sum(df_s['pre_ratio'] =='-')) # 279"
   ]
  },
  {
   "cell_type": "code",
   "execution_count": 170,
   "metadata": {},
   "outputs": [],
   "source": [
    "df_s['pre_ratio'] = df_s['pre_ratio'].replace('-', np.nan)\n",
    "df_s['pre_ratio'] = df_s['pre_ratio'].replace('#######', np.nan)\n",
    "df_s['pre_ratio'] = df_s['pre_ratio'].astype(float)"
   ]
  },
  {
   "cell_type": "code",
   "execution_count": 171,
   "metadata": {},
   "outputs": [
    {
     "data": {
      "text/html": [
       "<div>\n",
       "<style scoped>\n",
       "    .dataframe tbody tr th:only-of-type {\n",
       "        vertical-align: middle;\n",
       "    }\n",
       "\n",
       "    .dataframe tbody tr th {\n",
       "        vertical-align: top;\n",
       "    }\n",
       "\n",
       "    .dataframe thead th {\n",
       "        text-align: right;\n",
       "    }\n",
       "</style>\n",
       "<table border=\"1\" class=\"dataframe\">\n",
       "  <thead>\n",
       "    <tr style=\"text-align: right;\">\n",
       "      <th></th>\n",
       "      <th>회사명</th>\n",
       "      <th>corp_code</th>\n",
       "      <th>stock_code</th>\n",
       "      <th>연도</th>\n",
       "      <th>ESG</th>\n",
       "      <th>재무제표</th>\n",
       "      <th>부채총계</th>\n",
       "      <th>영업이익</th>\n",
       "      <th>법인세차감전 순이익</th>\n",
       "      <th>intangible</th>\n",
       "      <th>ratio</th>\n",
       "      <th>pre_ratio</th>\n",
       "    </tr>\n",
       "  </thead>\n",
       "  <tbody>\n",
       "    <tr>\n",
       "      <th>143</th>\n",
       "      <td>효성화학</td>\n",
       "      <td>01316236</td>\n",
       "      <td>298000</td>\n",
       "      <td>2022</td>\n",
       "      <td>A</td>\n",
       "      <td>3,131,118,899,043</td>\n",
       "      <td>3,016,501,814,422</td>\n",
       "      <td>-336,727,239,866</td>\n",
       "      <td>-448,250,891,421</td>\n",
       "      <td>32207264388</td>\n",
       "      <td>NaN</td>\n",
       "      <td>NaN</td>\n",
       "    </tr>\n",
       "    <tr>\n",
       "      <th>933</th>\n",
       "      <td>효성화학</td>\n",
       "      <td>01316236</td>\n",
       "      <td>298000</td>\n",
       "      <td>2021</td>\n",
       "      <td>A</td>\n",
       "      <td>3,044,049,458,130</td>\n",
       "      <td>2,554,748,674,581</td>\n",
       "      <td>136,574,029,923</td>\n",
       "      <td>102,372,123,415</td>\n",
       "      <td>33970502392.0</td>\n",
       "      <td>NaN</td>\n",
       "      <td>NaN</td>\n",
       "    </tr>\n",
       "    <tr>\n",
       "      <th>1723</th>\n",
       "      <td>효성화학</td>\n",
       "      <td>01316236</td>\n",
       "      <td>298000</td>\n",
       "      <td>2020</td>\n",
       "      <td>A</td>\n",
       "      <td>2,417,365,034,469</td>\n",
       "      <td>2,015,011,905,019</td>\n",
       "      <td>60,927,548,911</td>\n",
       "      <td>3,421,353,521</td>\n",
       "      <td>23126250265</td>\n",
       "      <td>NaN</td>\n",
       "      <td>15.6</td>\n",
       "    </tr>\n",
       "  </tbody>\n",
       "</table>\n",
       "</div>"
      ],
      "text/plain": [
       "       회사명 corp_code stock_code    연도 ESG               재무제표  \\\n",
       "143   효성화학  01316236     298000  2022   A  3,131,118,899,043   \n",
       "933   효성화학  01316236     298000  2021   A  3,044,049,458,130   \n",
       "1723  효성화학  01316236     298000  2020   A  2,417,365,034,469   \n",
       "\n",
       "                   부채총계              영업이익        법인세차감전 순이익     intangible  \\\n",
       "143   3,016,501,814,422  -336,727,239,866  -448,250,891,421    32207264388   \n",
       "933   2,554,748,674,581   136,574,029,923   102,372,123,415  33970502392.0   \n",
       "1723  2,015,011,905,019    60,927,548,911     3,421,353,521    23126250265   \n",
       "\n",
       "      ratio  pre_ratio  \n",
       "143     NaN        NaN  \n",
       "933     NaN        NaN  \n",
       "1723    NaN       15.6  "
      ]
     },
     "execution_count": 171,
     "metadata": {},
     "output_type": "execute_result"
    }
   ],
   "source": [
    "# Final checking # 298000 # 효성화학 문제\n",
    "lst = dart.list('298000', start='2020', end='2024') # 2019-2024 모든 보고서에서 데이터 찾아오기\n",
    "report_num = lst[(lst['report_nm'].str.contains('사업보고서')) & (lst['report_nm'].str.contains('2022'))].iloc[0, 5]\n",
    "\n",
    "url = dart.sub_docs(report_num) #사업보고서 번호를 통해 url 요청\n",
    "html = url[url['title'].str.contains('연결재무제표')].iloc[0, 1] # url 주소\n",
    "\n",
    "docu = pd.read_html(html)[1]\n",
    "\n",
    "docu = docu.rename(columns={'Unnamed: 0': 'tag'})\n",
    "intang = docu[docu['tag'] == '무형자산'].iloc[0, 1:].values\n",
    "\n",
    "data = df_s[df_s['stock_code']=='298000']\n",
    "d_index = data['intangible'].index\n",
    "\n",
    "df_s.loc[d_index[0], 'intangible'] = intang[0]\n",
    "df_s.loc[d_index[1], 'intangible'] = intang[1]\n",
    "df_s.loc[d_index[2], 'intangible'] = intang[2]\n",
    "\n",
    "df_s[df_s['stock_code']=='298000']"
   ]
  },
  {
   "cell_type": "code",
   "execution_count": 172,
   "metadata": {},
   "outputs": [
    {
     "name": "stdout",
     "output_type": "stream",
     "text": [
      "<class 'pandas.core.frame.DataFrame'>\n",
      "RangeIndex: 2370 entries, 0 to 2369\n",
      "Data columns (total 12 columns):\n",
      " #   Column      Non-Null Count  Dtype  \n",
      "---  ------      --------------  -----  \n",
      " 0   회사명         2370 non-null   object \n",
      " 1   corp_code   2370 non-null   object \n",
      " 2   stock_code  2370 non-null   object \n",
      " 3   연도          2370 non-null   int64  \n",
      " 4   ESG         2370 non-null   object \n",
      " 5   재무제표        2370 non-null   object \n",
      " 6   부채총계        2370 non-null   object \n",
      " 7   영업이익        2370 non-null   object \n",
      " 8   법인세차감전 순이익  2370 non-null   object \n",
      " 9   intangible  2369 non-null   object \n",
      " 10  ratio       1502 non-null   float64\n",
      " 11  pre_ratio   1506 non-null   float64\n",
      "dtypes: float64(2), int64(1), object(9)\n",
      "memory usage: 222.3+ KB\n"
     ]
    }
   ],
   "source": [
    "df_s.info() \n",
    "# intangible: 무형자산를 nan값으로 공시한 회사 있음 2019\n",
    "# ratio, pre_ratio는 '-' 값 많음"
   ]
  },
  {
   "cell_type": "code",
   "execution_count": 173,
   "metadata": {},
   "outputs": [],
   "source": [
    "# intangible, ratio, pre_ratio 완료\n",
    "df_s.to_csv('esg_data_intang_ratio.csv', encoding='utf8')"
   ]
  }
 ],
 "metadata": {
  "kernelspec": {
   "display_name": "Python 3",
   "language": "python",
   "name": "python3"
  },
  "language_info": {
   "codemirror_mode": {
    "name": "ipython",
    "version": 3
   },
   "file_extension": ".py",
   "mimetype": "text/x-python",
   "name": "python",
   "nbconvert_exporter": "python",
   "pygments_lexer": "ipython3",
   "version": "3.10.5"
  }
 },
 "nbformat": 4,
 "nbformat_minor": 2
}
