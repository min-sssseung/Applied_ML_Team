{
 "cells": [
  {
   "cell_type": "code",
   "execution_count": 7,
   "metadata": {},
   "outputs": [],
   "source": [
    "import OpenDartReader\n",
    "\n",
    "api_key = '4fb4acc1d37b1dae74040e64a9674e018ccfd7fe'\n",
    "\n",
    "dart = OpenDartReader(api_key)"
   ]
  },
  {
   "cell_type": "code",
   "execution_count": 2,
   "metadata": {},
   "outputs": [
    {
     "data": {
      "application/vnd.jupyter.widget-view+json": {
       "model_id": "747842e0f9c848cc9867420304e20ff4",
       "version_major": 2,
       "version_minor": 0
      },
      "text/plain": [
       "Output()"
      ]
     },
     "metadata": {},
     "output_type": "display_data"
    },
    {
     "data": {
      "application/vnd.jupyter.widget-view+json": {
       "model_id": "6d66f1c16cbd4fbe90a406cc6f7b2ea8",
       "version_major": 2,
       "version_minor": 0
      },
      "text/plain": [
       "Output()"
      ]
     },
     "metadata": {},
     "output_type": "display_data"
    },
    {
     "data": {
      "application/vnd.jupyter.widget-view+json": {
       "model_id": "077825c1c4b94264aa87ff8be4bfca36",
       "version_major": 2,
       "version_minor": 0
      },
      "text/plain": [
       "Output()"
      ]
     },
     "metadata": {},
     "output_type": "display_data"
    }
   ],
   "source": [
    "import dart_fss\n",
    "\n",
    "api_key = '4fb4acc1d37b1dae74040e64a9674e018ccfd7fe'\n",
    "\n",
    "dart_fss.set_api_key(api_key=api_key)\n",
    "corp_list = dart_fss.get_corp_list()\n"
   ]
  },
  {
   "cell_type": "code",
   "execution_count": 3,
   "metadata": {},
   "outputs": [],
   "source": [
    "import pandas as pd\n",
    "\n",
    "corp_name = []\n",
    "error = []\n",
    "df = pd.read_csv('f1_1049.csv')"
   ]
  },
  {
   "cell_type": "code",
   "execution_count": 4,
   "metadata": {},
   "outputs": [],
   "source": [
    "dart_code = df[df['y']=='0']['0']\n",
    "\n",
    "def add_zero(c):\n",
    "    if len(str(c)) < 6:\n",
    "        c = (6-len(str(c))) * '0' + str(c)\n",
    "    return c\n",
    "\n",
    "dart_code = list(map(add_zero,dart_code))\n"
   ]
  },
  {
   "cell_type": "code",
   "execution_count": 8,
   "metadata": {},
   "outputs": [],
   "source": [
    "corp_code = []\n",
    "weird = []\n",
    "for code in dart_code:\n",
    "    try:\n",
    "        corp_code.append(dart.company(str(code))['corp_code'])\n",
    "    except:\n",
    "        weird.append(code)"
   ]
  },
  {
   "cell_type": "code",
   "execution_count": 9,
   "metadata": {},
   "outputs": [],
   "source": [
    "with open('corp_code.txt','w') as file:\n",
    "    for code in corp_code:\n",
    "        file.write(code)\n",
    "        file.write('\\n')"
   ]
  },
  {
   "cell_type": "code",
   "execution_count": null,
   "metadata": {},
   "outputs": [],
   "source": [
    "columns = ['code','y','pred_y']\n",
    "failed = []\n",
    "dataframe = pd.DataFrame(columns = columns)\n",
    "\n",
    "for c_code in corp_code:\n",
    "    try:\n",
    "        corp = corp_list.find_by_corp_code(c_code)\n",
    "        fs = corp.extract_fs('20220101')\n",
    "        data = fs[0].loc[fs[0]['Statement of financial position(Unit: KWR)','label_ko'].to_list().index('자산총계')]\n",
    "        y = data.iloc[2]\n",
    "        pred_y = data.iloc[3]\n",
    "        dataframe.loc[len(dataframe)] = [c_code,y,pred_y]\n",
    "    except:\n",
    "        failed.append(c_code)\n",
    "    finally:\n",
    "        print(len(dataframe),c_code)"
   ]
  },
  {
   "cell_type": "code",
   "execution_count": 11,
   "metadata": {},
   "outputs": [],
   "source": [
    "dataframe.to_csv('dataframe.csv',index=False)"
   ]
  }
 ],
 "metadata": {
  "kernelspec": {
   "display_name": "Python 3",
   "language": "python",
   "name": "python3"
  },
  "language_info": {
   "codemirror_mode": {
    "name": "ipython",
    "version": 3
   },
   "file_extension": ".py",
   "mimetype": "text/x-python",
   "name": "python",
   "nbconvert_exporter": "python",
   "pygments_lexer": "ipython3",
   "version": "3.11.6"
  },
  "orig_nbformat": 4
 },
 "nbformat": 4,
 "nbformat_minor": 2
}
