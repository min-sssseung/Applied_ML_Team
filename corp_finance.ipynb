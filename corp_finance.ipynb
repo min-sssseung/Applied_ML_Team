{
 "cells": [
  {
   "cell_type": "code",
   "execution_count": 7,
   "metadata": {},
   "outputs": [],
   "source": [
    "import OpenDartReader\n",
    "\n",
    "api_key = '4fb4acc1d37b1dae74040e64a9674e018ccfd7fe'\n",
    "\n",
    "dart = OpenDartReader(api_key)"
   ]
  },
  {
   "cell_type": "code",
   "execution_count": 2,
   "metadata": {},
   "outputs": [
    {
     "data": {
      "application/vnd.jupyter.widget-view+json": {
       "model_id": "747842e0f9c848cc9867420304e20ff4",
       "version_major": 2,
       "version_minor": 0
      },
      "text/plain": [
       "Output()"
      ]
     },
     "metadata": {},
     "output_type": "display_data"
    },
    {
     "data": {
      "application/vnd.jupyter.widget-view+json": {
       "model_id": "6d66f1c16cbd4fbe90a406cc6f7b2ea8",
       "version_major": 2,
       "version_minor": 0
      },
      "text/plain": [
       "Output()"
      ]
     },
     "metadata": {},
     "output_type": "display_data"
    },
    {
     "data": {
      "application/vnd.jupyter.widget-view+json": {
       "model_id": "077825c1c4b94264aa87ff8be4bfca36",
       "version_major": 2,
       "version_minor": 0
      },
      "text/plain": [
       "Output()"
      ]
     },
     "metadata": {},
     "output_type": "display_data"
    }
   ],
   "source": [
    "import dart_fss\n",
    "\n",
    "api_key = '4fb4acc1d37b1dae74040e64a9674e018ccfd7fe'\n",
    "\n",
    "dart_fss.set_api_key(api_key=api_key)\n",
    "corp_list = dart_fss.get_corp_list()\n"
   ]
  },
  {
   "cell_type": "code",
   "execution_count": 3,
   "metadata": {},
   "outputs": [],
   "source": [
    "import pandas as pd\n",
    "\n",
    "corp_name = []\n",
    "error = []\n",
    "df = pd.read_csv('f1_1049.csv')"
   ]
  },
  {
   "cell_type": "code",
   "execution_count": 4,
   "metadata": {},
   "outputs": [],
   "source": [
    "dart_code = df[df['y']=='0']['0']\n",
    "\n",
    "def add_zero(c):\n",
    "    if len(str(c)) < 6:\n",
    "        c = (6-len(str(c))) * '0' + str(c)\n",
    "    return c\n",
    "\n",
    "dart_code = list(map(add_zero,dart_code))\n"
   ]
  },
  {
   "cell_type": "code",
   "execution_count": 8,
   "metadata": {},
   "outputs": [],
   "source": [
    "corp_code = []\n",
    "weird = []\n",
    "for code in dart_code:\n",
    "    try:\n",
    "        corp_code.append(dart.company(str(code))['corp_code'])\n",
    "    except:\n",
    "        weird.append(code)"
   ]
  },
  {
   "cell_type": "code",
   "execution_count": 9,
   "metadata": {},
   "outputs": [],
   "source": [
    "with open('corp_code.txt','w') as file:\n",
    "    for code in corp_code:\n",
    "        file.write(code)\n",
    "        file.write('\\n')"
   ]
  },
  {
   "cell_type": "code",
   "execution_count": 10,
   "metadata": {},
   "outputs": [
    {
     "data": {
      "application/vnd.jupyter.widget-view+json": {
       "model_id": "fc561261f2344101909360c177a8bf0e",
       "version_major": 2,
       "version_minor": 0
      },
      "text/plain": [
       "Annual reports:   0%|          | 0/2 [00:00<?, ?report/s]"
      ]
     },
     "metadata": {},
     "output_type": "display_data"
    },
    {
     "name": "stdout",
     "output_type": "stream",
     "text": [
      "1 00858364\n"
     ]
    },
    {
     "data": {
      "application/vnd.jupyter.widget-view+json": {
       "model_id": "c10ef43f62bc464b9b4095d92e0ae9dc",
       "version_major": 2,
       "version_minor": 0
      },
      "text/plain": [
       "Annual reports:   0%|          | 0/2 [00:00<?, ?report/s]"
      ]
     },
     "metadata": {},
     "output_type": "display_data"
    },
    {
     "name": "stdout",
     "output_type": "stream",
     "text": [
      "2 00115694\n"
     ]
    },
    {
     "data": {
      "application/vnd.jupyter.widget-view+json": {
       "model_id": "d9d292f2c5fa45d593dd81ea6b913cda",
       "version_major": 2,
       "version_minor": 0
      },
      "text/plain": [
       "Annual reports:   0%|          | 0/2 [00:00<?, ?report/s]"
      ]
     },
     "metadata": {},
     "output_type": "display_data"
    },
    {
     "name": "stdout",
     "output_type": "stream",
     "text": [
      "3 00159102\n"
     ]
    },
    {
     "data": {
      "application/vnd.jupyter.widget-view+json": {
       "model_id": "56682dfbe3ab4356a1751b2ed797f6da",
       "version_major": 2,
       "version_minor": 0
      },
      "text/plain": [
       "Annual reports:   0%|          | 0/2 [00:00<?, ?report/s]"
      ]
     },
     "metadata": {},
     "output_type": "display_data"
    },
    {
     "name": "stdout",
     "output_type": "stream",
     "text": [
      "4 00878915\n"
     ]
    },
    {
     "data": {
      "application/vnd.jupyter.widget-view+json": {
       "model_id": "de62504b33be44aaa5b2328e1639f02e",
       "version_major": 2,
       "version_minor": 0
      },
      "text/plain": [
       "Annual reports:   0%|          | 0/2 [00:00<?, ?report/s]"
      ]
     },
     "metadata": {},
     "output_type": "display_data"
    },
    {
     "name": "stdout",
     "output_type": "stream",
     "text": [
      "5 00980122\n"
     ]
    },
    {
     "data": {
      "application/vnd.jupyter.widget-view+json": {
       "model_id": "58d424dd43c449c5a688f55f0ece0579",
       "version_major": 2,
       "version_minor": 0
      },
      "text/plain": [
       "Annual reports:   0%|          | 0/2 [00:00<?, ?report/s]"
      ]
     },
     "metadata": {},
     "output_type": "display_data"
    },
    {
     "name": "stdout",
     "output_type": "stream",
     "text": [
      "6 00688996\n"
     ]
    },
    {
     "data": {
      "application/vnd.jupyter.widget-view+json": {
       "model_id": "92ec93be11a24f269cf4d6936f877de2",
       "version_major": 2,
       "version_minor": 0
      },
      "text/plain": [
       "Annual reports:   0%|          | 0/2 [00:00<?, ?report/s]"
      ]
     },
     "metadata": {},
     "output_type": "display_data"
    },
    {
     "name": "stdout",
     "output_type": "stream",
     "text": [
      "7 00120216\n"
     ]
    },
    {
     "data": {
      "application/vnd.jupyter.widget-view+json": {
       "model_id": "0d219612a99c4f5ab570d19214516c06",
       "version_major": 2,
       "version_minor": 0
      },
      "text/plain": [
       "Annual reports:   0%|          | 0/2 [00:00<?, ?report/s]"
      ]
     },
     "metadata": {},
     "output_type": "display_data"
    },
    {
     "name": "stdout",
     "output_type": "stream",
     "text": [
      "8 00120182\n"
     ]
    },
    {
     "data": {
      "application/vnd.jupyter.widget-view+json": {
       "model_id": "e8d80687e0c449659c77b47a447977dd",
       "version_major": 2,
       "version_minor": 0
      },
      "text/plain": [
       "Annual reports:   0%|          | 0/2 [00:00<?, ?report/s]"
      ]
     },
     "metadata": {},
     "output_type": "display_data"
    },
    {
     "name": "stdout",
     "output_type": "stream",
     "text": [
      "9 01596425\n"
     ]
    },
    {
     "data": {
      "application/vnd.jupyter.widget-view+json": {
       "model_id": "29dac2349e05455f81d860180965d32e",
       "version_major": 2,
       "version_minor": 0
      },
      "text/plain": [
       "Annual reports:   0%|          | 0/2 [00:00<?, ?report/s]"
      ]
     },
     "metadata": {},
     "output_type": "display_data"
    },
    {
     "name": "stdout",
     "output_type": "stream",
     "text": [
      "10 00131850\n"
     ]
    },
    {
     "data": {
      "application/vnd.jupyter.widget-view+json": {
       "model_id": "f92bb99d973846e08b1d69ce52bd16ba",
       "version_major": 2,
       "version_minor": 0
      },
      "text/plain": [
       "Annual reports:   0%|          | 0/2 [00:00<?, ?report/s]"
      ]
     },
     "metadata": {},
     "output_type": "display_data"
    },
    {
     "name": "stdout",
     "output_type": "stream",
     "text": [
      "11 01030132\n"
     ]
    },
    {
     "data": {
      "application/vnd.jupyter.widget-view+json": {
       "model_id": "451b385cd4b54c3c8785c769f54195aa",
       "version_major": 2,
       "version_minor": 0
      },
      "text/plain": [
       "Annual reports:   0%|          | 0/2 [00:00<?, ?report/s]"
      ]
     },
     "metadata": {},
     "output_type": "display_data"
    },
    {
     "name": "stdout",
     "output_type": "stream",
     "text": [
      "12 01028164\n"
     ]
    },
    {
     "data": {
      "application/vnd.jupyter.widget-view+json": {
       "model_id": "daf35a0d921a44f09a4b897d4ce03008",
       "version_major": 2,
       "version_minor": 0
      },
      "text/plain": [
       "Annual reports:   0%|          | 0/2 [00:00<?, ?report/s]"
      ]
     },
     "metadata": {},
     "output_type": "display_data"
    },
    {
     "name": "stdout",
     "output_type": "stream",
     "text": [
      "13 00113359\n"
     ]
    },
    {
     "data": {
      "application/vnd.jupyter.widget-view+json": {
       "model_id": "b3c27ca6aa944a5d8f35a8d07419786b",
       "version_major": 2,
       "version_minor": 0
      },
      "text/plain": [
       "Annual reports:   0%|          | 0/2 [00:00<?, ?report/s]"
      ]
     },
     "metadata": {},
     "output_type": "display_data"
    },
    {
     "name": "stdout",
     "output_type": "stream",
     "text": [
      "14 00386937\n"
     ]
    },
    {
     "data": {
      "application/vnd.jupyter.widget-view+json": {
       "model_id": "a912ed50773f4b0f8d277852d74ecb29",
       "version_major": 2,
       "version_minor": 0
      },
      "text/plain": [
       "Annual reports:   0%|          | 0/2 [00:00<?, ?report/s]"
      ]
     },
     "metadata": {},
     "output_type": "display_data"
    },
    {
     "name": "stdout",
     "output_type": "stream",
     "text": [
      "15 00149646\n"
     ]
    },
    {
     "data": {
      "application/vnd.jupyter.widget-view+json": {
       "model_id": "4fdc87d520ab422ba1e577fed59b44d7",
       "version_major": 2,
       "version_minor": 0
      },
      "text/plain": [
       "Annual reports:   0%|          | 0/2 [00:00<?, ?report/s]"
      ]
     },
     "metadata": {},
     "output_type": "display_data"
    },
    {
     "name": "stdout",
     "output_type": "stream",
     "text": [
      "16 00651017\n"
     ]
    },
    {
     "data": {
      "application/vnd.jupyter.widget-view+json": {
       "model_id": "29a84c4cbd384fe88497316b6961317e",
       "version_major": 2,
       "version_minor": 0
      },
      "text/plain": [
       "Annual reports:   0%|          | 0/2 [00:00<?, ?report/s]"
      ]
     },
     "metadata": {},
     "output_type": "display_data"
    },
    {
     "name": "stdout",
     "output_type": "stream",
     "text": [
      "16 00176835\n"
     ]
    },
    {
     "data": {
      "application/vnd.jupyter.widget-view+json": {
       "model_id": "779bbab944694d31b6778a8ba9279867",
       "version_major": 2,
       "version_minor": 0
      },
      "text/plain": [
       "Annual reports:   0%|          | 0/2 [00:00<?, ?report/s]"
      ]
     },
     "metadata": {},
     "output_type": "display_data"
    },
    {
     "name": "stdout",
     "output_type": "stream",
     "text": [
      "17 00156859\n"
     ]
    },
    {
     "data": {
      "application/vnd.jupyter.widget-view+json": {
       "model_id": "543a23eb5320480fa97c039052307664",
       "version_major": 2,
       "version_minor": 0
      },
      "text/plain": [
       "Annual reports:   0%|          | 0/2 [00:00<?, ?report/s]"
      ]
     },
     "metadata": {},
     "output_type": "display_data"
    },
    {
     "name": "stdout",
     "output_type": "stream",
     "text": [
      "18 00109019\n"
     ]
    },
    {
     "data": {
      "application/vnd.jupyter.widget-view+json": {
       "model_id": "d3e67f9460db4708b9a5ca265dcd2995",
       "version_major": 2,
       "version_minor": 0
      },
      "text/plain": [
       "Annual reports:   0%|          | 0/2 [00:00<?, ?report/s]"
      ]
     },
     "metadata": {},
     "output_type": "display_data"
    },
    {
     "name": "stdout",
     "output_type": "stream",
     "text": [
      "19 00110893\n"
     ]
    },
    {
     "data": {
      "application/vnd.jupyter.widget-view+json": {
       "model_id": "605c2e692427460ea5dd376f40758de5",
       "version_major": 2,
       "version_minor": 0
      },
      "text/plain": [
       "Annual reports:   0%|          | 0/2 [00:00<?, ?report/s]"
      ]
     },
     "metadata": {},
     "output_type": "display_data"
    },
    {
     "name": "stderr",
     "output_type": "stream",
     "text": [
      "Traceback (most recent call last):\n",
      "  File \"C:\\Users\\pmsda\\AppData\\Local\\Packages\\PythonSoftwareFoundation.Python.3.11_qbz5n2kfra8p0\\LocalCache\\local-packages\\Python311\\site-packages\\dart_fss\\fs\\extract.py\", line 1433, in extract\n",
      "    statements = analyze_report(report=report,\n",
      "                 ^^^^^^^^^^^^^^^^^^^^^^^^^^^^^\n",
      "  File \"C:\\Users\\pmsda\\AppData\\Local\\Packages\\PythonSoftwareFoundation.Python.3.11_qbz5n2kfra8p0\\LocalCache\\local-packages\\Python311\\site-packages\\dart_fss\\fs\\extract.py\", line 1276, in analyze_report\n",
      "    raise NotFoundConsolidated('Could not find consolidated financial statements')\n",
      "dart_fss.errors.errors.NotFoundConsolidated: Could not find consolidated financial statements\n",
      "C:\\Users\\pmsda\\AppData\\Local\\Packages\\PythonSoftwareFoundation.Python.3.11_qbz5n2kfra8p0\\LocalCache\\local-packages\\Python311\\site-packages\\dart_fss\\fs\\extract.py:1462: RuntimeWarning: Unable to extract financial statements: {'rcp_no': '20230711000241', 'corp_code': '00428729', 'corp_name': '대호에이엘', 'stock_code': '069460', 'corp_cls': 'Y', 'report_nm': '[기재정정]사업보고서 (2022.12)', 'flr_nm': '대호에이엘', 'rcept_dt': '20230711', 'rm': ''}.\n",
      "  warnings.warn(warnings_text, RuntimeWarning)\n",
      "Traceback (most recent call last):\n",
      "  File \"C:\\Users\\pmsda\\AppData\\Local\\Packages\\PythonSoftwareFoundation.Python.3.11_qbz5n2kfra8p0\\LocalCache\\local-packages\\Python311\\site-packages\\dart_fss\\fs\\extract.py\", line 1433, in extract\n",
      "    statements = analyze_report(report=report,\n",
      "                 ^^^^^^^^^^^^^^^^^^^^^^^^^^^^^\n",
      "  File \"C:\\Users\\pmsda\\AppData\\Local\\Packages\\PythonSoftwareFoundation.Python.3.11_qbz5n2kfra8p0\\LocalCache\\local-packages\\Python311\\site-packages\\dart_fss\\fs\\extract.py\", line 1276, in analyze_report\n",
      "    raise NotFoundConsolidated('Could not find consolidated financial statements')\n",
      "dart_fss.errors.errors.NotFoundConsolidated: Could not find consolidated financial statements\n",
      "C:\\Users\\pmsda\\AppData\\Local\\Packages\\PythonSoftwareFoundation.Python.3.11_qbz5n2kfra8p0\\LocalCache\\local-packages\\Python311\\site-packages\\dart_fss\\fs\\extract.py:1462: RuntimeWarning: Unable to extract financial statements: {'rcp_no': '20220316000652', 'corp_code': '00428729', 'corp_name': '대호에이엘', 'stock_code': '069460', 'corp_cls': 'Y', 'report_nm': '사업보고서 (2021.12)', 'flr_nm': '대호에이엘', 'rcept_dt': '20220316', 'rm': ''}.\n",
      "  warnings.warn(warnings_text, RuntimeWarning)\n"
     ]
    },
    {
     "name": "stdout",
     "output_type": "stream",
     "text": [
      "19 00428729\n"
     ]
    },
    {
     "data": {
      "application/vnd.jupyter.widget-view+json": {
       "model_id": "d605fcbdefbb40bda9454394c4e94186",
       "version_major": 2,
       "version_minor": 0
      },
      "text/plain": [
       "Annual reports:   0%|          | 0/2 [00:00<?, ?report/s]"
      ]
     },
     "metadata": {},
     "output_type": "display_data"
    },
    {
     "name": "stdout",
     "output_type": "stream",
     "text": [
      "19 01214743\n"
     ]
    },
    {
     "data": {
      "application/vnd.jupyter.widget-view+json": {
       "model_id": "657ac2ea924146f1866590bf1be9cf0c",
       "version_major": 2,
       "version_minor": 0
      },
      "text/plain": [
       "Annual reports:   0%|          | 0/2 [00:00<?, ?report/s]"
      ]
     },
     "metadata": {},
     "output_type": "display_data"
    },
    {
     "name": "stdout",
     "output_type": "stream",
     "text": [
      "19 00791209\n"
     ]
    },
    {
     "data": {
      "application/vnd.jupyter.widget-view+json": {
       "model_id": "768379232f984c069b1276309fbef32a",
       "version_major": 2,
       "version_minor": 0
      },
      "text/plain": [
       "Annual reports:   0%|          | 0/2 [00:00<?, ?report/s]"
      ]
     },
     "metadata": {},
     "output_type": "display_data"
    },
    {
     "name": "stdout",
     "output_type": "stream",
     "text": [
      "19 01010110\n"
     ]
    },
    {
     "data": {
      "application/vnd.jupyter.widget-view+json": {
       "model_id": "0c966c4060024ed9a7cadb52ed74c544",
       "version_major": 2,
       "version_minor": 0
      },
      "text/plain": [
       "Annual reports:   0%|          | 0/2 [00:00<?, ?report/s]"
      ]
     },
     "metadata": {},
     "output_type": "display_data"
    },
    {
     "name": "stdout",
     "output_type": "stream",
     "text": [
      "19 00172291\n"
     ]
    },
    {
     "data": {
      "application/vnd.jupyter.widget-view+json": {
       "model_id": "532edf47ba264d8bbe4745cee97100b4",
       "version_major": 2,
       "version_minor": 0
      },
      "text/plain": [
       "Annual reports:   0%|          | 0/2 [00:00<?, ?report/s]"
      ]
     },
     "metadata": {},
     "output_type": "display_data"
    },
    {
     "name": "stdout",
     "output_type": "stream",
     "text": [
      "19 01061558\n"
     ]
    },
    {
     "data": {
      "application/vnd.jupyter.widget-view+json": {
       "model_id": "7835c2aa7fa74a83a45c4537ee0e58bb",
       "version_major": 2,
       "version_minor": 0
      },
      "text/plain": [
       "Annual reports:   0%|          | 0/2 [00:00<?, ?report/s]"
      ]
     },
     "metadata": {},
     "output_type": "display_data"
    },
    {
     "name": "stdout",
     "output_type": "stream",
     "text": [
      "19 00114093\n"
     ]
    },
    {
     "data": {
      "application/vnd.jupyter.widget-view+json": {
       "model_id": "9139629b31b94db4840d275efb0b2ebb",
       "version_major": 2,
       "version_minor": 0
      },
      "text/plain": [
       "Annual reports:   0%|          | 0/2 [00:00<?, ?report/s]"
      ]
     },
     "metadata": {},
     "output_type": "display_data"
    },
    {
     "name": "stdout",
     "output_type": "stream",
     "text": [
      "19 00114154\n"
     ]
    },
    {
     "data": {
      "application/vnd.jupyter.widget-view+json": {
       "model_id": "e49bfe7a43f0436399b002bbb6d40e19",
       "version_major": 2,
       "version_minor": 0
      },
      "text/plain": [
       "Annual reports:   0%|          | 0/2 [00:00<?, ?report/s]"
      ]
     },
     "metadata": {},
     "output_type": "display_data"
    },
    {
     "name": "stdout",
     "output_type": "stream",
     "text": [
      "19 00526599\n"
     ]
    },
    {
     "data": {
      "application/vnd.jupyter.widget-view+json": {
       "model_id": "847c9ab364354941a6f260d250daca23",
       "version_major": 2,
       "version_minor": 0
      },
      "text/plain": [
       "Annual reports:   0%|          | 0/2 [00:00<?, ?report/s]"
      ]
     },
     "metadata": {},
     "output_type": "display_data"
    },
    {
     "name": "stdout",
     "output_type": "stream",
     "text": [
      "19 00114552\n"
     ]
    },
    {
     "data": {
      "application/vnd.jupyter.widget-view+json": {
       "model_id": "80321539b016427083a8c770aec8009c",
       "version_major": 2,
       "version_minor": 0
      },
      "text/plain": [
       "Annual reports:   0%|          | 0/2 [00:00<?, ?report/s]"
      ]
     },
     "metadata": {},
     "output_type": "display_data"
    },
    {
     "name": "stdout",
     "output_type": "stream",
     "text": [
      "19 00114792\n"
     ]
    },
    {
     "data": {
      "application/vnd.jupyter.widget-view+json": {
       "model_id": "45d05cb332f94feca0e61f278e132ac0",
       "version_major": 2,
       "version_minor": 0
      },
      "text/plain": [
       "Annual reports:   0%|          | 0/2 [00:00<?, ?report/s]"
      ]
     },
     "metadata": {},
     "output_type": "display_data"
    },
    {
     "name": "stdout",
     "output_type": "stream",
     "text": [
      "19 00114808\n"
     ]
    },
    {
     "data": {
      "application/vnd.jupyter.widget-view+json": {
       "model_id": "336d3398abc44af988048b49e6a6063c",
       "version_major": 2,
       "version_minor": 0
      },
      "text/plain": [
       "Annual reports:   0%|          | 0/2 [00:00<?, ?report/s]"
      ]
     },
     "metadata": {},
     "output_type": "display_data"
    },
    {
     "name": "stderr",
     "output_type": "stream",
     "text": [
      "Traceback (most recent call last):\n",
      "  File \"C:\\Users\\pmsda\\AppData\\Local\\Packages\\PythonSoftwareFoundation.Python.3.11_qbz5n2kfra8p0\\LocalCache\\local-packages\\Python311\\site-packages\\dart_fss\\fs\\extract.py\", line 1433, in extract\n",
      "    statements = analyze_report(report=report,\n",
      "                 ^^^^^^^^^^^^^^^^^^^^^^^^^^^^^\n",
      "  File \"C:\\Users\\pmsda\\AppData\\Local\\Packages\\PythonSoftwareFoundation.Python.3.11_qbz5n2kfra8p0\\LocalCache\\local-packages\\Python311\\site-packages\\dart_fss\\fs\\extract.py\", line 1276, in analyze_report\n",
      "    raise NotFoundConsolidated('Could not find consolidated financial statements')\n",
      "dart_fss.errors.errors.NotFoundConsolidated: Could not find consolidated financial statements\n",
      "C:\\Users\\pmsda\\AppData\\Local\\Packages\\PythonSoftwareFoundation.Python.3.11_qbz5n2kfra8p0\\LocalCache\\local-packages\\Python311\\site-packages\\dart_fss\\fs\\extract.py:1462: RuntimeWarning: Unable to extract financial statements: {'rcp_no': '20230314001293', 'corp_code': '00115065', 'corp_name': '동남합성', 'stock_code': '023450', 'corp_cls': 'Y', 'report_nm': '사업보고서 (2022.12)', 'flr_nm': '동남합성', 'rcept_dt': '20230315', 'rm': ''}.\n",
      "  warnings.warn(warnings_text, RuntimeWarning)\n",
      "Traceback (most recent call last):\n",
      "  File \"C:\\Users\\pmsda\\AppData\\Local\\Packages\\PythonSoftwareFoundation.Python.3.11_qbz5n2kfra8p0\\LocalCache\\local-packages\\Python311\\site-packages\\dart_fss\\fs\\extract.py\", line 1433, in extract\n",
      "    statements = analyze_report(report=report,\n",
      "                 ^^^^^^^^^^^^^^^^^^^^^^^^^^^^^\n",
      "  File \"C:\\Users\\pmsda\\AppData\\Local\\Packages\\PythonSoftwareFoundation.Python.3.11_qbz5n2kfra8p0\\LocalCache\\local-packages\\Python311\\site-packages\\dart_fss\\fs\\extract.py\", line 1276, in analyze_report\n",
      "    raise NotFoundConsolidated('Could not find consolidated financial statements')\n",
      "dart_fss.errors.errors.NotFoundConsolidated: Could not find consolidated financial statements\n",
      "C:\\Users\\pmsda\\AppData\\Local\\Packages\\PythonSoftwareFoundation.Python.3.11_qbz5n2kfra8p0\\LocalCache\\local-packages\\Python311\\site-packages\\dart_fss\\fs\\extract.py:1462: RuntimeWarning: Unable to extract financial statements: {'rcp_no': '20220808000217', 'corp_code': '00115065', 'corp_name': '동남합성', 'stock_code': '023450', 'corp_cls': 'Y', 'report_nm': '[기재정정]사업보고서 (2021.12)', 'flr_nm': '동남합성', 'rcept_dt': '20220808', 'rm': ''}.\n",
      "  warnings.warn(warnings_text, RuntimeWarning)\n"
     ]
    },
    {
     "name": "stdout",
     "output_type": "stream",
     "text": [
      "19 00115065\n"
     ]
    },
    {
     "data": {
      "application/vnd.jupyter.widget-view+json": {
       "model_id": "04947ea8e4474b55b01a1c65d400cc76",
       "version_major": 2,
       "version_minor": 0
      },
      "text/plain": [
       "Annual reports:   0%|          | 0/2 [00:00<?, ?report/s]"
      ]
     },
     "metadata": {},
     "output_type": "display_data"
    },
    {
     "name": "stdout",
     "output_type": "stream",
     "text": [
      "19 00115287\n"
     ]
    },
    {
     "data": {
      "application/vnd.jupyter.widget-view+json": {
       "model_id": "2d700b0c2bdd4a03b77f015c484154cd",
       "version_major": 2,
       "version_minor": 0
      },
      "text/plain": [
       "Annual reports:   0%|          | 0/2 [00:00<?, ?report/s]"
      ]
     },
     "metadata": {},
     "output_type": "display_data"
    },
    {
     "name": "stdout",
     "output_type": "stream",
     "text": [
      "19 00115384\n"
     ]
    },
    {
     "data": {
      "application/vnd.jupyter.widget-view+json": {
       "model_id": "9dd5f88ecbb04f5187acba8d363609d9",
       "version_major": 2,
       "version_minor": 0
      },
      "text/plain": [
       "Annual reports:   0%|          | 0/2 [00:00<?, ?report/s]"
      ]
     },
     "metadata": {},
     "output_type": "display_data"
    },
    {
     "name": "stdout",
     "output_type": "stream",
     "text": [
      "19 00115612\n"
     ]
    },
    {
     "data": {
      "application/vnd.jupyter.widget-view+json": {
       "model_id": "ff70b7b7e40640abb6d5d74f464b7513",
       "version_major": 2,
       "version_minor": 0
      },
      "text/plain": [
       "Annual reports:   0%|          | 0/2 [00:00<?, ?report/s]"
      ]
     },
     "metadata": {},
     "output_type": "display_data"
    },
    {
     "name": "stdout",
     "output_type": "stream",
     "text": [
      "19 00144395\n"
     ]
    },
    {
     "data": {
      "application/vnd.jupyter.widget-view+json": {
       "model_id": "ef1d28e478b14473893ea24c12754a3e",
       "version_major": 2,
       "version_minor": 0
      },
      "text/plain": [
       "Annual reports:   0%|          | 0/2 [00:00<?, ?report/s]"
      ]
     },
     "metadata": {},
     "output_type": "display_data"
    },
    {
     "name": "stderr",
     "output_type": "stream",
     "text": [
      "Traceback (most recent call last):\n",
      "  File \"C:\\Users\\pmsda\\AppData\\Local\\Packages\\PythonSoftwareFoundation.Python.3.11_qbz5n2kfra8p0\\LocalCache\\local-packages\\Python311\\site-packages\\dart_fss\\fs\\extract.py\", line 1433, in extract\n",
      "    statements = analyze_report(report=report,\n",
      "                 ^^^^^^^^^^^^^^^^^^^^^^^^^^^^^\n",
      "  File \"C:\\Users\\pmsda\\AppData\\Local\\Packages\\PythonSoftwareFoundation.Python.3.11_qbz5n2kfra8p0\\LocalCache\\local-packages\\Python311\\site-packages\\dart_fss\\fs\\extract.py\", line 1276, in analyze_report\n",
      "    raise NotFoundConsolidated('Could not find consolidated financial statements')\n",
      "dart_fss.errors.errors.NotFoundConsolidated: Could not find consolidated financial statements\n",
      "C:\\Users\\pmsda\\AppData\\Local\\Packages\\PythonSoftwareFoundation.Python.3.11_qbz5n2kfra8p0\\LocalCache\\local-packages\\Python311\\site-packages\\dart_fss\\fs\\extract.py:1462: RuntimeWarning: Unable to extract financial statements: {'rcp_no': '20230331003352', 'corp_code': '00116268', 'corp_name': '동성제약', 'stock_code': '002210', 'corp_cls': 'Y', 'report_nm': '[기재정정]사업보고서 (2022.12)', 'flr_nm': '동성제약', 'rcept_dt': '20230331', 'rm': ''}.\n",
      "  warnings.warn(warnings_text, RuntimeWarning)\n",
      "Traceback (most recent call last):\n",
      "  File \"C:\\Users\\pmsda\\AppData\\Local\\Packages\\PythonSoftwareFoundation.Python.3.11_qbz5n2kfra8p0\\LocalCache\\local-packages\\Python311\\site-packages\\dart_fss\\fs\\extract.py\", line 1433, in extract\n",
      "    statements = analyze_report(report=report,\n",
      "                 ^^^^^^^^^^^^^^^^^^^^^^^^^^^^^\n",
      "  File \"C:\\Users\\pmsda\\AppData\\Local\\Packages\\PythonSoftwareFoundation.Python.3.11_qbz5n2kfra8p0\\LocalCache\\local-packages\\Python311\\site-packages\\dart_fss\\fs\\extract.py\", line 1276, in analyze_report\n",
      "    raise NotFoundConsolidated('Could not find consolidated financial statements')\n",
      "dart_fss.errors.errors.NotFoundConsolidated: Could not find consolidated financial statements\n",
      "C:\\Users\\pmsda\\AppData\\Local\\Packages\\PythonSoftwareFoundation.Python.3.11_qbz5n2kfra8p0\\LocalCache\\local-packages\\Python311\\site-packages\\dart_fss\\fs\\extract.py:1462: RuntimeWarning: Unable to extract financial statements: {'rcp_no': '20220328000201', 'corp_code': '00116268', 'corp_name': '동성제약', 'stock_code': '002210', 'corp_cls': 'Y', 'report_nm': '[기재정정]사업보고서 (2021.12)', 'flr_nm': '동성제약', 'rcept_dt': '20220328', 'rm': ''}.\n",
      "  warnings.warn(warnings_text, RuntimeWarning)\n"
     ]
    },
    {
     "name": "stdout",
     "output_type": "stream",
     "text": [
      "19 00116268\n"
     ]
    },
    {
     "data": {
      "application/vnd.jupyter.widget-view+json": {
       "model_id": "932a3e4da2c7475da0fc6ac117270b71",
       "version_major": 2,
       "version_minor": 0
      },
      "text/plain": [
       "Annual reports:   0%|          | 0/3 [00:00<?, ?report/s]"
      ]
     },
     "metadata": {},
     "output_type": "display_data"
    },
    {
     "name": "stderr",
     "output_type": "stream",
     "text": [
      "C:\\Users\\pmsda\\AppData\\Local\\Packages\\PythonSoftwareFoundation.Python.3.11_qbz5n2kfra8p0\\LocalCache\\local-packages\\Python311\\site-packages\\dart_fss\\fs\\extract.py:1455: RuntimeWarning: Unable to extract financial statements: {'rcp_no': '20230323001092', 'corp_code': '00679314', 'corp_name': '동성케미컬', 'stock_code': '102260', 'corp_cls': 'Y', 'report_nm': '사업보고서제출기한연장신고서 (2022.12)', 'flr_nm': '동성케미컬', 'rcept_dt': '20230323', 'rm': ''}.\n",
      "  warnings.warn(warnings_text, RuntimeWarning)\n"
     ]
    },
    {
     "name": "stdout",
     "output_type": "stream",
     "text": [
      "19 00679314\n"
     ]
    },
    {
     "data": {
      "application/vnd.jupyter.widget-view+json": {
       "model_id": "b15104123b44464582a393c0a59bbe6f",
       "version_major": 2,
       "version_minor": 0
      },
      "text/plain": [
       "Annual reports:   0%|          | 0/2 [00:00<?, ?report/s]"
      ]
     },
     "metadata": {},
     "output_type": "display_data"
    },
    {
     "name": "stdout",
     "output_type": "stream",
     "text": [
      "19 00116824\n"
     ]
    },
    {
     "data": {
      "application/vnd.jupyter.widget-view+json": {
       "model_id": "4afb917c8c6c4e3d9c439b6c0b3f85a1",
       "version_major": 2,
       "version_minor": 0
      },
      "text/plain": [
       "Annual reports:   0%|          | 0/2 [00:00<?, ?report/s]"
      ]
     },
     "metadata": {},
     "output_type": "display_data"
    },
    {
     "name": "stdout",
     "output_type": "stream",
     "text": [
      "19 00956930\n"
     ]
    },
    {
     "data": {
      "application/vnd.jupyter.widget-view+json": {
       "model_id": "85e796a8ef644ce3b8147f822c613675",
       "version_major": 2,
       "version_minor": 0
      },
      "text/plain": [
       "Annual reports:   0%|          | 0/2 [00:00<?, ?report/s]"
      ]
     },
     "metadata": {},
     "output_type": "display_data"
    },
    {
     "name": "stdout",
     "output_type": "stream",
     "text": [
      "19 00178754\n"
     ]
    },
    {
     "data": {
      "application/vnd.jupyter.widget-view+json": {
       "model_id": "bda8cd5699334202a91c5a5bb7b91f6f",
       "version_major": 2,
       "version_minor": 0
      },
      "text/plain": [
       "Annual reports:   0%|          | 0/2 [00:00<?, ?report/s]"
      ]
     },
     "metadata": {},
     "output_type": "display_data"
    },
    {
     "name": "stdout",
     "output_type": "stream",
     "text": [
      "19 01262458\n"
     ]
    },
    {
     "data": {
      "application/vnd.jupyter.widget-view+json": {
       "model_id": "0195709435834983aa2e1abff61f15b6",
       "version_major": 2,
       "version_minor": 0
      },
      "text/plain": [
       "Annual reports:   0%|          | 0/2 [00:00<?, ?report/s]"
      ]
     },
     "metadata": {},
     "output_type": "display_data"
    },
    {
     "name": "stdout",
     "output_type": "stream",
     "text": [
      "19 00117337\n"
     ]
    },
    {
     "data": {
      "application/vnd.jupyter.widget-view+json": {
       "model_id": "444748058ad74b58bb97bb7b883ad17c",
       "version_major": 2,
       "version_minor": 0
      },
      "text/plain": [
       "Annual reports:   0%|          | 0/2 [00:00<?, ?report/s]"
      ]
     },
     "metadata": {},
     "output_type": "display_data"
    },
    {
     "name": "stdout",
     "output_type": "stream",
     "text": [
      "19 00540641\n"
     ]
    },
    {
     "data": {
      "application/vnd.jupyter.widget-view+json": {
       "model_id": "283b51743cbf442db77ab2497da90c96",
       "version_major": 2,
       "version_minor": 0
      },
      "text/plain": [
       "Annual reports:   0%|          | 0/2 [00:00<?, ?report/s]"
      ]
     },
     "metadata": {},
     "output_type": "display_data"
    },
    {
     "name": "stdout",
     "output_type": "stream",
     "text": [
      "20 00117267\n"
     ]
    },
    {
     "data": {
      "application/vnd.jupyter.widget-view+json": {
       "model_id": "f00a56a5f5ba4848884e97565bf59416",
       "version_major": 2,
       "version_minor": 0
      },
      "text/plain": [
       "Annual reports:   0%|          | 0/2 [00:00<?, ?report/s]"
      ]
     },
     "metadata": {},
     "output_type": "display_data"
    },
    {
     "name": "stdout",
     "output_type": "stream",
     "text": [
      "20 00117629\n"
     ]
    },
    {
     "data": {
      "application/vnd.jupyter.widget-view+json": {
       "model_id": "af6afe60969d4d10900c950c89bbb089",
       "version_major": 2,
       "version_minor": 0
      },
      "text/plain": [
       "Annual reports:   0%|          | 0/2 [00:00<?, ?report/s]"
      ]
     },
     "metadata": {},
     "output_type": "display_data"
    },
    {
     "name": "stdout",
     "output_type": "stream",
     "text": [
      "20 00117726\n"
     ]
    },
    {
     "data": {
      "application/vnd.jupyter.widget-view+json": {
       "model_id": "73cc562c895547938aa4263a51bfc4e7",
       "version_major": 2,
       "version_minor": 0
      },
      "text/plain": [
       "Annual reports:   0%|          | 0/2 [00:00<?, ?report/s]"
      ]
     },
     "metadata": {},
     "output_type": "display_data"
    },
    {
     "name": "stdout",
     "output_type": "stream",
     "text": [
      "20 00340917\n"
     ]
    },
    {
     "data": {
      "application/vnd.jupyter.widget-view+json": {
       "model_id": "eaa0c2557e5c41dca703ea04de0d4444",
       "version_major": 2,
       "version_minor": 0
      },
      "text/plain": [
       "Annual reports:   0%|          | 0/2 [00:00<?, ?report/s]"
      ]
     },
     "metadata": {},
     "output_type": "display_data"
    },
    {
     "name": "stdout",
     "output_type": "stream",
     "text": [
      "20 00118008\n"
     ]
    },
    {
     "data": {
      "application/vnd.jupyter.widget-view+json": {
       "model_id": "99376c0ec02548a4a90508f4ad9b9a8a",
       "version_major": 2,
       "version_minor": 0
      },
      "text/plain": [
       "Annual reports:   0%|          | 0/2 [00:00<?, ?report/s]"
      ]
     },
     "metadata": {},
     "output_type": "display_data"
    },
    {
     "name": "stdout",
     "output_type": "stream",
     "text": [
      "20 00118026\n"
     ]
    },
    {
     "data": {
      "application/vnd.jupyter.widget-view+json": {
       "model_id": "e71b4003f80b4c8a8640e866ea73d00e",
       "version_major": 2,
       "version_minor": 0
      },
      "text/plain": [
       "Annual reports:   0%|          | 0/2 [00:00<?, ?report/s]"
      ]
     },
     "metadata": {},
     "output_type": "display_data"
    },
    {
     "name": "stdout",
     "output_type": "stream",
     "text": [
      "20 00118044\n"
     ]
    },
    {
     "data": {
      "application/vnd.jupyter.widget-view+json": {
       "model_id": "59e455dd01e7477582f5857656e6b6bb",
       "version_major": 2,
       "version_minor": 0
      },
      "text/plain": [
       "Annual reports:   0%|          | 0/2 [00:00<?, ?report/s]"
      ]
     },
     "metadata": {},
     "output_type": "display_data"
    },
    {
     "name": "stdout",
     "output_type": "stream",
     "text": [
      "20 00132637\n"
     ]
    },
    {
     "data": {
      "application/vnd.jupyter.widget-view+json": {
       "model_id": "113621fde9f74dfb95d72304cfc2faf8",
       "version_major": 2,
       "version_minor": 0
      },
      "text/plain": [
       "Annual reports:   0%|          | 0/2 [00:00<?, ?report/s]"
      ]
     },
     "metadata": {},
     "output_type": "display_data"
    },
    {
     "name": "stdout",
     "output_type": "stream",
     "text": [
      "20 00939687\n"
     ]
    },
    {
     "data": {
      "application/vnd.jupyter.widget-view+json": {
       "model_id": "c4712a41a85c4e78a797d1c9849ee2d7",
       "version_major": 2,
       "version_minor": 0
      },
      "text/plain": [
       "Annual reports:   0%|          | 0/2 [00:00<?, ?report/s]"
      ]
     },
     "metadata": {},
     "output_type": "display_data"
    },
    {
     "name": "stdout",
     "output_type": "stream",
     "text": [
      "20 00172936\n"
     ]
    },
    {
     "data": {
      "application/vnd.jupyter.widget-view+json": {
       "model_id": "29f03cf63e9d4a3e8a4b229513f42647",
       "version_major": 2,
       "version_minor": 0
      },
      "text/plain": [
       "Annual reports:   0%|          | 0/2 [00:00<?, ?report/s]"
      ]
     },
     "metadata": {},
     "output_type": "display_data"
    },
    {
     "name": "stderr",
     "output_type": "stream",
     "text": [
      "Traceback (most recent call last):\n",
      "  File \"C:\\Users\\pmsda\\AppData\\Local\\Packages\\PythonSoftwareFoundation.Python.3.11_qbz5n2kfra8p0\\LocalCache\\local-packages\\Python311\\site-packages\\dart_fss\\fs\\extract.py\", line 1433, in extract\n",
      "    statements = analyze_report(report=report,\n",
      "                 ^^^^^^^^^^^^^^^^^^^^^^^^^^^^^\n",
      "  File \"C:\\Users\\pmsda\\AppData\\Local\\Packages\\PythonSoftwareFoundation.Python.3.11_qbz5n2kfra8p0\\LocalCache\\local-packages\\Python311\\site-packages\\dart_fss\\fs\\extract.py\", line 1276, in analyze_report\n",
      "    raise NotFoundConsolidated('Could not find consolidated financial statements')\n",
      "dart_fss.errors.errors.NotFoundConsolidated: Could not find consolidated financial statements\n",
      "C:\\Users\\pmsda\\AppData\\Local\\Packages\\PythonSoftwareFoundation.Python.3.11_qbz5n2kfra8p0\\LocalCache\\local-packages\\Python311\\site-packages\\dart_fss\\fs\\extract.py:1462: RuntimeWarning: Unable to extract financial statements: {'rcp_no': '20230322001127', 'corp_code': '00118451', 'corp_name': '동일제강', 'stock_code': '002690', 'corp_cls': 'Y', 'report_nm': '사업보고서 (2022.12)', 'flr_nm': '동일제강', 'rcept_dt': '20230322', 'rm': ''}.\n",
      "  warnings.warn(warnings_text, RuntimeWarning)\n",
      "Traceback (most recent call last):\n",
      "  File \"C:\\Users\\pmsda\\AppData\\Local\\Packages\\PythonSoftwareFoundation.Python.3.11_qbz5n2kfra8p0\\LocalCache\\local-packages\\Python311\\site-packages\\dart_fss\\fs\\extract.py\", line 1433, in extract\n",
      "    statements = analyze_report(report=report,\n",
      "                 ^^^^^^^^^^^^^^^^^^^^^^^^^^^^^\n",
      "  File \"C:\\Users\\pmsda\\AppData\\Local\\Packages\\PythonSoftwareFoundation.Python.3.11_qbz5n2kfra8p0\\LocalCache\\local-packages\\Python311\\site-packages\\dart_fss\\fs\\extract.py\", line 1276, in analyze_report\n",
      "    raise NotFoundConsolidated('Could not find consolidated financial statements')\n",
      "dart_fss.errors.errors.NotFoundConsolidated: Could not find consolidated financial statements\n",
      "C:\\Users\\pmsda\\AppData\\Local\\Packages\\PythonSoftwareFoundation.Python.3.11_qbz5n2kfra8p0\\LocalCache\\local-packages\\Python311\\site-packages\\dart_fss\\fs\\extract.py:1462: RuntimeWarning: Unable to extract financial statements: {'rcp_no': '20220323000738', 'corp_code': '00118451', 'corp_name': '동일제강', 'stock_code': '002690', 'corp_cls': 'Y', 'report_nm': '사업보고서 (2021.12)', 'flr_nm': '동일제강', 'rcept_dt': '20220323', 'rm': ''}.\n",
      "  warnings.warn(warnings_text, RuntimeWarning)\n"
     ]
    },
    {
     "name": "stdout",
     "output_type": "stream",
     "text": [
      "20 00118451\n"
     ]
    },
    {
     "data": {
      "application/vnd.jupyter.widget-view+json": {
       "model_id": "19f67722cb6640c69c879512dd41ac17",
       "version_major": 2,
       "version_minor": 0
      },
      "text/plain": [
       "Annual reports:   0%|          | 0/2 [00:00<?, ?report/s]"
      ]
     },
     "metadata": {},
     "output_type": "display_data"
    },
    {
     "name": "stdout",
     "output_type": "stream",
     "text": [
      "20 00118804\n"
     ]
    },
    {
     "data": {
      "application/vnd.jupyter.widget-view+json": {
       "model_id": "d650f1ff4208497bb341b94dee1f24dd",
       "version_major": 2,
       "version_minor": 0
      },
      "text/plain": [
       "Annual reports:   0%|          | 0/2 [00:00<?, ?report/s]"
      ]
     },
     "metadata": {},
     "output_type": "display_data"
    },
    {
     "name": "stdout",
     "output_type": "stream",
     "text": [
      "20 00173032\n"
     ]
    },
    {
     "data": {
      "application/vnd.jupyter.widget-view+json": {
       "model_id": "106f7e132e364e318c798e0417e18bfd",
       "version_major": 2,
       "version_minor": 0
      },
      "text/plain": [
       "Annual reports:   0%|          | 0/2 [00:00<?, ?report/s]"
      ]
     },
     "metadata": {},
     "output_type": "display_data"
    },
    {
     "name": "stdout",
     "output_type": "stream",
     "text": [
      "20 00119195\n"
     ]
    },
    {
     "data": {
      "application/vnd.jupyter.widget-view+json": {
       "model_id": "f8272e5d709843918011cf9778717e46",
       "version_major": 2,
       "version_minor": 0
      },
      "text/plain": [
       "Annual reports:   0%|          | 0/2 [00:00<?, ?report/s]"
      ]
     },
     "metadata": {},
     "output_type": "display_data"
    },
    {
     "name": "stdout",
     "output_type": "stream",
     "text": [
      "20 00117212\n"
     ]
    },
    {
     "data": {
      "application/vnd.jupyter.widget-view+json": {
       "model_id": "ce8f2c58810248e1aa783a076278d0ad",
       "version_major": 2,
       "version_minor": 0
      },
      "text/plain": [
       "Annual reports:   0%|          | 0/2 [00:00<?, ?report/s]"
      ]
     },
     "metadata": {},
     "output_type": "display_data"
    },
    {
     "name": "stdout",
     "output_type": "stream",
     "text": [
      "20 01032486\n"
     ]
    },
    {
     "data": {
      "application/vnd.jupyter.widget-view+json": {
       "model_id": "1953159e70594cc69fb9c572285f7c01",
       "version_major": 2,
       "version_minor": 0
      },
      "text/plain": [
       "Annual reports:   0%|          | 0/2 [00:00<?, ?report/s]"
      ]
     },
     "metadata": {},
     "output_type": "display_data"
    },
    {
     "name": "stdout",
     "output_type": "stream",
     "text": [
      "20 00159616\n"
     ]
    },
    {
     "data": {
      "application/vnd.jupyter.widget-view+json": {
       "model_id": "621615f30fd9413ab63225a3d504c74f",
       "version_major": 2,
       "version_minor": 0
      },
      "text/plain": [
       "Annual reports:   0%|          | 0/2 [00:00<?, ?report/s]"
      ]
     },
     "metadata": {},
     "output_type": "display_data"
    },
    {
     "name": "stderr",
     "output_type": "stream",
     "text": [
      "Traceback (most recent call last):\n",
      "  File \"C:\\Users\\pmsda\\AppData\\Local\\Packages\\PythonSoftwareFoundation.Python.3.11_qbz5n2kfra8p0\\LocalCache\\local-packages\\Python311\\site-packages\\dart_fss\\fs\\extract.py\", line 1433, in extract\n",
      "    statements = analyze_report(report=report,\n",
      "                 ^^^^^^^^^^^^^^^^^^^^^^^^^^^^^\n",
      "  File \"C:\\Users\\pmsda\\AppData\\Local\\Packages\\PythonSoftwareFoundation.Python.3.11_qbz5n2kfra8p0\\LocalCache\\local-packages\\Python311\\site-packages\\dart_fss\\fs\\extract.py\", line 1276, in analyze_report\n",
      "    raise NotFoundConsolidated('Could not find consolidated financial statements')\n",
      "dart_fss.errors.errors.NotFoundConsolidated: Could not find consolidated financial statements\n",
      "C:\\Users\\pmsda\\AppData\\Local\\Packages\\PythonSoftwareFoundation.Python.3.11_qbz5n2kfra8p0\\LocalCache\\local-packages\\Python311\\site-packages\\dart_fss\\fs\\extract.py:1462: RuntimeWarning: Unable to extract financial statements: {'rcp_no': '20230321001018', 'corp_code': '00563545', 'corp_name': '두산테스나', 'stock_code': '131970', 'corp_cls': 'K', 'report_nm': '사업보고서 (2022.12)', 'flr_nm': '두산테스나', 'rcept_dt': '20230321', 'rm': ''}.\n",
      "  warnings.warn(warnings_text, RuntimeWarning)\n",
      "Traceback (most recent call last):\n",
      "  File \"C:\\Users\\pmsda\\AppData\\Local\\Packages\\PythonSoftwareFoundation.Python.3.11_qbz5n2kfra8p0\\LocalCache\\local-packages\\Python311\\site-packages\\dart_fss\\fs\\extract.py\", line 1433, in extract\n",
      "    statements = analyze_report(report=report,\n",
      "                 ^^^^^^^^^^^^^^^^^^^^^^^^^^^^^\n",
      "  File \"C:\\Users\\pmsda\\AppData\\Local\\Packages\\PythonSoftwareFoundation.Python.3.11_qbz5n2kfra8p0\\LocalCache\\local-packages\\Python311\\site-packages\\dart_fss\\fs\\extract.py\", line 1276, in analyze_report\n",
      "    raise NotFoundConsolidated('Could not find consolidated financial statements')\n",
      "dart_fss.errors.errors.NotFoundConsolidated: Could not find consolidated financial statements\n",
      "C:\\Users\\pmsda\\AppData\\Local\\Packages\\PythonSoftwareFoundation.Python.3.11_qbz5n2kfra8p0\\LocalCache\\local-packages\\Python311\\site-packages\\dart_fss\\fs\\extract.py:1462: RuntimeWarning: Unable to extract financial statements: {'rcp_no': '20220321001055', 'corp_code': '00563545', 'corp_name': '두산테스나', 'stock_code': '131970', 'corp_cls': 'K', 'report_nm': '사업보고서 (2021.12)', 'flr_nm': '두산테스나', 'rcept_dt': '20220321', 'rm': ''}.\n",
      "  warnings.warn(warnings_text, RuntimeWarning)\n"
     ]
    },
    {
     "name": "stdout",
     "output_type": "stream",
     "text": [
      "20 00563545\n"
     ]
    },
    {
     "data": {
      "application/vnd.jupyter.widget-view+json": {
       "model_id": "410de3bd6c19497b96fbb2f2ec1ca70f",
       "version_major": 2,
       "version_minor": 0
      },
      "text/plain": [
       "Annual reports:   0%|          | 0/2 [00:00<?, ?report/s]"
      ]
     },
     "metadata": {},
     "output_type": "display_data"
    },
    {
     "name": "stderr",
     "output_type": "stream",
     "text": [
      "Traceback (most recent call last):\n",
      "  File \"C:\\Users\\pmsda\\AppData\\Local\\Packages\\PythonSoftwareFoundation.Python.3.11_qbz5n2kfra8p0\\LocalCache\\local-packages\\Python311\\site-packages\\dart_fss\\fs\\extract.py\", line 1433, in extract\n",
      "    statements = analyze_report(report=report,\n",
      "                 ^^^^^^^^^^^^^^^^^^^^^^^^^^^^^\n",
      "  File \"C:\\Users\\pmsda\\AppData\\Local\\Packages\\PythonSoftwareFoundation.Python.3.11_qbz5n2kfra8p0\\LocalCache\\local-packages\\Python311\\site-packages\\dart_fss\\fs\\extract.py\", line 1276, in analyze_report\n",
      "    raise NotFoundConsolidated('Could not find consolidated financial statements')\n",
      "dart_fss.errors.errors.NotFoundConsolidated: Could not find consolidated financial statements\n",
      "C:\\Users\\pmsda\\AppData\\Local\\Packages\\PythonSoftwareFoundation.Python.3.11_qbz5n2kfra8p0\\LocalCache\\local-packages\\Python311\\site-packages\\dart_fss\\fs\\extract.py:1462: RuntimeWarning: Unable to extract financial statements: {'rcp_no': '20230321001259', 'corp_code': '01412725', 'corp_name': '두산퓨얼셀', 'stock_code': '336260', 'corp_cls': 'Y', 'report_nm': '사업보고서 (2022.12)', 'flr_nm': '두산퓨얼셀', 'rcept_dt': '20230321', 'rm': ''}.\n",
      "  warnings.warn(warnings_text, RuntimeWarning)\n",
      "Traceback (most recent call last):\n",
      "  File \"C:\\Users\\pmsda\\AppData\\Local\\Packages\\PythonSoftwareFoundation.Python.3.11_qbz5n2kfra8p0\\LocalCache\\local-packages\\Python311\\site-packages\\dart_fss\\fs\\extract.py\", line 1433, in extract\n",
      "    statements = analyze_report(report=report,\n",
      "                 ^^^^^^^^^^^^^^^^^^^^^^^^^^^^^\n",
      "  File \"C:\\Users\\pmsda\\AppData\\Local\\Packages\\PythonSoftwareFoundation.Python.3.11_qbz5n2kfra8p0\\LocalCache\\local-packages\\Python311\\site-packages\\dart_fss\\fs\\extract.py\", line 1276, in analyze_report\n",
      "    raise NotFoundConsolidated('Could not find consolidated financial statements')\n",
      "dart_fss.errors.errors.NotFoundConsolidated: Could not find consolidated financial statements\n",
      "C:\\Users\\pmsda\\AppData\\Local\\Packages\\PythonSoftwareFoundation.Python.3.11_qbz5n2kfra8p0\\LocalCache\\local-packages\\Python311\\site-packages\\dart_fss\\fs\\extract.py:1462: RuntimeWarning: Unable to extract financial statements: {'rcp_no': '20220321001227', 'corp_code': '01412725', 'corp_name': '두산퓨얼셀', 'stock_code': '336260', 'corp_cls': 'Y', 'report_nm': '사업보고서 (2021.12)', 'flr_nm': '두산퓨얼셀', 'rcept_dt': '20220321', 'rm': ''}.\n",
      "  warnings.warn(warnings_text, RuntimeWarning)\n"
     ]
    },
    {
     "name": "stdout",
     "output_type": "stream",
     "text": [
      "20 01412725\n"
     ]
    },
    {
     "data": {
      "application/vnd.jupyter.widget-view+json": {
       "model_id": "0e868666413141e78eec1b591c670032",
       "version_major": 2,
       "version_minor": 0
      },
      "text/plain": [
       "Annual reports:   0%|          | 0/2 [00:00<?, ?report/s]"
      ]
     },
     "metadata": {},
     "output_type": "display_data"
    },
    {
     "name": "stdout",
     "output_type": "stream",
     "text": [
      "20 00119672\n"
     ]
    },
    {
     "data": {
      "application/vnd.jupyter.widget-view+json": {
       "model_id": "b6320ea16c2844878ec321def489d4dd",
       "version_major": 2,
       "version_minor": 0
      },
      "text/plain": [
       "Annual reports:   0%|          | 0/2 [00:00<?, ?report/s]"
      ]
     },
     "metadata": {},
     "output_type": "display_data"
    },
    {
     "name": "stdout",
     "output_type": "stream",
     "text": [
      "20 00364467\n"
     ]
    },
    {
     "data": {
      "application/vnd.jupyter.widget-view+json": {
       "model_id": "32ff1dbea5664a4b89b83d3d598250ae",
       "version_major": 2,
       "version_minor": 0
      },
      "text/plain": [
       "Annual reports:   0%|          | 0/2 [00:00<?, ?report/s]"
      ]
     },
     "metadata": {},
     "output_type": "display_data"
    },
    {
     "name": "stdout",
     "output_type": "stream",
     "text": [
      "20 00415646\n"
     ]
    },
    {
     "data": {
      "application/vnd.jupyter.widget-view+json": {
       "model_id": "41d268bb8db9477b8d67b2d7432efa2b",
       "version_major": 2,
       "version_minor": 0
      },
      "text/plain": [
       "Annual reports:   0%|          | 0/2 [00:00<?, ?report/s]"
      ]
     },
     "metadata": {},
     "output_type": "display_data"
    },
    {
     "name": "stderr",
     "output_type": "stream",
     "text": [
      "Traceback (most recent call last):\n",
      "  File \"C:\\Users\\pmsda\\AppData\\Local\\Packages\\PythonSoftwareFoundation.Python.3.11_qbz5n2kfra8p0\\LocalCache\\local-packages\\Python311\\site-packages\\dart_fss\\fs\\extract.py\", line 1433, in extract\n",
      "    statements = analyze_report(report=report,\n",
      "                 ^^^^^^^^^^^^^^^^^^^^^^^^^^^^^\n",
      "  File \"C:\\Users\\pmsda\\AppData\\Local\\Packages\\PythonSoftwareFoundation.Python.3.11_qbz5n2kfra8p0\\LocalCache\\local-packages\\Python311\\site-packages\\dart_fss\\fs\\extract.py\", line 1276, in analyze_report\n",
      "    raise NotFoundConsolidated('Could not find consolidated financial statements')\n",
      "dart_fss.errors.errors.NotFoundConsolidated: Could not find consolidated financial statements\n",
      "C:\\Users\\pmsda\\AppData\\Local\\Packages\\PythonSoftwareFoundation.Python.3.11_qbz5n2kfra8p0\\LocalCache\\local-packages\\Python311\\site-packages\\dart_fss\\fs\\extract.py:1462: RuntimeWarning: Unable to extract financial statements: {'rcp_no': '20230315000573', 'corp_code': '00177199', 'corp_name': '디씨엠', 'stock_code': '024090', 'corp_cls': 'Y', 'report_nm': '사업보고서 (2022.12)', 'flr_nm': '디씨엠', 'rcept_dt': '20230315', 'rm': ''}.\n",
      "  warnings.warn(warnings_text, RuntimeWarning)\n",
      "Traceback (most recent call last):\n",
      "  File \"C:\\Users\\pmsda\\AppData\\Local\\Packages\\PythonSoftwareFoundation.Python.3.11_qbz5n2kfra8p0\\LocalCache\\local-packages\\Python311\\site-packages\\dart_fss\\fs\\extract.py\", line 1433, in extract\n",
      "    statements = analyze_report(report=report,\n",
      "                 ^^^^^^^^^^^^^^^^^^^^^^^^^^^^^\n",
      "  File \"C:\\Users\\pmsda\\AppData\\Local\\Packages\\PythonSoftwareFoundation.Python.3.11_qbz5n2kfra8p0\\LocalCache\\local-packages\\Python311\\site-packages\\dart_fss\\fs\\extract.py\", line 1276, in analyze_report\n",
      "    raise NotFoundConsolidated('Could not find consolidated financial statements')\n",
      "dart_fss.errors.errors.NotFoundConsolidated: Could not find consolidated financial statements\n",
      "C:\\Users\\pmsda\\AppData\\Local\\Packages\\PythonSoftwareFoundation.Python.3.11_qbz5n2kfra8p0\\LocalCache\\local-packages\\Python311\\site-packages\\dart_fss\\fs\\extract.py:1462: RuntimeWarning: Unable to extract financial statements: {'rcp_no': '20220316000782', 'corp_code': '00177199', 'corp_name': '디씨엠', 'stock_code': '024090', 'corp_cls': 'Y', 'report_nm': '사업보고서 (2021.12)', 'flr_nm': '디씨엠', 'rcept_dt': '20220316', 'rm': ''}.\n",
      "  warnings.warn(warnings_text, RuntimeWarning)\n"
     ]
    },
    {
     "name": "stdout",
     "output_type": "stream",
     "text": [
      "20 00177199\n"
     ]
    },
    {
     "data": {
      "application/vnd.jupyter.widget-view+json": {
       "model_id": "5eb064ca413f4e528906013b238a05ad",
       "version_major": 2,
       "version_minor": 0
      },
      "text/plain": [
       "Annual reports:   0%|          | 0/10 [00:00<?, ?report/s]"
      ]
     },
     "metadata": {},
     "output_type": "display_data"
    },
    {
     "name": "stdout",
     "output_type": "stream",
     "text": [
      "20 00118275\n"
     ]
    },
    {
     "data": {
      "application/vnd.jupyter.widget-view+json": {
       "model_id": "16570c0795c44c338e83e793c3e7ed51",
       "version_major": 2,
       "version_minor": 0
      },
      "text/plain": [
       "Annual reports:   0%|          | 0/2 [00:00<?, ?report/s]"
      ]
     },
     "metadata": {},
     "output_type": "display_data"
    },
    {
     "name": "stdout",
     "output_type": "stream",
     "text": [
      "20 00118345\n"
     ]
    },
    {
     "data": {
      "application/vnd.jupyter.widget-view+json": {
       "model_id": "e19bcdf50c8148778f42701434252b69",
       "version_major": 2,
       "version_minor": 0
      },
      "text/plain": [
       "Annual reports:   0%|          | 0/2 [00:00<?, ?report/s]"
      ]
     },
     "metadata": {},
     "output_type": "display_data"
    },
    {
     "name": "stdout",
     "output_type": "stream",
     "text": [
      "20 00112165\n"
     ]
    },
    {
     "data": {
      "application/vnd.jupyter.widget-view+json": {
       "model_id": "d16e81cf337440eaa2d13feac08c8bb8",
       "version_major": 2,
       "version_minor": 0
      },
      "text/plain": [
       "Annual reports:   0%|          | 0/2 [00:00<?, ?report/s]"
      ]
     },
     "metadata": {},
     "output_type": "display_data"
    },
    {
     "name": "stderr",
     "output_type": "stream",
     "text": [
      "Traceback (most recent call last):\n",
      "  File \"C:\\Users\\pmsda\\AppData\\Local\\Packages\\PythonSoftwareFoundation.Python.3.11_qbz5n2kfra8p0\\LocalCache\\local-packages\\Python311\\site-packages\\dart_fss\\fs\\extract.py\", line 1433, in extract\n",
      "    statements = analyze_report(report=report,\n",
      "                 ^^^^^^^^^^^^^^^^^^^^^^^^^^^^^\n",
      "  File \"C:\\Users\\pmsda\\AppData\\Local\\Packages\\PythonSoftwareFoundation.Python.3.11_qbz5n2kfra8p0\\LocalCache\\local-packages\\Python311\\site-packages\\dart_fss\\fs\\extract.py\", line 1276, in analyze_report\n",
      "    raise NotFoundConsolidated('Could not find consolidated financial statements')\n",
      "dart_fss.errors.errors.NotFoundConsolidated: Could not find consolidated financial statements\n",
      "C:\\Users\\pmsda\\AppData\\Local\\Packages\\PythonSoftwareFoundation.Python.3.11_qbz5n2kfra8p0\\LocalCache\\local-packages\\Python311\\site-packages\\dart_fss\\fs\\extract.py:1462: RuntimeWarning: Unable to extract financial statements: {'rcp_no': '20230322000643', 'corp_code': '01456011', 'corp_name': '디어유', 'stock_code': '376300', 'corp_cls': 'K', 'report_nm': '사업보고서 (2022.12)', 'flr_nm': '디어유', 'rcept_dt': '20230322', 'rm': ''}.\n",
      "  warnings.warn(warnings_text, RuntimeWarning)\n"
     ]
    },
    {
     "name": "stdout",
     "output_type": "stream",
     "text": [
      "20 01456011\n"
     ]
    },
    {
     "data": {
      "application/vnd.jupyter.widget-view+json": {
       "model_id": "f04bd498d0b14ea587d1bf64189da07d",
       "version_major": 2,
       "version_minor": 0
      },
      "text/plain": [
       "Annual reports:   0%|          | 0/2 [00:00<?, ?report/s]"
      ]
     },
     "metadata": {},
     "output_type": "display_data"
    },
    {
     "name": "stdout",
     "output_type": "stream",
     "text": [
      "20 00117179\n"
     ]
    },
    {
     "data": {
      "application/vnd.jupyter.widget-view+json": {
       "model_id": "b455cb33200b40759bfd8f384d39941e",
       "version_major": 2,
       "version_minor": 0
      },
      "text/plain": [
       "Annual reports:   0%|          | 0/2 [00:00<?, ?report/s]"
      ]
     },
     "metadata": {},
     "output_type": "display_data"
    },
    {
     "name": "stdout",
     "output_type": "stream",
     "text": [
      "20 01059605\n"
     ]
    },
    {
     "data": {
      "application/vnd.jupyter.widget-view+json": {
       "model_id": "8f8784b594c14c31b0eb96548d21c1ed",
       "version_major": 2,
       "version_minor": 0
      },
      "text/plain": [
       "Annual reports:   0%|          | 0/2 [00:00<?, ?report/s]"
      ]
     },
     "metadata": {},
     "output_type": "display_data"
    },
    {
     "name": "stdout",
     "output_type": "stream",
     "text": [
      "20 00561866\n"
     ]
    },
    {
     "data": {
      "application/vnd.jupyter.widget-view+json": {
       "model_id": "a2e11dd672f7434999fb508d408c5004",
       "version_major": 2,
       "version_minor": 0
      },
      "text/plain": [
       "Annual reports:   0%|          | 0/2 [00:00<?, ?report/s]"
      ]
     },
     "metadata": {},
     "output_type": "display_data"
    },
    {
     "name": "stderr",
     "output_type": "stream",
     "text": [
      "Traceback (most recent call last):\n",
      "  File \"C:\\Users\\pmsda\\AppData\\Local\\Packages\\PythonSoftwareFoundation.Python.3.11_qbz5n2kfra8p0\\LocalCache\\local-packages\\Python311\\site-packages\\dart_fss\\fs\\extract.py\", line 1447, in extract\n",
      "    nstatements = analyze_report(report=report,\n",
      "                  ^^^^^^^^^^^^^^^^^^^^^^^^^^^^^\n",
      "  File \"C:\\Users\\pmsda\\AppData\\Local\\Packages\\PythonSoftwareFoundation.Python.3.11_qbz5n2kfra8p0\\LocalCache\\local-packages\\Python311\\site-packages\\dart_fss\\fs\\extract.py\", line 1276, in analyze_report\n",
      "    raise NotFoundConsolidated('Could not find consolidated financial statements')\n",
      "dart_fss.errors.errors.NotFoundConsolidated: Could not find consolidated financial statements\n",
      "C:\\Users\\pmsda\\AppData\\Local\\Packages\\PythonSoftwareFoundation.Python.3.11_qbz5n2kfra8p0\\LocalCache\\local-packages\\Python311\\site-packages\\dart_fss\\fs\\extract.py:1462: RuntimeWarning: Unable to extract financial statements: {'rcp_no': '20220323001117', 'corp_code': '00842619', 'corp_name': '레고켐바이오', 'stock_code': '141080', 'corp_cls': 'K', 'report_nm': '사업보고서 (2021.12)', 'flr_nm': '레고켐바이오', 'rcept_dt': '20220323', 'rm': ''}.\n",
      "  warnings.warn(warnings_text, RuntimeWarning)\n"
     ]
    },
    {
     "name": "stdout",
     "output_type": "stream",
     "text": [
      "20 00842619\n"
     ]
    },
    {
     "data": {
      "application/vnd.jupyter.widget-view+json": {
       "model_id": "559cdbd3de5c4377b783f94218c9a9f7",
       "version_major": 2,
       "version_minor": 0
      },
      "text/plain": [
       "Annual reports:   0%|          | 0/2 [00:00<?, ?report/s]"
      ]
     },
     "metadata": {},
     "output_type": "display_data"
    },
    {
     "name": "stdout",
     "output_type": "stream",
     "text": [
      "20 00536523\n"
     ]
    },
    {
     "data": {
      "application/vnd.jupyter.widget-view+json": {
       "model_id": "adba0e100b6b4d0d8d2524ed9ae349d5",
       "version_major": 2,
       "version_minor": 0
      },
      "text/plain": [
       "Annual reports:   0%|          | 0/3 [00:00<?, ?report/s]"
      ]
     },
     "metadata": {},
     "output_type": "display_data"
    },
    {
     "name": "stdout",
     "output_type": "stream",
     "text": [
      "20 00231372\n"
     ]
    },
    {
     "data": {
      "application/vnd.jupyter.widget-view+json": {
       "model_id": "3fb5d7007b104420ad0ee9f3b9ce93ed",
       "version_major": 2,
       "version_minor": 0
      },
      "text/plain": [
       "Annual reports:   0%|          | 0/2 [00:00<?, ?report/s]"
      ]
     },
     "metadata": {},
     "output_type": "display_data"
    },
    {
     "name": "stdout",
     "output_type": "stream",
     "text": [
      "20 00545716\n"
     ]
    },
    {
     "data": {
      "application/vnd.jupyter.widget-view+json": {
       "model_id": "ba6de9aa345645a4a55c7f7f60ce1ab4",
       "version_major": 2,
       "version_minor": 0
      },
      "text/plain": [
       "Annual reports:   0%|          | 0/2 [00:00<?, ?report/s]"
      ]
     },
     "metadata": {},
     "output_type": "display_data"
    },
    {
     "name": "stderr",
     "output_type": "stream",
     "text": [
      "C:\\Users\\pmsda\\AppData\\Local\\Packages\\PythonSoftwareFoundation.Python.3.11_qbz5n2kfra8p0\\LocalCache\\local-packages\\Python311\\site-packages\\dart_fss\\fs\\extract.py:1440: RuntimeWarning: Unable to extract financial statements: {'rcp_no': '20230323001495', 'corp_code': '00113562', 'corp_name': '롯데손해보험', 'stock_code': '000400', 'corp_cls': 'Y', 'report_nm': '사업보고서 (2022.12)', 'flr_nm': '롯데손해보험', 'rcept_dt': '20230323', 'rm': ''}.\n",
      "  warnings.warn(warnings_text, RuntimeWarning)\n",
      "C:\\Users\\pmsda\\AppData\\Local\\Packages\\PythonSoftwareFoundation.Python.3.11_qbz5n2kfra8p0\\LocalCache\\local-packages\\Python311\\site-packages\\dart_fss\\fs\\extract.py:1440: RuntimeWarning: Unable to extract financial statements: {'rcp_no': '20220323000792', 'corp_code': '00113562', 'corp_name': '롯데손해보험', 'stock_code': '000400', 'corp_cls': 'Y', 'report_nm': '사업보고서 (2021.12)', 'flr_nm': '롯데손해보험', 'rcept_dt': '20220323', 'rm': ''}.\n",
      "  warnings.warn(warnings_text, RuntimeWarning)\n"
     ]
    },
    {
     "name": "stdout",
     "output_type": "stream",
     "text": [
      "20 00113562\n"
     ]
    },
    {
     "data": {
      "application/vnd.jupyter.widget-view+json": {
       "model_id": "e29fcd2501a348a69b71779361c951ab",
       "version_major": 2,
       "version_minor": 0
      },
      "text/plain": [
       "Annual reports:   0%|          | 0/2 [00:00<?, ?report/s]"
      ]
     },
     "metadata": {},
     "output_type": "display_data"
    },
    {
     "name": "stdout",
     "output_type": "stream",
     "text": [
      "20 00120526\n"
     ]
    },
    {
     "data": {
      "application/vnd.jupyter.widget-view+json": {
       "model_id": "dbbdefccc4b44a92aff9fff2b0cffb12",
       "version_major": 2,
       "version_minor": 0
      },
      "text/plain": [
       "Annual reports:   0%|          | 0/2 [00:00<?, ?report/s]"
      ]
     },
     "metadata": {},
     "output_type": "display_data"
    },
    {
     "name": "stdout",
     "output_type": "stream",
     "text": [
      "20 00113997\n"
     ]
    },
    {
     "data": {
      "application/vnd.jupyter.widget-view+json": {
       "model_id": "5ff21049b3c0454aa63ea0868e678d43",
       "version_major": 2,
       "version_minor": 0
      },
      "text/plain": [
       "Annual reports:   0%|          | 0/2 [00:00<?, ?report/s]"
      ]
     },
     "metadata": {},
     "output_type": "display_data"
    },
    {
     "name": "stdout",
     "output_type": "stream",
     "text": [
      "20 01258507\n"
     ]
    },
    {
     "data": {
      "application/vnd.jupyter.widget-view+json": {
       "model_id": "562ce965a6f74591864b3c15afe67f12",
       "version_major": 2,
       "version_minor": 0
      },
      "text/plain": [
       "Annual reports:   0%|          | 0/2 [00:00<?, ?report/s]"
      ]
     },
     "metadata": {},
     "output_type": "display_data"
    },
    {
     "name": "stdout",
     "output_type": "stream",
     "text": [
      "20 00157681\n"
     ]
    },
    {
     "data": {
      "application/vnd.jupyter.widget-view+json": {
       "model_id": "2e9d6d4714b946d3ae8f4a13b69675a7",
       "version_major": 2,
       "version_minor": 0
      },
      "text/plain": [
       "Annual reports:   0%|          | 0/2 [00:00<?, ?report/s]"
      ]
     },
     "metadata": {},
     "output_type": "display_data"
    },
    {
     "name": "stdout",
     "output_type": "stream",
     "text": [
      "20 01262032\n"
     ]
    },
    {
     "data": {
      "application/vnd.jupyter.widget-view+json": {
       "model_id": "d99c4dae05c14fcf8354c4bf362a492c",
       "version_major": 2,
       "version_minor": 0
      },
      "text/plain": [
       "Annual reports:   0%|          | 0/2 [00:00<?, ?report/s]"
      ]
     },
     "metadata": {},
     "output_type": "display_data"
    },
    {
     "name": "stdout",
     "output_type": "stream",
     "text": [
      "20 00120562\n"
     ]
    },
    {
     "data": {
      "application/vnd.jupyter.widget-view+json": {
       "model_id": "982a3c25aaed4703b34a7c6abb5b9f1a",
       "version_major": 2,
       "version_minor": 0
      },
      "text/plain": [
       "Annual reports:   0%|          | 0/2 [00:00<?, ?report/s]"
      ]
     },
     "metadata": {},
     "output_type": "display_data"
    },
    {
     "name": "stdout",
     "output_type": "stream",
     "text": [
      "20 00120571\n"
     ]
    },
    {
     "data": {
      "application/vnd.jupyter.widget-view+json": {
       "model_id": "9f724e76c8544a8d81defb47708b6c22",
       "version_major": 2,
       "version_minor": 0
      },
      "text/plain": [
       "Annual reports:   0%|          | 0/2 [00:00<?, ?report/s]"
      ]
     },
     "metadata": {},
     "output_type": "display_data"
    },
    {
     "name": "stdout",
     "output_type": "stream",
     "text": [
      "20 00165413\n"
     ]
    },
    {
     "data": {
      "application/vnd.jupyter.widget-view+json": {
       "model_id": "e6cb0db1ea2542d9af412a773761c686",
       "version_major": 2,
       "version_minor": 0
      },
      "text/plain": [
       "Annual reports:   0%|          | 0/2 [00:00<?, ?report/s]"
      ]
     },
     "metadata": {},
     "output_type": "display_data"
    },
    {
     "name": "stderr",
     "output_type": "stream",
     "text": [
      "Traceback (most recent call last):\n",
      "  File \"C:\\Users\\pmsda\\AppData\\Local\\Packages\\PythonSoftwareFoundation.Python.3.11_qbz5n2kfra8p0\\LocalCache\\local-packages\\Python311\\site-packages\\dart_fss\\fs\\extract.py\", line 1433, in extract\n",
      "    statements = analyze_report(report=report,\n",
      "                 ^^^^^^^^^^^^^^^^^^^^^^^^^^^^^\n",
      "  File \"C:\\Users\\pmsda\\AppData\\Local\\Packages\\PythonSoftwareFoundation.Python.3.11_qbz5n2kfra8p0\\LocalCache\\local-packages\\Python311\\site-packages\\dart_fss\\fs\\extract.py\", line 1276, in analyze_report\n",
      "    raise NotFoundConsolidated('Could not find consolidated financial statements')\n",
      "dart_fss.errors.errors.NotFoundConsolidated: Could not find consolidated financial statements\n",
      "C:\\Users\\pmsda\\AppData\\Local\\Packages\\PythonSoftwareFoundation.Python.3.11_qbz5n2kfra8p0\\LocalCache\\local-packages\\Python311\\site-packages\\dart_fss\\fs\\extract.py:1462: RuntimeWarning: Unable to extract financial statements: {'rcp_no': '20230314001273', 'corp_code': '00158307', 'corp_name': '롯데하이마트', 'stock_code': '071840', 'corp_cls': 'Y', 'report_nm': '사업보고서 (2022.12)', 'flr_nm': '롯데하이마트', 'rcept_dt': '20230314', 'rm': ''}.\n",
      "  warnings.warn(warnings_text, RuntimeWarning)\n",
      "Traceback (most recent call last):\n",
      "  File \"C:\\Users\\pmsda\\AppData\\Local\\Packages\\PythonSoftwareFoundation.Python.3.11_qbz5n2kfra8p0\\LocalCache\\local-packages\\Python311\\site-packages\\dart_fss\\fs\\extract.py\", line 1433, in extract\n",
      "    statements = analyze_report(report=report,\n",
      "                 ^^^^^^^^^^^^^^^^^^^^^^^^^^^^^\n",
      "  File \"C:\\Users\\pmsda\\AppData\\Local\\Packages\\PythonSoftwareFoundation.Python.3.11_qbz5n2kfra8p0\\LocalCache\\local-packages\\Python311\\site-packages\\dart_fss\\fs\\extract.py\", line 1276, in analyze_report\n",
      "    raise NotFoundConsolidated('Could not find consolidated financial statements')\n",
      "dart_fss.errors.errors.NotFoundConsolidated: Could not find consolidated financial statements\n",
      "C:\\Users\\pmsda\\AppData\\Local\\Packages\\PythonSoftwareFoundation.Python.3.11_qbz5n2kfra8p0\\LocalCache\\local-packages\\Python311\\site-packages\\dart_fss\\fs\\extract.py:1462: RuntimeWarning: Unable to extract financial statements: {'rcp_no': '20220314000784', 'corp_code': '00158307', 'corp_name': '롯데하이마트', 'stock_code': '071840', 'corp_cls': 'Y', 'report_nm': '사업보고서 (2021.12)', 'flr_nm': '롯데하이마트', 'rcept_dt': '20220314', 'rm': ''}.\n",
      "  warnings.warn(warnings_text, RuntimeWarning)\n"
     ]
    },
    {
     "name": "stdout",
     "output_type": "stream",
     "text": [
      "20 00158307\n"
     ]
    },
    {
     "data": {
      "application/vnd.jupyter.widget-view+json": {
       "model_id": "be8969a3e4da4615b86e579d98fd38b1",
       "version_major": 2,
       "version_minor": 0
      },
      "text/plain": [
       "Annual reports:   0%|          | 0/2 [00:00<?, ?report/s]"
      ]
     },
     "metadata": {},
     "output_type": "display_data"
    },
    {
     "name": "stdout",
     "output_type": "stream",
     "text": [
      "20 00549925\n"
     ]
    },
    {
     "data": {
      "application/vnd.jupyter.widget-view+json": {
       "model_id": "c5c6e4710ee646e0b29d672abe24b183",
       "version_major": 2,
       "version_minor": 0
      },
      "text/plain": [
       "Annual reports:   0%|          | 0/2 [00:00<?, ?report/s]"
      ]
     },
     "metadata": {},
     "output_type": "display_data"
    },
    {
     "name": "stderr",
     "output_type": "stream",
     "text": [
      "Traceback (most recent call last):\n",
      "  File \"C:\\Users\\pmsda\\AppData\\Local\\Packages\\PythonSoftwareFoundation.Python.3.11_qbz5n2kfra8p0\\LocalCache\\local-packages\\Python311\\site-packages\\dart_fss\\fs\\extract.py\", line 1433, in extract\n",
      "    statements = analyze_report(report=report,\n",
      "                 ^^^^^^^^^^^^^^^^^^^^^^^^^^^^^\n",
      "  File \"C:\\Users\\pmsda\\AppData\\Local\\Packages\\PythonSoftwareFoundation.Python.3.11_qbz5n2kfra8p0\\LocalCache\\local-packages\\Python311\\site-packages\\dart_fss\\fs\\extract.py\", line 1276, in analyze_report\n",
      "    raise NotFoundConsolidated('Could not find consolidated financial statements')\n",
      "dart_fss.errors.errors.NotFoundConsolidated: Could not find consolidated financial statements\n",
      "C:\\Users\\pmsda\\AppData\\Local\\Packages\\PythonSoftwareFoundation.Python.3.11_qbz5n2kfra8p0\\LocalCache\\local-packages\\Python311\\site-packages\\dart_fss\\fs\\extract.py:1462: RuntimeWarning: Unable to extract financial statements: {'rcp_no': '20230814000718', 'corp_code': '00369657', 'corp_name': '리노공업', 'stock_code': '058470', 'corp_cls': 'K', 'report_nm': '[기재정정]사업보고서 (2022.12)', 'flr_nm': '리노공업', 'rcept_dt': '20230814', 'rm': ''}.\n",
      "  warnings.warn(warnings_text, RuntimeWarning)\n",
      "Traceback (most recent call last):\n",
      "  File \"C:\\Users\\pmsda\\AppData\\Local\\Packages\\PythonSoftwareFoundation.Python.3.11_qbz5n2kfra8p0\\LocalCache\\local-packages\\Python311\\site-packages\\dart_fss\\fs\\extract.py\", line 1433, in extract\n",
      "    statements = analyze_report(report=report,\n",
      "                 ^^^^^^^^^^^^^^^^^^^^^^^^^^^^^\n",
      "  File \"C:\\Users\\pmsda\\AppData\\Local\\Packages\\PythonSoftwareFoundation.Python.3.11_qbz5n2kfra8p0\\LocalCache\\local-packages\\Python311\\site-packages\\dart_fss\\fs\\extract.py\", line 1276, in analyze_report\n",
      "    raise NotFoundConsolidated('Could not find consolidated financial statements')\n",
      "dart_fss.errors.errors.NotFoundConsolidated: Could not find consolidated financial statements\n",
      "C:\\Users\\pmsda\\AppData\\Local\\Packages\\PythonSoftwareFoundation.Python.3.11_qbz5n2kfra8p0\\LocalCache\\local-packages\\Python311\\site-packages\\dart_fss\\fs\\extract.py:1462: RuntimeWarning: Unable to extract financial statements: {'rcp_no': '20220321000094', 'corp_code': '00369657', 'corp_name': '리노공업', 'stock_code': '058470', 'corp_cls': 'K', 'report_nm': '사업보고서 (2021.12)', 'flr_nm': '리노공업', 'rcept_dt': '20220321', 'rm': ''}.\n",
      "  warnings.warn(warnings_text, RuntimeWarning)\n"
     ]
    },
    {
     "name": "stdout",
     "output_type": "stream",
     "text": [
      "20 00369657\n"
     ]
    },
    {
     "data": {
      "application/vnd.jupyter.widget-view+json": {
       "model_id": "21f4aab8701249e995e9dc7f381e0128",
       "version_major": 2,
       "version_minor": 0
      },
      "text/plain": [
       "Annual reports:   0%|          | 0/3 [00:00<?, ?report/s]"
      ]
     },
     "metadata": {},
     "output_type": "display_data"
    },
    {
     "name": "stdout",
     "output_type": "stream",
     "text": [
      "20 00110750\n"
     ]
    },
    {
     "data": {
      "application/vnd.jupyter.widget-view+json": {
       "model_id": "a364f2e7398d490d9915f1c1e76553d2",
       "version_major": 2,
       "version_minor": 0
      },
      "text/plain": [
       "Annual reports:   0%|          | 0/2 [00:00<?, ?report/s]"
      ]
     },
     "metadata": {},
     "output_type": "display_data"
    },
    {
     "name": "stdout",
     "output_type": "stream",
     "text": [
      "20 00204208\n"
     ]
    },
    {
     "data": {
      "application/vnd.jupyter.widget-view+json": {
       "model_id": "d989f1dcca8d4577bab9fe5ae535ce5f",
       "version_major": 2,
       "version_minor": 0
      },
      "text/plain": [
       "Annual reports:   0%|          | 0/2 [00:00<?, ?report/s]"
      ]
     },
     "metadata": {},
     "output_type": "display_data"
    },
    {
     "name": "stderr",
     "output_type": "stream",
     "text": [
      "C:\\Users\\pmsda\\AppData\\Local\\Packages\\PythonSoftwareFoundation.Python.3.11_qbz5n2kfra8p0\\LocalCache\\local-packages\\Python311\\site-packages\\dart_fss\\fs\\extract.py:1440: RuntimeWarning: Unable to extract financial statements: {'rcp_no': '20231005000147', 'corp_code': '00120872', 'corp_name': '만호제강', 'stock_code': '001080', 'corp_cls': 'Y', 'report_nm': '사업보고서 (2023.06)', 'flr_nm': '만호제강', 'rcept_dt': '20231005', 'rm': ''}.\n",
      "  warnings.warn(warnings_text, RuntimeWarning)\n",
      "Traceback (most recent call last):\n",
      "  File \"C:\\Users\\pmsda\\AppData\\Local\\Packages\\PythonSoftwareFoundation.Python.3.11_qbz5n2kfra8p0\\LocalCache\\local-packages\\Python311\\site-packages\\dart_fss\\fs\\extract.py\", line 1433, in extract\n",
      "    statements = analyze_report(report=report,\n",
      "                 ^^^^^^^^^^^^^^^^^^^^^^^^^^^^^\n",
      "  File \"C:\\Users\\pmsda\\AppData\\Local\\Packages\\PythonSoftwareFoundation.Python.3.11_qbz5n2kfra8p0\\LocalCache\\local-packages\\Python311\\site-packages\\dart_fss\\fs\\extract.py\", line 1276, in analyze_report\n",
      "    raise NotFoundConsolidated('Could not find consolidated financial statements')\n",
      "dart_fss.errors.errors.NotFoundConsolidated: Could not find consolidated financial statements\n",
      "C:\\Users\\pmsda\\AppData\\Local\\Packages\\PythonSoftwareFoundation.Python.3.11_qbz5n2kfra8p0\\LocalCache\\local-packages\\Python311\\site-packages\\dart_fss\\fs\\extract.py:1462: RuntimeWarning: Unable to extract financial statements: {'rcp_no': '20220915000334', 'corp_code': '00120872', 'corp_name': '만호제강', 'stock_code': '001080', 'corp_cls': 'Y', 'report_nm': '사업보고서 (2022.06)', 'flr_nm': '만호제강', 'rcept_dt': '20220915', 'rm': ''}.\n",
      "  warnings.warn(warnings_text, RuntimeWarning)\n"
     ]
    },
    {
     "name": "stdout",
     "output_type": "stream",
     "text": [
      "20 00120872\n"
     ]
    },
    {
     "data": {
      "application/vnd.jupyter.widget-view+json": {
       "model_id": "7369c808d054451bb206f5b832c24d9c",
       "version_major": 2,
       "version_minor": 0
      },
      "text/plain": [
       "Annual reports:   0%|          | 0/2 [00:00<?, ?report/s]"
      ]
     },
     "metadata": {},
     "output_type": "display_data"
    },
    {
     "name": "stdout",
     "output_type": "stream",
     "text": [
      "20 01234507\n"
     ]
    },
    {
     "data": {
      "application/vnd.jupyter.widget-view+json": {
       "model_id": "f8260be8e9ba421cb3a76531db8352cd",
       "version_major": 2,
       "version_minor": 0
      },
      "text/plain": [
       "Annual reports:   0%|          | 0/2 [00:00<?, ?report/s]"
      ]
     },
     "metadata": {},
     "output_type": "display_data"
    },
    {
     "name": "stdout",
     "output_type": "stream",
     "text": [
      "20 00425351\n"
     ]
    },
    {
     "data": {
      "application/vnd.jupyter.widget-view+json": {
       "model_id": "244efcb4c27c48159bd066a9eab832ad",
       "version_major": 2,
       "version_minor": 0
      },
      "text/plain": [
       "Annual reports:   0%|          | 0/2 [00:00<?, ?report/s]"
      ]
     },
     "metadata": {},
     "output_type": "display_data"
    },
    {
     "name": "stdout",
     "output_type": "stream",
     "text": [
      "20 01074862\n"
     ]
    },
    {
     "data": {
      "application/vnd.jupyter.widget-view+json": {
       "model_id": "3ca81a5674e746d59c76f6c177ab852f",
       "version_major": 2,
       "version_minor": 0
      },
      "text/plain": [
       "Annual reports:   0%|          | 0/2 [00:00<?, ?report/s]"
      ]
     },
     "metadata": {},
     "output_type": "display_data"
    },
    {
     "name": "stdout",
     "output_type": "stream",
     "text": [
      "20 01336373\n"
     ]
    },
    {
     "data": {
      "application/vnd.jupyter.widget-view+json": {
       "model_id": "6289c6822c7c46e19e3546f75f08d62c",
       "version_major": 2,
       "version_minor": 0
      },
      "text/plain": [
       "Annual reports:   0%|          | 0/2 [00:00<?, ?report/s]"
      ]
     },
     "metadata": {},
     "output_type": "display_data"
    },
    {
     "name": "stdout",
     "output_type": "stream",
     "text": [
      "20 00580199\n"
     ]
    },
    {
     "data": {
      "application/vnd.jupyter.widget-view+json": {
       "model_id": "3ba69984e50e4191ad132573196f7ba4",
       "version_major": 2,
       "version_minor": 0
      },
      "text/plain": [
       "Annual reports:   0%|          | 0/2 [00:00<?, ?report/s]"
      ]
     },
     "metadata": {},
     "output_type": "display_data"
    },
    {
     "name": "stdout",
     "output_type": "stream",
     "text": [
      "21 00860332\n"
     ]
    },
    {
     "data": {
      "application/vnd.jupyter.widget-view+json": {
       "model_id": "d74f4fb8263a4e80a3977a20840c00fe",
       "version_major": 2,
       "version_minor": 0
      },
      "text/plain": [
       "Annual reports:   0%|          | 0/2 [00:00<?, ?report/s]"
      ]
     },
     "metadata": {},
     "output_type": "display_data"
    },
    {
     "name": "stdout",
     "output_type": "stream",
     "text": [
      "22 00163682\n"
     ]
    },
    {
     "data": {
      "application/vnd.jupyter.widget-view+json": {
       "model_id": "966abbc798824b55845c00519ab9c02c",
       "version_major": 2,
       "version_minor": 0
      },
      "text/plain": [
       "Annual reports:   0%|          | 0/2 [00:00<?, ?report/s]"
      ]
     },
     "metadata": {},
     "output_type": "display_data"
    },
    {
     "name": "stdout",
     "output_type": "stream",
     "text": [
      "23 00117744\n"
     ]
    },
    {
     "data": {
      "application/vnd.jupyter.widget-view+json": {
       "model_id": "a9f1d0a5f1654a6aa7cd49cd171c7d98",
       "version_major": 2,
       "version_minor": 0
      },
      "text/plain": [
       "Annual reports:   0%|          | 0/2 [00:00<?, ?report/s]"
      ]
     },
     "metadata": {},
     "output_type": "display_data"
    },
    {
     "name": "stdout",
     "output_type": "stream",
     "text": [
      "24 00136101\n"
     ]
    },
    {
     "data": {
      "application/vnd.jupyter.widget-view+json": {
       "model_id": "f403b80eabfb452d8456e5f381b5edee",
       "version_major": 2,
       "version_minor": 0
      },
      "text/plain": [
       "Annual reports:   0%|          | 0/2 [00:00<?, ?report/s]"
      ]
     },
     "metadata": {},
     "output_type": "display_data"
    },
    {
     "name": "stdout",
     "output_type": "stream",
     "text": [
      "24 00808022\n"
     ]
    },
    {
     "data": {
      "application/vnd.jupyter.widget-view+json": {
       "model_id": "b6fb446682bf4054a55ac20b483e3720",
       "version_major": 2,
       "version_minor": 0
      },
      "text/plain": [
       "Annual reports:   0%|          | 0/2 [00:00<?, ?report/s]"
      ]
     },
     "metadata": {},
     "output_type": "display_data"
    },
    {
     "name": "stdout",
     "output_type": "stream",
     "text": [
      "24 00442835\n"
     ]
    },
    {
     "data": {
      "application/vnd.jupyter.widget-view+json": {
       "model_id": "0e88586d6b664b8d8f8abc1a303ec824",
       "version_major": 2,
       "version_minor": 0
      },
      "text/plain": [
       "Annual reports:   0%|          | 0/2 [00:00<?, ?report/s]"
      ]
     },
     "metadata": {},
     "output_type": "display_data"
    },
    {
     "name": "stdout",
     "output_type": "stream",
     "text": [
      "24 00121039\n"
     ]
    },
    {
     "data": {
      "application/vnd.jupyter.widget-view+json": {
       "model_id": "cefe649ce3b0446c9700be908f1fd4ad",
       "version_major": 2,
       "version_minor": 0
      },
      "text/plain": [
       "Annual reports:   0%|          | 0/2 [00:00<?, ?report/s]"
      ]
     },
     "metadata": {},
     "output_type": "display_data"
    },
    {
     "name": "stdout",
     "output_type": "stream",
     "text": [
      "24 00173078\n"
     ]
    },
    {
     "data": {
      "application/vnd.jupyter.widget-view+json": {
       "model_id": "de95700958c34f48831731e0f84f4c39",
       "version_major": 2,
       "version_minor": 0
      },
      "text/plain": [
       "Annual reports:   0%|          | 0/2 [00:00<?, ?report/s]"
      ]
     },
     "metadata": {},
     "output_type": "display_data"
    },
    {
     "name": "stderr",
     "output_type": "stream",
     "text": [
      "Traceback (most recent call last):\n",
      "  File \"C:\\Users\\pmsda\\AppData\\Local\\Packages\\PythonSoftwareFoundation.Python.3.11_qbz5n2kfra8p0\\LocalCache\\local-packages\\Python311\\site-packages\\dart_fss\\fs\\extract.py\", line 1433, in extract\n",
      "    statements = analyze_report(report=report,\n",
      "                 ^^^^^^^^^^^^^^^^^^^^^^^^^^^^^\n",
      "  File \"C:\\Users\\pmsda\\AppData\\Local\\Packages\\PythonSoftwareFoundation.Python.3.11_qbz5n2kfra8p0\\LocalCache\\local-packages\\Python311\\site-packages\\dart_fss\\fs\\extract.py\", line 1276, in analyze_report\n",
      "    raise NotFoundConsolidated('Could not find consolidated financial statements')\n",
      "dart_fss.errors.errors.NotFoundConsolidated: Could not find consolidated financial statements\n",
      "C:\\Users\\pmsda\\AppData\\Local\\Packages\\PythonSoftwareFoundation.Python.3.11_qbz5n2kfra8p0\\LocalCache\\local-packages\\Python311\\site-packages\\dart_fss\\fs\\extract.py:1462: RuntimeWarning: Unable to extract financial statements: {'rcp_no': '20230320000922', 'corp_code': '00173102', 'corp_name': '모나리자', 'stock_code': '012690', 'corp_cls': 'Y', 'report_nm': '사업보고서 (2022.12)', 'flr_nm': '모나리자', 'rcept_dt': '20230320', 'rm': ''}.\n",
      "  warnings.warn(warnings_text, RuntimeWarning)\n",
      "Traceback (most recent call last):\n",
      "  File \"C:\\Users\\pmsda\\AppData\\Local\\Packages\\PythonSoftwareFoundation.Python.3.11_qbz5n2kfra8p0\\LocalCache\\local-packages\\Python311\\site-packages\\dart_fss\\fs\\extract.py\", line 1433, in extract\n",
      "    statements = analyze_report(report=report,\n",
      "                 ^^^^^^^^^^^^^^^^^^^^^^^^^^^^^\n",
      "  File \"C:\\Users\\pmsda\\AppData\\Local\\Packages\\PythonSoftwareFoundation.Python.3.11_qbz5n2kfra8p0\\LocalCache\\local-packages\\Python311\\site-packages\\dart_fss\\fs\\extract.py\", line 1276, in analyze_report\n",
      "    raise NotFoundConsolidated('Could not find consolidated financial statements')\n",
      "dart_fss.errors.errors.NotFoundConsolidated: Could not find consolidated financial statements\n",
      "C:\\Users\\pmsda\\AppData\\Local\\Packages\\PythonSoftwareFoundation.Python.3.11_qbz5n2kfra8p0\\LocalCache\\local-packages\\Python311\\site-packages\\dart_fss\\fs\\extract.py:1462: RuntimeWarning: Unable to extract financial statements: {'rcp_no': '20221114000745', 'corp_code': '00173102', 'corp_name': '모나리자', 'stock_code': '012690', 'corp_cls': 'Y', 'report_nm': '[기재정정]사업보고서 (2021.12)', 'flr_nm': '모나리자', 'rcept_dt': '20221114', 'rm': ''}.\n",
      "  warnings.warn(warnings_text, RuntimeWarning)\n"
     ]
    },
    {
     "name": "stdout",
     "output_type": "stream",
     "text": [
      "24 00173102\n"
     ]
    },
    {
     "data": {
      "application/vnd.jupyter.widget-view+json": {
       "model_id": "f9ead6214540482a84cefd2ffb5b16fd",
       "version_major": 2,
       "version_minor": 0
      },
      "text/plain": [
       "Annual reports:   0%|          | 0/2 [00:00<?, ?report/s]"
      ]
     },
     "metadata": {},
     "output_type": "display_data"
    },
    {
     "name": "stdout",
     "output_type": "stream",
     "text": [
      "24 00121288\n"
     ]
    },
    {
     "data": {
      "application/vnd.jupyter.widget-view+json": {
       "model_id": "ee08a0152d6d478487afedd1a5caf0c2",
       "version_major": 2,
       "version_minor": 0
      },
      "text/plain": [
       "Annual reports:   0%|          | 0/7 [00:00<?, ?report/s]"
      ]
     },
     "metadata": {},
     "output_type": "display_data"
    },
    {
     "name": "stdout",
     "output_type": "stream",
     "text": [
      "24 00456218\n"
     ]
    },
    {
     "data": {
      "application/vnd.jupyter.widget-view+json": {
       "model_id": "25b53702d6234ad287564a348d0843d3",
       "version_major": 2,
       "version_minor": 0
      },
      "text/plain": [
       "Annual reports:   0%|          | 0/2 [00:00<?, ?report/s]"
      ]
     },
     "metadata": {},
     "output_type": "display_data"
    },
    {
     "name": "stderr",
     "output_type": "stream",
     "text": [
      "Traceback (most recent call last):\n",
      "  File \"C:\\Users\\pmsda\\AppData\\Local\\Packages\\PythonSoftwareFoundation.Python.3.11_qbz5n2kfra8p0\\LocalCache\\local-packages\\Python311\\site-packages\\dart_fss\\fs\\extract.py\", line 1447, in extract\n",
      "    nstatements = analyze_report(report=report,\n",
      "                  ^^^^^^^^^^^^^^^^^^^^^^^^^^^^^\n",
      "  File \"C:\\Users\\pmsda\\AppData\\Local\\Packages\\PythonSoftwareFoundation.Python.3.11_qbz5n2kfra8p0\\LocalCache\\local-packages\\Python311\\site-packages\\dart_fss\\fs\\extract.py\", line 1276, in analyze_report\n",
      "    raise NotFoundConsolidated('Could not find consolidated financial statements')\n",
      "dart_fss.errors.errors.NotFoundConsolidated: Could not find consolidated financial statements\n",
      "C:\\Users\\pmsda\\AppData\\Local\\Packages\\PythonSoftwareFoundation.Python.3.11_qbz5n2kfra8p0\\LocalCache\\local-packages\\Python311\\site-packages\\dart_fss\\fs\\extract.py:1462: RuntimeWarning: Unable to extract financial statements: {'rcp_no': '20220316001090', 'corp_code': '01035289', 'corp_name': '모두투어리츠', 'stock_code': '204210', 'corp_cls': 'Y', 'report_nm': '사업보고서 (2021.12)', 'flr_nm': '모두투어리츠', 'rcept_dt': '20220316', 'rm': ''}.\n",
      "  warnings.warn(warnings_text, RuntimeWarning)\n"
     ]
    },
    {
     "name": "stdout",
     "output_type": "stream",
     "text": [
      "24 01035289\n"
     ]
    },
    {
     "data": {
      "application/vnd.jupyter.widget-view+json": {
       "model_id": "b210a2ae5ad746269da33a09533cc07c",
       "version_major": 2,
       "version_minor": 0
      },
      "text/plain": [
       "Annual reports:   0%|          | 0/2 [00:00<?, ?report/s]"
      ]
     },
     "metadata": {},
     "output_type": "display_data"
    },
    {
     "name": "stdout",
     "output_type": "stream",
     "text": [
      "24 00151128\n"
     ]
    },
    {
     "data": {
      "application/vnd.jupyter.widget-view+json": {
       "model_id": "72df3f86655b416f8464edc3b067c20d",
       "version_major": 2,
       "version_minor": 0
      },
      "text/plain": [
       "Annual reports:   0%|          | 0/2 [00:00<?, ?report/s]"
      ]
     },
     "metadata": {},
     "output_type": "display_data"
    },
    {
     "name": "stdout",
     "output_type": "stream",
     "text": [
      "24 00119007\n"
     ]
    },
    {
     "data": {
      "application/vnd.jupyter.widget-view+json": {
       "model_id": "8ca713c71ae548c6be1d1fa48893d1f4",
       "version_major": 2,
       "version_minor": 0
      },
      "text/plain": [
       "Annual reports:   0%|          | 0/2 [00:00<?, ?report/s]"
      ]
     },
     "metadata": {},
     "output_type": "display_data"
    },
    {
     "name": "stdout",
     "output_type": "stream",
     "text": [
      "24 00136086\n"
     ]
    },
    {
     "data": {
      "application/vnd.jupyter.widget-view+json": {
       "model_id": "dd5d425e87b74155bf7a58fe60a0b614",
       "version_major": 2,
       "version_minor": 0
      },
      "text/plain": [
       "Annual reports:   0%|          | 0/2 [00:00<?, ?report/s]"
      ]
     },
     "metadata": {},
     "output_type": "display_data"
    },
    {
     "name": "stdout",
     "output_type": "stream",
     "text": [
      "24 00121543\n"
     ]
    },
    {
     "data": {
      "application/vnd.jupyter.widget-view+json": {
       "model_id": "431547b512144604a4ebc8152eb2572f",
       "version_major": 2,
       "version_minor": 0
      },
      "text/plain": [
       "Annual reports:   0%|          | 0/2 [00:00<?, ?report/s]"
      ]
     },
     "metadata": {},
     "output_type": "display_data"
    },
    {
     "name": "stderr",
     "output_type": "stream",
     "text": [
      "Traceback (most recent call last):\n",
      "  File \"C:\\Users\\pmsda\\AppData\\Local\\Packages\\PythonSoftwareFoundation.Python.3.11_qbz5n2kfra8p0\\LocalCache\\local-packages\\Python311\\site-packages\\dart_fss\\fs\\extract.py\", line 1433, in extract\n",
      "    statements = analyze_report(report=report,\n",
      "                 ^^^^^^^^^^^^^^^^^^^^^^^^^^^^^\n",
      "  File \"C:\\Users\\pmsda\\AppData\\Local\\Packages\\PythonSoftwareFoundation.Python.3.11_qbz5n2kfra8p0\\LocalCache\\local-packages\\Python311\\site-packages\\dart_fss\\fs\\extract.py\", line 1276, in analyze_report\n",
      "    raise NotFoundConsolidated('Could not find consolidated financial statements')\n",
      "dart_fss.errors.errors.NotFoundConsolidated: Could not find consolidated financial statements\n",
      "C:\\Users\\pmsda\\AppData\\Local\\Packages\\PythonSoftwareFoundation.Python.3.11_qbz5n2kfra8p0\\LocalCache\\local-packages\\Python311\\site-packages\\dart_fss\\fs\\extract.py:1462: RuntimeWarning: Unable to extract financial statements: {'rcp_no': '20230316000931', 'corp_code': '00121570', 'corp_name': '문배철강', 'stock_code': '008420', 'corp_cls': 'Y', 'report_nm': '사업보고서 (2022.12)', 'flr_nm': '문배철강', 'rcept_dt': '20230316', 'rm': ''}.\n",
      "  warnings.warn(warnings_text, RuntimeWarning)\n",
      "Traceback (most recent call last):\n",
      "  File \"C:\\Users\\pmsda\\AppData\\Local\\Packages\\PythonSoftwareFoundation.Python.3.11_qbz5n2kfra8p0\\LocalCache\\local-packages\\Python311\\site-packages\\dart_fss\\fs\\extract.py\", line 1433, in extract\n",
      "    statements = analyze_report(report=report,\n",
      "                 ^^^^^^^^^^^^^^^^^^^^^^^^^^^^^\n",
      "  File \"C:\\Users\\pmsda\\AppData\\Local\\Packages\\PythonSoftwareFoundation.Python.3.11_qbz5n2kfra8p0\\LocalCache\\local-packages\\Python311\\site-packages\\dart_fss\\fs\\extract.py\", line 1276, in analyze_report\n",
      "    raise NotFoundConsolidated('Could not find consolidated financial statements')\n",
      "dart_fss.errors.errors.NotFoundConsolidated: Could not find consolidated financial statements\n",
      "C:\\Users\\pmsda\\AppData\\Local\\Packages\\PythonSoftwareFoundation.Python.3.11_qbz5n2kfra8p0\\LocalCache\\local-packages\\Python311\\site-packages\\dart_fss\\fs\\extract.py:1462: RuntimeWarning: Unable to extract financial statements: {'rcp_no': '20220310001184', 'corp_code': '00121570', 'corp_name': '문배철강', 'stock_code': '008420', 'corp_cls': 'Y', 'report_nm': '사업보고서 (2021.12)', 'flr_nm': '문배철강', 'rcept_dt': '20220310', 'rm': ''}.\n",
      "  warnings.warn(warnings_text, RuntimeWarning)\n"
     ]
    },
    {
     "name": "stdout",
     "output_type": "stream",
     "text": [
      "24 00121570\n"
     ]
    },
    {
     "data": {
      "application/vnd.jupyter.widget-view+json": {
       "model_id": "8466bda825824aa5be9d641bfa6336a7",
       "version_major": 2,
       "version_minor": 0
      },
      "text/plain": [
       "Annual reports:   0%|          | 0/2 [00:00<?, ?report/s]"
      ]
     },
     "metadata": {},
     "output_type": "display_data"
    },
    {
     "name": "stdout",
     "output_type": "stream",
     "text": [
      "24 00197759\n"
     ]
    },
    {
     "data": {
      "application/vnd.jupyter.widget-view+json": {
       "model_id": "1e6c502d25f14657bd29cffb3d1e6555",
       "version_major": 2,
       "version_minor": 0
      },
      "text/plain": [
       "Annual reports:   0%|          | 0/2 [00:00<?, ?report/s]"
      ]
     },
     "metadata": {},
     "output_type": "display_data"
    },
    {
     "name": "stderr",
     "output_type": "stream",
     "text": [
      "Traceback (most recent call last):\n",
      "  File \"C:\\Users\\pmsda\\AppData\\Local\\Packages\\PythonSoftwareFoundation.Python.3.11_qbz5n2kfra8p0\\LocalCache\\local-packages\\Python311\\site-packages\\dart_fss\\fs\\extract.py\", line 1447, in extract\n",
      "    nstatements = analyze_report(report=report,\n",
      "                  ^^^^^^^^^^^^^^^^^^^^^^^^^^^^^\n",
      "  File \"C:\\Users\\pmsda\\AppData\\Local\\Packages\\PythonSoftwareFoundation.Python.3.11_qbz5n2kfra8p0\\LocalCache\\local-packages\\Python311\\site-packages\\dart_fss\\fs\\extract.py\", line 1276, in analyze_report\n",
      "    raise NotFoundConsolidated('Could not find consolidated financial statements')\n",
      "dart_fss.errors.errors.NotFoundConsolidated: Could not find consolidated financial statements\n",
      "C:\\Users\\pmsda\\AppData\\Local\\Packages\\PythonSoftwareFoundation.Python.3.11_qbz5n2kfra8p0\\LocalCache\\local-packages\\Python311\\site-packages\\dart_fss\\fs\\extract.py:1462: RuntimeWarning: Unable to extract financial statements: {'rcp_no': '20220318000627', 'corp_code': '00104786', 'corp_name': '미래아이앤지', 'stock_code': '007120', 'corp_cls': 'Y', 'report_nm': '사업보고서 (2021.12)', 'flr_nm': '미래아이앤지', 'rcept_dt': '20220318', 'rm': ''}.\n",
      "  warnings.warn(warnings_text, RuntimeWarning)\n"
     ]
    },
    {
     "name": "stdout",
     "output_type": "stream",
     "text": [
      "24 00104786\n"
     ]
    },
    {
     "data": {
      "application/vnd.jupyter.widget-view+json": {
       "model_id": "9a1da35b30ea437882255712b94259ea",
       "version_major": 2,
       "version_minor": 0
      },
      "text/plain": [
       "Annual reports:   0%|          | 0/4 [00:00<?, ?report/s]"
      ]
     },
     "metadata": {},
     "output_type": "display_data"
    },
    {
     "name": "stdout",
     "output_type": "stream",
     "text": [
      "25 00340096\n"
     ]
    },
    {
     "data": {
      "application/vnd.jupyter.widget-view+json": {
       "model_id": "f4a8dbc363c74db6af72450d6213b8cf",
       "version_major": 2,
       "version_minor": 0
      },
      "text/plain": [
       "Annual reports:   0%|          | 0/2 [00:00<?, ?report/s]"
      ]
     },
     "metadata": {},
     "output_type": "display_data"
    },
    {
     "name": "stdout",
     "output_type": "stream",
     "text": [
      "26 00112332\n"
     ]
    },
    {
     "data": {
      "application/vnd.jupyter.widget-view+json": {
       "model_id": "2f3757202bbf46ca88685772ef9f6c45",
       "version_major": 2,
       "version_minor": 0
      },
      "text/plain": [
       "Annual reports:   0%|          | 0/2 [00:00<?, ?report/s]"
      ]
     },
     "metadata": {},
     "output_type": "display_data"
    },
    {
     "name": "stdout",
     "output_type": "stream",
     "text": [
      "27 00111722\n"
     ]
    },
    {
     "data": {
      "application/vnd.jupyter.widget-view+json": {
       "model_id": "12652b1e06194e3a8b2af1aae4973fb0",
       "version_major": 2,
       "version_minor": 0
      },
      "text/plain": [
       "Annual reports:   0%|          | 0/2 [00:00<?, ?report/s]"
      ]
     },
     "metadata": {},
     "output_type": "display_data"
    },
    {
     "name": "stdout",
     "output_type": "stream",
     "text": [
      "27 00121932\n"
     ]
    },
    {
     "data": {
      "application/vnd.jupyter.widget-view+json": {
       "model_id": "be252311984146828a344bcb48050cf7",
       "version_major": 2,
       "version_minor": 0
      },
      "text/plain": [
       "Annual reports:   0%|          | 0/2 [00:00<?, ?report/s]"
      ]
     },
     "metadata": {},
     "output_type": "display_data"
    },
    {
     "name": "stdout",
     "output_type": "stream",
     "text": [
      "27 01234297\n"
     ]
    },
    {
     "data": {
      "application/vnd.jupyter.widget-view+json": {
       "model_id": "d7ca1c2bf5254efb9aef26df3de7dbc1",
       "version_major": 2,
       "version_minor": 0
      },
      "text/plain": [
       "Annual reports:   0%|          | 0/2 [00:00<?, ?report/s]"
      ]
     },
     "metadata": {},
     "output_type": "display_data"
    },
    {
     "name": "stdout",
     "output_type": "stream",
     "text": [
      "27 00706715\n"
     ]
    },
    {
     "data": {
      "application/vnd.jupyter.widget-view+json": {
       "model_id": "8c1a39af5d6a4265aacd9dd1125bf21d",
       "version_major": 2,
       "version_minor": 0
      },
      "text/plain": [
       "Annual reports:   0%|          | 0/2 [00:00<?, ?report/s]"
      ]
     },
     "metadata": {},
     "output_type": "display_data"
    },
    {
     "name": "stderr",
     "output_type": "stream",
     "text": [
      "Traceback (most recent call last):\n",
      "  File \"C:\\Users\\pmsda\\AppData\\Local\\Packages\\PythonSoftwareFoundation.Python.3.11_qbz5n2kfra8p0\\LocalCache\\local-packages\\Python311\\site-packages\\dart_fss\\fs\\extract.py\", line 1433, in extract\n",
      "    statements = analyze_report(report=report,\n",
      "                 ^^^^^^^^^^^^^^^^^^^^^^^^^^^^^\n",
      "  File \"C:\\Users\\pmsda\\AppData\\Local\\Packages\\PythonSoftwareFoundation.Python.3.11_qbz5n2kfra8p0\\LocalCache\\local-packages\\Python311\\site-packages\\dart_fss\\fs\\extract.py\", line 1276, in analyze_report\n",
      "    raise NotFoundConsolidated('Could not find consolidated financial statements')\n",
      "dart_fss.errors.errors.NotFoundConsolidated: Could not find consolidated financial statements\n",
      "C:\\Users\\pmsda\\AppData\\Local\\Packages\\PythonSoftwareFoundation.Python.3.11_qbz5n2kfra8p0\\LocalCache\\local-packages\\Python311\\site-packages\\dart_fss\\fs\\extract.py:1462: RuntimeWarning: Unable to extract financial statements: {'rcp_no': '20230310000296', 'corp_code': '00855163', 'corp_name': '미원화학', 'stock_code': '134380', 'corp_cls': 'Y', 'report_nm': '사업보고서 (2022.12)', 'flr_nm': '미원화학', 'rcept_dt': '20230310', 'rm': ''}.\n",
      "  warnings.warn(warnings_text, RuntimeWarning)\n",
      "Traceback (most recent call last):\n",
      "  File \"C:\\Users\\pmsda\\AppData\\Local\\Packages\\PythonSoftwareFoundation.Python.3.11_qbz5n2kfra8p0\\LocalCache\\local-packages\\Python311\\site-packages\\dart_fss\\fs\\extract.py\", line 1433, in extract\n",
      "    statements = analyze_report(report=report,\n",
      "                 ^^^^^^^^^^^^^^^^^^^^^^^^^^^^^\n",
      "  File \"C:\\Users\\pmsda\\AppData\\Local\\Packages\\PythonSoftwareFoundation.Python.3.11_qbz5n2kfra8p0\\LocalCache\\local-packages\\Python311\\site-packages\\dart_fss\\fs\\extract.py\", line 1276, in analyze_report\n",
      "    raise NotFoundConsolidated('Could not find consolidated financial statements')\n",
      "dart_fss.errors.errors.NotFoundConsolidated: Could not find consolidated financial statements\n",
      "C:\\Users\\pmsda\\AppData\\Local\\Packages\\PythonSoftwareFoundation.Python.3.11_qbz5n2kfra8p0\\LocalCache\\local-packages\\Python311\\site-packages\\dart_fss\\fs\\extract.py:1462: RuntimeWarning: Unable to extract financial statements: {'rcp_no': '20220318000262', 'corp_code': '00855163', 'corp_name': '미원화학', 'stock_code': '134380', 'corp_cls': 'Y', 'report_nm': '사업보고서 (2021.12)', 'flr_nm': '미원화학', 'rcept_dt': '20220318', 'rm': ''}.\n",
      "  warnings.warn(warnings_text, RuntimeWarning)\n"
     ]
    },
    {
     "name": "stdout",
     "output_type": "stream",
     "text": [
      "27 00855163\n"
     ]
    },
    {
     "data": {
      "application/vnd.jupyter.widget-view+json": {
       "model_id": "a3cb6d8bbe98467daddec2ac4e08914d",
       "version_major": 2,
       "version_minor": 0
      },
      "text/plain": [
       "Annual reports:   0%|          | 0/2 [00:00<?, ?report/s]"
      ]
     },
     "metadata": {},
     "output_type": "display_data"
    },
    {
     "name": "stdout",
     "output_type": "stream",
     "text": [
      "27 00122056\n"
     ]
    },
    {
     "data": {
      "application/vnd.jupyter.widget-view+json": {
       "model_id": "bff0c26ffd124bb7a2e140d5e4f71437",
       "version_major": 2,
       "version_minor": 0
      },
      "text/plain": [
       "Annual reports:   0%|          | 0/2 [00:00<?, ?report/s]"
      ]
     },
     "metadata": {},
     "output_type": "display_data"
    },
    {
     "name": "stdout",
     "output_type": "stream",
     "text": [
      "27 00216027\n"
     ]
    },
    {
     "data": {
      "application/vnd.jupyter.widget-view+json": {
       "model_id": "37e3c0674e47417dbba434ec70b34786",
       "version_major": 2,
       "version_minor": 0
      },
      "text/plain": [
       "Annual reports:   0%|          | 0/2 [00:00<?, ?report/s]"
      ]
     },
     "metadata": {},
     "output_type": "display_data"
    },
    {
     "name": "stdout",
     "output_type": "stream",
     "text": [
      "27 00326731\n"
     ]
    },
    {
     "data": {
      "application/vnd.jupyter.widget-view+json": {
       "model_id": "77aed7c9f6cc4565ad80324926f18054",
       "version_major": 2,
       "version_minor": 0
      },
      "text/plain": [
       "Annual reports:   0%|          | 0/2 [00:00<?, ?report/s]"
      ]
     },
     "metadata": {},
     "output_type": "display_data"
    },
    {
     "name": "stderr",
     "output_type": "stream",
     "text": [
      "Traceback (most recent call last):\n",
      "  File \"C:\\Users\\pmsda\\AppData\\Local\\Packages\\PythonSoftwareFoundation.Python.3.11_qbz5n2kfra8p0\\LocalCache\\local-packages\\Python311\\site-packages\\dart_fss\\fs\\extract.py\", line 1433, in extract\n",
      "    statements = analyze_report(report=report,\n",
      "                 ^^^^^^^^^^^^^^^^^^^^^^^^^^^^^\n",
      "  File \"C:\\Users\\pmsda\\AppData\\Local\\Packages\\PythonSoftwareFoundation.Python.3.11_qbz5n2kfra8p0\\LocalCache\\local-packages\\Python311\\site-packages\\dart_fss\\fs\\extract.py\", line 1276, in analyze_report\n",
      "    raise NotFoundConsolidated('Could not find consolidated financial statements')\n",
      "dart_fss.errors.errors.NotFoundConsolidated: Could not find consolidated financial statements\n",
      "C:\\Users\\pmsda\\AppData\\Local\\Packages\\PythonSoftwareFoundation.Python.3.11_qbz5n2kfra8p0\\LocalCache\\local-packages\\Python311\\site-packages\\dart_fss\\fs\\extract.py:1462: RuntimeWarning: Unable to extract financial statements: {'rcp_no': '20230315000527', 'corp_code': '01335851', 'corp_name': '박셀바이오', 'stock_code': '323990', 'corp_cls': 'K', 'report_nm': '사업보고서 (2022.12)', 'flr_nm': '박셀바이오', 'rcept_dt': '20230315', 'rm': ''}.\n",
      "  warnings.warn(warnings_text, RuntimeWarning)\n",
      "Traceback (most recent call last):\n",
      "  File \"C:\\Users\\pmsda\\AppData\\Local\\Packages\\PythonSoftwareFoundation.Python.3.11_qbz5n2kfra8p0\\LocalCache\\local-packages\\Python311\\site-packages\\dart_fss\\fs\\extract.py\", line 1433, in extract\n",
      "    statements = analyze_report(report=report,\n",
      "                 ^^^^^^^^^^^^^^^^^^^^^^^^^^^^^\n",
      "  File \"C:\\Users\\pmsda\\AppData\\Local\\Packages\\PythonSoftwareFoundation.Python.3.11_qbz5n2kfra8p0\\LocalCache\\local-packages\\Python311\\site-packages\\dart_fss\\fs\\extract.py\", line 1276, in analyze_report\n",
      "    raise NotFoundConsolidated('Could not find consolidated financial statements')\n",
      "dart_fss.errors.errors.NotFoundConsolidated: Could not find consolidated financial statements\n",
      "C:\\Users\\pmsda\\AppData\\Local\\Packages\\PythonSoftwareFoundation.Python.3.11_qbz5n2kfra8p0\\LocalCache\\local-packages\\Python311\\site-packages\\dart_fss\\fs\\extract.py:1462: RuntimeWarning: Unable to extract financial statements: {'rcp_no': '20220705000258', 'corp_code': '01335851', 'corp_name': '박셀바이오', 'stock_code': '323990', 'corp_cls': 'K', 'report_nm': '[기재정정]사업보고서 (2021.12)', 'flr_nm': '박셀바이오', 'rcept_dt': '20220705', 'rm': ''}.\n",
      "  warnings.warn(warnings_text, RuntimeWarning)\n"
     ]
    },
    {
     "name": "stdout",
     "output_type": "stream",
     "text": [
      "27 01335851\n"
     ]
    },
    {
     "data": {
      "application/vnd.jupyter.widget-view+json": {
       "model_id": "109f23bc8bfd49b29dfd52d168542c54",
       "version_major": 2,
       "version_minor": 0
      },
      "text/plain": [
       "Annual reports:   0%|          | 0/1 [00:00<?, ?report/s]"
      ]
     },
     "metadata": {},
     "output_type": "display_data"
    },
    {
     "name": "stdout",
     "output_type": "stream",
     "text": [
      "27 00122348\n"
     ]
    },
    {
     "data": {
      "application/vnd.jupyter.widget-view+json": {
       "model_id": "f13d14a690cd45859dc2047adea4d1cc",
       "version_major": 2,
       "version_minor": 0
      },
      "text/plain": [
       "Annual reports:   0%|          | 0/2 [00:00<?, ?report/s]"
      ]
     },
     "metadata": {},
     "output_type": "display_data"
    },
    {
     "name": "stdout",
     "output_type": "stream",
     "text": [
      "27 00122472\n"
     ]
    },
    {
     "data": {
      "application/vnd.jupyter.widget-view+json": {
       "model_id": "44089f3569fe4053b6f8818bbece1811",
       "version_major": 2,
       "version_minor": 0
      },
      "text/plain": [
       "Annual reports:   0%|          | 0/2 [00:00<?, ?report/s]"
      ]
     },
     "metadata": {},
     "output_type": "display_data"
    },
    {
     "name": "stdout",
     "output_type": "stream",
     "text": [
      "27 00122551\n"
     ]
    },
    {
     "data": {
      "application/vnd.jupyter.widget-view+json": {
       "model_id": "97683befb9494cb784610033d0e460dd",
       "version_major": 2,
       "version_minor": 0
      },
      "text/plain": [
       "Annual reports:   0%|          | 0/2 [00:00<?, ?report/s]"
      ]
     },
     "metadata": {},
     "output_type": "display_data"
    },
    {
     "name": "stdout",
     "output_type": "stream",
     "text": [
      "27 00122694\n"
     ]
    },
    {
     "data": {
      "application/vnd.jupyter.widget-view+json": {
       "model_id": "52bc44e68bf94c8a810a9aa4fcba9796",
       "version_major": 2,
       "version_minor": 0
      },
      "text/plain": [
       "Annual reports:   0%|          | 0/2 [00:00<?, ?report/s]"
      ]
     },
     "metadata": {},
     "output_type": "display_data"
    },
    {
     "name": "stdout",
     "output_type": "stream",
     "text": [
      "27 00122898\n"
     ]
    },
    {
     "data": {
      "application/vnd.jupyter.widget-view+json": {
       "model_id": "c7a69c546546432098ba49c7c3483914",
       "version_major": 2,
       "version_minor": 0
      },
      "text/plain": [
       "Annual reports:   0%|          | 0/2 [00:00<?, ?report/s]"
      ]
     },
     "metadata": {},
     "output_type": "display_data"
    },
    {
     "name": "stderr",
     "output_type": "stream",
     "text": [
      "Traceback (most recent call last):\n",
      "  File \"C:\\Users\\pmsda\\AppData\\Local\\Packages\\PythonSoftwareFoundation.Python.3.11_qbz5n2kfra8p0\\LocalCache\\local-packages\\Python311\\site-packages\\dart_fss\\fs\\extract.py\", line 1433, in extract\n",
      "    statements = analyze_report(report=report,\n",
      "                 ^^^^^^^^^^^^^^^^^^^^^^^^^^^^^\n",
      "  File \"C:\\Users\\pmsda\\AppData\\Local\\Packages\\PythonSoftwareFoundation.Python.3.11_qbz5n2kfra8p0\\LocalCache\\local-packages\\Python311\\site-packages\\dart_fss\\fs\\extract.py\", line 1276, in analyze_report\n",
      "    raise NotFoundConsolidated('Could not find consolidated financial statements')\n",
      "dart_fss.errors.errors.NotFoundConsolidated: Could not find consolidated financial statements\n",
      "C:\\Users\\pmsda\\AppData\\Local\\Packages\\PythonSoftwareFoundation.Python.3.11_qbz5n2kfra8p0\\LocalCache\\local-packages\\Python311\\site-packages\\dart_fss\\fs\\extract.py:1462: RuntimeWarning: Unable to extract financial statements: {'rcp_no': '20230316000878', 'corp_code': '00123107', 'corp_name': '보락', 'stock_code': '002760', 'corp_cls': 'Y', 'report_nm': '사업보고서 (2022.12)', 'flr_nm': '보락', 'rcept_dt': '20230316', 'rm': ''}.\n",
      "  warnings.warn(warnings_text, RuntimeWarning)\n",
      "Traceback (most recent call last):\n",
      "  File \"C:\\Users\\pmsda\\AppData\\Local\\Packages\\PythonSoftwareFoundation.Python.3.11_qbz5n2kfra8p0\\LocalCache\\local-packages\\Python311\\site-packages\\dart_fss\\fs\\extract.py\", line 1433, in extract\n",
      "    statements = analyze_report(report=report,\n",
      "                 ^^^^^^^^^^^^^^^^^^^^^^^^^^^^^\n",
      "  File \"C:\\Users\\pmsda\\AppData\\Local\\Packages\\PythonSoftwareFoundation.Python.3.11_qbz5n2kfra8p0\\LocalCache\\local-packages\\Python311\\site-packages\\dart_fss\\fs\\extract.py\", line 1276, in analyze_report\n",
      "    raise NotFoundConsolidated('Could not find consolidated financial statements')\n",
      "dart_fss.errors.errors.NotFoundConsolidated: Could not find consolidated financial statements\n",
      "C:\\Users\\pmsda\\AppData\\Local\\Packages\\PythonSoftwareFoundation.Python.3.11_qbz5n2kfra8p0\\LocalCache\\local-packages\\Python311\\site-packages\\dart_fss\\fs\\extract.py:1462: RuntimeWarning: Unable to extract financial statements: {'rcp_no': '20220317000649', 'corp_code': '00123107', 'corp_name': '보락', 'stock_code': '002760', 'corp_cls': 'Y', 'report_nm': '사업보고서 (2021.12)', 'flr_nm': '보락', 'rcept_dt': '20220317', 'rm': ''}.\n",
      "  warnings.warn(warnings_text, RuntimeWarning)\n"
     ]
    },
    {
     "name": "stdout",
     "output_type": "stream",
     "text": [
      "27 00123107\n"
     ]
    },
    {
     "data": {
      "application/vnd.jupyter.widget-view+json": {
       "model_id": "e53b0f0c8a3449489b57cc6be7d84d46",
       "version_major": 2,
       "version_minor": 0
      },
      "text/plain": [
       "Annual reports:   0%|          | 0/2 [00:00<?, ?report/s]"
      ]
     },
     "metadata": {},
     "output_type": "display_data"
    },
    {
     "name": "stdout",
     "output_type": "stream",
     "text": [
      "27 00123143\n"
     ]
    },
    {
     "data": {
      "application/vnd.jupyter.widget-view+json": {
       "model_id": "ad7f3b1a1fcd4c6a91d2aadbeffdb982",
       "version_major": 2,
       "version_minor": 0
      },
      "text/plain": [
       "Annual reports:   0%|          | 0/2 [00:00<?, ?report/s]"
      ]
     },
     "metadata": {},
     "output_type": "display_data"
    },
    {
     "name": "stdout",
     "output_type": "stream",
     "text": [
      "27 00123541\n"
     ]
    },
    {
     "data": {
      "application/vnd.jupyter.widget-view+json": {
       "model_id": "a7a6f1b37fdf4c5ebe70a0cb8a8d1492",
       "version_major": 2,
       "version_minor": 0
      },
      "text/plain": [
       "Annual reports:   0%|          | 0/2 [00:00<?, ?report/s]"
      ]
     },
     "metadata": {},
     "output_type": "display_data"
    },
    {
     "name": "stdout",
     "output_type": "stream",
     "text": [
      "27 00123718\n"
     ]
    },
    {
     "data": {
      "application/vnd.jupyter.widget-view+json": {
       "model_id": "5a5c776bb1e845ab8cfe5be4f95b3d14",
       "version_major": 2,
       "version_minor": 0
      },
      "text/plain": [
       "Annual reports:   0%|          | 0/2 [00:00<?, ?report/s]"
      ]
     },
     "metadata": {},
     "output_type": "display_data"
    },
    {
     "name": "stdout",
     "output_type": "stream",
     "text": [
      "28 00123772\n"
     ]
    },
    {
     "data": {
      "application/vnd.jupyter.widget-view+json": {
       "model_id": "88e961da2aa54979822d727aab99ccc7",
       "version_major": 2,
       "version_minor": 0
      },
      "text/plain": [
       "Annual reports:   0%|          | 0/2 [00:00<?, ?report/s]"
      ]
     },
     "metadata": {},
     "output_type": "display_data"
    },
    {
     "name": "stderr",
     "output_type": "stream",
     "text": [
      "Traceback (most recent call last):\n",
      "  File \"C:\\Users\\pmsda\\AppData\\Local\\Packages\\PythonSoftwareFoundation.Python.3.11_qbz5n2kfra8p0\\LocalCache\\local-packages\\Python311\\site-packages\\dart_fss\\fs\\extract.py\", line 1433, in extract\n",
      "    statements = analyze_report(report=report,\n",
      "                 ^^^^^^^^^^^^^^^^^^^^^^^^^^^^^\n",
      "  File \"C:\\Users\\pmsda\\AppData\\Local\\Packages\\PythonSoftwareFoundation.Python.3.11_qbz5n2kfra8p0\\LocalCache\\local-packages\\Python311\\site-packages\\dart_fss\\fs\\extract.py\", line 1276, in analyze_report\n",
      "    raise NotFoundConsolidated('Could not find consolidated financial statements')\n",
      "dart_fss.errors.errors.NotFoundConsolidated: Could not find consolidated financial statements\n",
      "C:\\Users\\pmsda\\AppData\\Local\\Packages\\PythonSoftwareFoundation.Python.3.11_qbz5n2kfra8p0\\LocalCache\\local-packages\\Python311\\site-packages\\dart_fss\\fs\\extract.py:1462: RuntimeWarning: Unable to extract financial statements: {'rcp_no': '20230323000263', 'corp_code': '00123781', 'corp_name': '부국철강', 'stock_code': '026940', 'corp_cls': 'Y', 'report_nm': '사업보고서 (2022.12)', 'flr_nm': '부국철강', 'rcept_dt': '20230323', 'rm': ''}.\n",
      "  warnings.warn(warnings_text, RuntimeWarning)\n",
      "Traceback (most recent call last):\n",
      "  File \"C:\\Users\\pmsda\\AppData\\Local\\Packages\\PythonSoftwareFoundation.Python.3.11_qbz5n2kfra8p0\\LocalCache\\local-packages\\Python311\\site-packages\\dart_fss\\fs\\extract.py\", line 1433, in extract\n",
      "    statements = analyze_report(report=report,\n",
      "                 ^^^^^^^^^^^^^^^^^^^^^^^^^^^^^\n",
      "  File \"C:\\Users\\pmsda\\AppData\\Local\\Packages\\PythonSoftwareFoundation.Python.3.11_qbz5n2kfra8p0\\LocalCache\\local-packages\\Python311\\site-packages\\dart_fss\\fs\\extract.py\", line 1276, in analyze_report\n",
      "    raise NotFoundConsolidated('Could not find consolidated financial statements')\n",
      "dart_fss.errors.errors.NotFoundConsolidated: Could not find consolidated financial statements\n",
      "C:\\Users\\pmsda\\AppData\\Local\\Packages\\PythonSoftwareFoundation.Python.3.11_qbz5n2kfra8p0\\LocalCache\\local-packages\\Python311\\site-packages\\dart_fss\\fs\\extract.py:1462: RuntimeWarning: Unable to extract financial statements: {'rcp_no': '20220317000378', 'corp_code': '00123781', 'corp_name': '부국철강', 'stock_code': '026940', 'corp_cls': 'Y', 'report_nm': '사업보고서 (2021.12)', 'flr_nm': '부국철강', 'rcept_dt': '20220317', 'rm': ''}.\n",
      "  warnings.warn(warnings_text, RuntimeWarning)\n"
     ]
    },
    {
     "name": "stdout",
     "output_type": "stream",
     "text": [
      "28 00123781\n"
     ]
    },
    {
     "data": {
      "application/vnd.jupyter.widget-view+json": {
       "model_id": "9f0f1c114afd4461a2f8b87355ab4341",
       "version_major": 2,
       "version_minor": 0
      },
      "text/plain": [
       "Annual reports:   0%|          | 0/2 [00:00<?, ?report/s]"
      ]
     },
     "metadata": {},
     "output_type": "display_data"
    },
    {
     "name": "stdout",
     "output_type": "stream",
     "text": [
      "28 00124027\n"
     ]
    },
    {
     "data": {
      "application/vnd.jupyter.widget-view+json": {
       "model_id": "14d52be3406d40da98c88656b161b569",
       "version_major": 2,
       "version_minor": 0
      },
      "text/plain": [
       "Annual reports:   0%|          | 0/2 [00:00<?, ?report/s]"
      ]
     },
     "metadata": {},
     "output_type": "display_data"
    },
    {
     "name": "stdout",
     "output_type": "stream",
     "text": [
      "29 00124106\n"
     ]
    },
    {
     "data": {
      "application/vnd.jupyter.widget-view+json": {
       "model_id": "bbf556b7fbcf481290aa3474c3b895e1",
       "version_major": 2,
       "version_minor": 0
      },
      "text/plain": [
       "Annual reports:   0%|          | 0/2 [00:00<?, ?report/s]"
      ]
     },
     "metadata": {},
     "output_type": "display_data"
    },
    {
     "name": "stderr",
     "output_type": "stream",
     "text": [
      "Traceback (most recent call last):\n",
      "  File \"C:\\Users\\pmsda\\AppData\\Local\\Packages\\PythonSoftwareFoundation.Python.3.11_qbz5n2kfra8p0\\LocalCache\\local-packages\\Python311\\site-packages\\dart_fss\\fs\\extract.py\", line 1433, in extract\n",
      "    statements = analyze_report(report=report,\n",
      "                 ^^^^^^^^^^^^^^^^^^^^^^^^^^^^^\n",
      "  File \"C:\\Users\\pmsda\\AppData\\Local\\Packages\\PythonSoftwareFoundation.Python.3.11_qbz5n2kfra8p0\\LocalCache\\local-packages\\Python311\\site-packages\\dart_fss\\fs\\extract.py\", line 1276, in analyze_report\n",
      "    raise NotFoundConsolidated('Could not find consolidated financial statements')\n",
      "dart_fss.errors.errors.NotFoundConsolidated: Could not find consolidated financial statements\n",
      "C:\\Users\\pmsda\\AppData\\Local\\Packages\\PythonSoftwareFoundation.Python.3.11_qbz5n2kfra8p0\\LocalCache\\local-packages\\Python311\\site-packages\\dart_fss\\fs\\extract.py:1462: RuntimeWarning: Unable to extract financial statements: {'rcp_no': '20230323001492', 'corp_code': '00124151', 'corp_name': '부산주공', 'stock_code': '005030', 'corp_cls': 'Y', 'report_nm': '[기재정정]사업보고서 (2022.12)', 'flr_nm': '부산주공', 'rcept_dt': '20230323', 'rm': ''}.\n",
      "  warnings.warn(warnings_text, RuntimeWarning)\n",
      "Traceback (most recent call last):\n",
      "  File \"C:\\Users\\pmsda\\AppData\\Local\\Packages\\PythonSoftwareFoundation.Python.3.11_qbz5n2kfra8p0\\LocalCache\\local-packages\\Python311\\site-packages\\dart_fss\\fs\\extract.py\", line 1433, in extract\n",
      "    statements = analyze_report(report=report,\n",
      "                 ^^^^^^^^^^^^^^^^^^^^^^^^^^^^^\n",
      "  File \"C:\\Users\\pmsda\\AppData\\Local\\Packages\\PythonSoftwareFoundation.Python.3.11_qbz5n2kfra8p0\\LocalCache\\local-packages\\Python311\\site-packages\\dart_fss\\fs\\extract.py\", line 1276, in analyze_report\n",
      "    raise NotFoundConsolidated('Could not find consolidated financial statements')\n",
      "dart_fss.errors.errors.NotFoundConsolidated: Could not find consolidated financial statements\n",
      "C:\\Users\\pmsda\\AppData\\Local\\Packages\\PythonSoftwareFoundation.Python.3.11_qbz5n2kfra8p0\\LocalCache\\local-packages\\Python311\\site-packages\\dart_fss\\fs\\extract.py:1462: RuntimeWarning: Unable to extract financial statements: {'rcp_no': '20220322000532', 'corp_code': '00124151', 'corp_name': '부산주공', 'stock_code': '005030', 'corp_cls': 'Y', 'report_nm': '사업보고서 (2021.12)', 'flr_nm': '부산주공', 'rcept_dt': '20220322', 'rm': ''}.\n",
      "  warnings.warn(warnings_text, RuntimeWarning)\n"
     ]
    },
    {
     "name": "stdout",
     "output_type": "stream",
     "text": [
      "29 00124151\n"
     ]
    },
    {
     "data": {
      "application/vnd.jupyter.widget-view+json": {
       "model_id": "40d6f39f87f44ef6a82b1a20e323824e",
       "version_major": 2,
       "version_minor": 0
      },
      "text/plain": [
       "Annual reports:   0%|          | 0/2 [00:00<?, ?report/s]"
      ]
     },
     "metadata": {},
     "output_type": "display_data"
    },
    {
     "name": "stdout",
     "output_type": "stream",
     "text": [
      "29 00107677\n"
     ]
    },
    {
     "data": {
      "application/vnd.jupyter.widget-view+json": {
       "model_id": "129823fc369d49e6ba8898724bfcee1d",
       "version_major": 2,
       "version_minor": 0
      },
      "text/plain": [
       "Annual reports:   0%|          | 0/2 [00:00<?, ?report/s]"
      ]
     },
     "metadata": {},
     "output_type": "display_data"
    },
    {
     "name": "stdout",
     "output_type": "stream",
     "text": [
      "29 00520887\n"
     ]
    },
    {
     "data": {
      "application/vnd.jupyter.widget-view+json": {
       "model_id": "d8b80bdf4379493ba03fc77185c713bc",
       "version_major": 2,
       "version_minor": 0
      },
      "text/plain": [
       "Annual reports:   0%|          | 0/2 [00:00<?, ?report/s]"
      ]
     },
     "metadata": {},
     "output_type": "display_data"
    },
    {
     "name": "stdout",
     "output_type": "stream",
     "text": [
      "29 00447609\n"
     ]
    },
    {
     "data": {
      "application/vnd.jupyter.widget-view+json": {
       "model_id": "790370e8162a4357bb23993e91d74595",
       "version_major": 2,
       "version_minor": 0
      },
      "text/plain": [
       "Annual reports:   0%|          | 0/5 [00:00<?, ?report/s]"
      ]
     },
     "metadata": {},
     "output_type": "display_data"
    },
    {
     "name": "stdout",
     "output_type": "stream",
     "text": [
      "29 00273615\n"
     ]
    },
    {
     "data": {
      "application/vnd.jupyter.widget-view+json": {
       "model_id": "5d629edf3f5e443eb026003e76998172",
       "version_major": 2,
       "version_minor": 0
      },
      "text/plain": [
       "Annual reports:   0%|          | 0/2 [00:00<?, ?report/s]"
      ]
     },
     "metadata": {},
     "output_type": "display_data"
    },
    {
     "name": "stdout",
     "output_type": "stream",
     "text": [
      "29 00124726\n"
     ]
    },
    {
     "data": {
      "application/vnd.jupyter.widget-view+json": {
       "model_id": "b8778285bc144241a71cbf3cf42c9796",
       "version_major": 2,
       "version_minor": 0
      },
      "text/plain": [
       "Annual reports:   0%|          | 0/2 [00:00<?, ?report/s]"
      ]
     },
     "metadata": {},
     "output_type": "display_data"
    },
    {
     "name": "stdout",
     "output_type": "stream",
     "text": [
      "29 00857480\n"
     ]
    },
    {
     "data": {
      "application/vnd.jupyter.widget-view+json": {
       "model_id": "e1450b6888524d9e970aab433378043b",
       "version_major": 2,
       "version_minor": 0
      },
      "text/plain": [
       "Annual reports:   0%|          | 0/2 [00:00<?, ?report/s]"
      ]
     },
     "metadata": {},
     "output_type": "display_data"
    },
    {
     "name": "stdout",
     "output_type": "stream",
     "text": [
      "29 00109718\n"
     ]
    },
    {
     "data": {
      "application/vnd.jupyter.widget-view+json": {
       "model_id": "44b4e9a032e14fe3a6fd072b6e02465e",
       "version_major": 2,
       "version_minor": 0
      },
      "text/plain": [
       "Annual reports:   0%|          | 0/2 [00:00<?, ?report/s]"
      ]
     },
     "metadata": {},
     "output_type": "display_data"
    },
    {
     "name": "stdout",
     "output_type": "stream",
     "text": [
      "29 00137252\n"
     ]
    },
    {
     "data": {
      "application/vnd.jupyter.widget-view+json": {
       "model_id": "92d76ce9eb864702a76a6faad2a4e040",
       "version_major": 2,
       "version_minor": 0
      },
      "text/plain": [
       "Annual reports:   0%|          | 0/2 [00:00<?, ?report/s]"
      ]
     },
     "metadata": {},
     "output_type": "display_data"
    },
    {
     "name": "stdout",
     "output_type": "stream",
     "text": [
      "29 00124799\n"
     ]
    },
    {
     "data": {
      "application/vnd.jupyter.widget-view+json": {
       "model_id": "668abd4b5c74489b9cea4316c12f9edd",
       "version_major": 2,
       "version_minor": 0
      },
      "text/plain": [
       "Annual reports:   0%|          | 0/2 [00:00<?, ?report/s]"
      ]
     },
     "metadata": {},
     "output_type": "display_data"
    },
    {
     "name": "stderr",
     "output_type": "stream",
     "text": [
      "Traceback (most recent call last):\n",
      "  File \"C:\\Users\\pmsda\\AppData\\Local\\Packages\\PythonSoftwareFoundation.Python.3.11_qbz5n2kfra8p0\\LocalCache\\local-packages\\Python311\\site-packages\\dart_fss\\fs\\extract.py\", line 1433, in extract\n",
      "    statements = analyze_report(report=report,\n",
      "                 ^^^^^^^^^^^^^^^^^^^^^^^^^^^^^\n",
      "  File \"C:\\Users\\pmsda\\AppData\\Local\\Packages\\PythonSoftwareFoundation.Python.3.11_qbz5n2kfra8p0\\LocalCache\\local-packages\\Python311\\site-packages\\dart_fss\\fs\\extract.py\", line 1276, in analyze_report\n",
      "    raise NotFoundConsolidated('Could not find consolidated financial statements')\n",
      "dart_fss.errors.errors.NotFoundConsolidated: Could not find consolidated financial statements\n",
      "C:\\Users\\pmsda\\AppData\\Local\\Packages\\PythonSoftwareFoundation.Python.3.11_qbz5n2kfra8p0\\LocalCache\\local-packages\\Python311\\site-packages\\dart_fss\\fs\\extract.py:1462: RuntimeWarning: Unable to extract financial statements: {'rcp_no': '20230315001385', 'corp_code': '00124780', 'corp_name': '사조씨푸드', 'stock_code': '014710', 'corp_cls': 'Y', 'report_nm': '사업보고서 (2022.12)', 'flr_nm': '사조씨푸드', 'rcept_dt': '20230315', 'rm': ''}.\n",
      "  warnings.warn(warnings_text, RuntimeWarning)\n",
      "Traceback (most recent call last):\n",
      "  File \"C:\\Users\\pmsda\\AppData\\Local\\Packages\\PythonSoftwareFoundation.Python.3.11_qbz5n2kfra8p0\\LocalCache\\local-packages\\Python311\\site-packages\\dart_fss\\fs\\extract.py\", line 1433, in extract\n",
      "    statements = analyze_report(report=report,\n",
      "                 ^^^^^^^^^^^^^^^^^^^^^^^^^^^^^\n",
      "  File \"C:\\Users\\pmsda\\AppData\\Local\\Packages\\PythonSoftwareFoundation.Python.3.11_qbz5n2kfra8p0\\LocalCache\\local-packages\\Python311\\site-packages\\dart_fss\\fs\\extract.py\", line 1276, in analyze_report\n",
      "    raise NotFoundConsolidated('Could not find consolidated financial statements')\n",
      "dart_fss.errors.errors.NotFoundConsolidated: Could not find consolidated financial statements\n",
      "C:\\Users\\pmsda\\AppData\\Local\\Packages\\PythonSoftwareFoundation.Python.3.11_qbz5n2kfra8p0\\LocalCache\\local-packages\\Python311\\site-packages\\dart_fss\\fs\\extract.py:1462: RuntimeWarning: Unable to extract financial statements: {'rcp_no': '20220318001114', 'corp_code': '00124780', 'corp_name': '사조씨푸드', 'stock_code': '014710', 'corp_cls': 'Y', 'report_nm': '[기재정정]사업보고서 (2021.12)', 'flr_nm': '사조씨푸드', 'rcept_dt': '20220318', 'rm': ''}.\n",
      "  warnings.warn(warnings_text, RuntimeWarning)\n"
     ]
    },
    {
     "name": "stdout",
     "output_type": "stream",
     "text": [
      "29 00124780\n"
     ]
    },
    {
     "data": {
      "application/vnd.jupyter.widget-view+json": {
       "model_id": "178ccfe2b7d948f3a349f26e343a3fb8",
       "version_major": 2,
       "version_minor": 0
      },
      "text/plain": [
       "Annual reports:   0%|          | 0/2 [00:00<?, ?report/s]"
      ]
     },
     "metadata": {},
     "output_type": "display_data"
    },
    {
     "name": "stderr",
     "output_type": "stream",
     "text": [
      "Traceback (most recent call last):\n",
      "  File \"C:\\Users\\pmsda\\AppData\\Local\\Packages\\PythonSoftwareFoundation.Python.3.11_qbz5n2kfra8p0\\LocalCache\\local-packages\\Python311\\site-packages\\dart_fss\\fs\\extract.py\", line 1433, in extract\n",
      "    statements = analyze_report(report=report,\n",
      "                 ^^^^^^^^^^^^^^^^^^^^^^^^^^^^^\n",
      "  File \"C:\\Users\\pmsda\\AppData\\Local\\Packages\\PythonSoftwareFoundation.Python.3.11_qbz5n2kfra8p0\\LocalCache\\local-packages\\Python311\\site-packages\\dart_fss\\fs\\extract.py\", line 1276, in analyze_report\n",
      "    raise NotFoundConsolidated('Could not find consolidated financial statements')\n",
      "dart_fss.errors.errors.NotFoundConsolidated: Could not find consolidated financial statements\n",
      "C:\\Users\\pmsda\\AppData\\Local\\Packages\\PythonSoftwareFoundation.Python.3.11_qbz5n2kfra8p0\\LocalCache\\local-packages\\Python311\\site-packages\\dart_fss\\fs\\extract.py:1462: RuntimeWarning: Unable to extract financial statements: {'rcp_no': '20230315001257', 'corp_code': '00141875', 'corp_name': '사조오양', 'stock_code': '006090', 'corp_cls': 'Y', 'report_nm': '사업보고서 (2022.12)', 'flr_nm': '사조오양', 'rcept_dt': '20230315', 'rm': ''}.\n",
      "  warnings.warn(warnings_text, RuntimeWarning)\n",
      "Traceback (most recent call last):\n",
      "  File \"C:\\Users\\pmsda\\AppData\\Local\\Packages\\PythonSoftwareFoundation.Python.3.11_qbz5n2kfra8p0\\LocalCache\\local-packages\\Python311\\site-packages\\dart_fss\\fs\\extract.py\", line 1433, in extract\n",
      "    statements = analyze_report(report=report,\n",
      "                 ^^^^^^^^^^^^^^^^^^^^^^^^^^^^^\n",
      "  File \"C:\\Users\\pmsda\\AppData\\Local\\Packages\\PythonSoftwareFoundation.Python.3.11_qbz5n2kfra8p0\\LocalCache\\local-packages\\Python311\\site-packages\\dart_fss\\fs\\extract.py\", line 1276, in analyze_report\n",
      "    raise NotFoundConsolidated('Could not find consolidated financial statements')\n",
      "dart_fss.errors.errors.NotFoundConsolidated: Could not find consolidated financial statements\n",
      "C:\\Users\\pmsda\\AppData\\Local\\Packages\\PythonSoftwareFoundation.Python.3.11_qbz5n2kfra8p0\\LocalCache\\local-packages\\Python311\\site-packages\\dart_fss\\fs\\extract.py:1462: RuntimeWarning: Unable to extract financial statements: {'rcp_no': '20220331002835', 'corp_code': '00141875', 'corp_name': '사조오양', 'stock_code': '006090', 'corp_cls': 'Y', 'report_nm': '[기재정정]사업보고서 (2021.12)', 'flr_nm': '사조오양', 'rcept_dt': '20220331', 'rm': ''}.\n",
      "  warnings.warn(warnings_text, RuntimeWarning)\n"
     ]
    },
    {
     "name": "stdout",
     "output_type": "stream",
     "text": [
      "29 00141875\n"
     ]
    },
    {
     "data": {
      "application/vnd.jupyter.widget-view+json": {
       "model_id": "a59c615dc6fe4a7e994703b981834e42",
       "version_major": 2,
       "version_minor": 0
      },
      "text/plain": [
       "Annual reports:   0%|          | 0/2 [00:00<?, ?report/s]"
      ]
     },
     "metadata": {},
     "output_type": "display_data"
    },
    {
     "name": "stdout",
     "output_type": "stream",
     "text": [
      "30 00260356\n"
     ]
    },
    {
     "data": {
      "application/vnd.jupyter.widget-view+json": {
       "model_id": "c2cb60339987499bb9ded1c89fe0d7f0",
       "version_major": 2,
       "version_minor": 0
      },
      "text/plain": [
       "Annual reports:   0%|          | 0/5 [00:00<?, ?report/s]"
      ]
     },
     "metadata": {},
     "output_type": "display_data"
    },
    {
     "name": "stdout",
     "output_type": "stream",
     "text": [
      "30 00125974\n"
     ]
    },
    {
     "data": {
      "application/vnd.jupyter.widget-view+json": {
       "model_id": "eac4f947c9e94c3c91ceb0553076f2f9",
       "version_major": 2,
       "version_minor": 0
      },
      "text/plain": [
       "Annual reports:   0%|          | 0/2 [00:00<?, ?report/s]"
      ]
     },
     "metadata": {},
     "output_type": "display_data"
    },
    {
     "name": "stdout",
     "output_type": "stream",
     "text": [
      "30 00126362\n"
     ]
    },
    {
     "data": {
      "application/vnd.jupyter.widget-view+json": {
       "model_id": "4316d1af150b42fab8669e4b5aa941a3",
       "version_major": 2,
       "version_minor": 0
      },
      "text/plain": [
       "Annual reports:   0%|          | 0/2 [00:00<?, ?report/s]"
      ]
     },
     "metadata": {},
     "output_type": "display_data"
    },
    {
     "name": "stdout",
     "output_type": "stream",
     "text": [
      "30 00126201\n"
     ]
    },
    {
     "data": {
      "application/vnd.jupyter.widget-view+json": {
       "model_id": "56fb0607b3eb43f5b5ed1f7e632a64a4",
       "version_major": 2,
       "version_minor": 0
      },
      "text/plain": [
       "Annual reports:   0%|          | 0/2 [00:00<?, ?report/s]"
      ]
     },
     "metadata": {},
     "output_type": "display_data"
    },
    {
     "name": "stdout",
     "output_type": "stream",
     "text": [
      "30 00149655\n"
     ]
    },
    {
     "data": {
      "application/vnd.jupyter.widget-view+json": {
       "model_id": "1c6cce943ddb4870bf48befe56afb60d",
       "version_major": 2,
       "version_minor": 0
      },
      "text/plain": [
       "Annual reports:   0%|          | 0/2 [00:00<?, ?report/s]"
      ]
     },
     "metadata": {},
     "output_type": "display_data"
    },
    {
     "name": "stdout",
     "output_type": "stream",
     "text": [
      "30 00877059\n"
     ]
    },
    {
     "data": {
      "application/vnd.jupyter.widget-view+json": {
       "model_id": "bb0c7c90e2084efb87d8d00bc21c5025",
       "version_major": 2,
       "version_minor": 0
      },
      "text/plain": [
       "Annual reports:   0%|          | 0/2 [00:00<?, ?report/s]"
      ]
     },
     "metadata": {},
     "output_type": "display_data"
    },
    {
     "name": "stdout",
     "output_type": "stream",
     "text": [
      "31 00126256\n"
     ]
    },
    {
     "data": {
      "application/vnd.jupyter.widget-view+json": {
       "model_id": "dfa84c4b05db405ba7e5ba90ead59a73",
       "version_major": 2,
       "version_minor": 0
      },
      "text/plain": [
       "Annual reports:   0%|          | 0/2 [00:00<?, ?report/s]"
      ]
     },
     "metadata": {},
     "output_type": "display_data"
    },
    {
     "name": "stdout",
     "output_type": "stream",
     "text": [
      "31 00126186\n"
     ]
    },
    {
     "data": {
      "application/vnd.jupyter.widget-view+json": {
       "model_id": "7b89754161be47a48128a6d375ca19db",
       "version_major": 2,
       "version_minor": 0
      },
      "text/plain": [
       "Annual reports:   0%|          | 0/2 [00:00<?, ?report/s]"
      ]
     },
     "metadata": {},
     "output_type": "display_data"
    },
    {
     "name": "stdout",
     "output_type": "stream",
     "text": [
      "31 00126308\n"
     ]
    },
    {
     "data": {
      "application/vnd.jupyter.widget-view+json": {
       "model_id": "a49c3c13bec74483b647098de3f12467",
       "version_major": 2,
       "version_minor": 0
      },
      "text/plain": [
       "Annual reports:   0%|          | 0/2 [00:00<?, ?report/s]"
      ]
     },
     "metadata": {},
     "output_type": "display_data"
    },
    {
     "name": "stdout",
     "output_type": "stream",
     "text": [
      "31 00126371\n"
     ]
    },
    {
     "data": {
      "application/vnd.jupyter.widget-view+json": {
       "model_id": "9d69936913844e9a93aa340f4860f0b3",
       "version_major": 2,
       "version_minor": 0
      },
      "text/plain": [
       "Annual reports:   0%|          | 0/2 [00:00<?, ?report/s]"
      ]
     },
     "metadata": {},
     "output_type": "display_data"
    },
    {
     "name": "stdout",
     "output_type": "stream",
     "text": [
      "31 00126380\n"
     ]
    },
    {
     "data": {
      "application/vnd.jupyter.widget-view+json": {
       "model_id": "01d28a07214941c0bf403b1bc754d11e",
       "version_major": 2,
       "version_minor": 0
      },
      "text/plain": [
       "Annual reports:   0%|          | 0/2 [00:00<?, ?report/s]"
      ]
     },
     "metadata": {},
     "output_type": "display_data"
    },
    {
     "name": "stderr",
     "output_type": "stream",
     "text": [
      "Traceback (most recent call last):\n",
      "  File \"C:\\Users\\pmsda\\AppData\\Local\\Packages\\PythonSoftwareFoundation.Python.3.11_qbz5n2kfra8p0\\LocalCache\\local-packages\\Python311\\site-packages\\dart_fss\\fs\\extract.py\", line 1433, in extract\n",
      "    statements = analyze_report(report=report,\n",
      "                 ^^^^^^^^^^^^^^^^^^^^^^^^^^^^^\n",
      "  File \"C:\\Users\\pmsda\\AppData\\Local\\Packages\\PythonSoftwareFoundation.Python.3.11_qbz5n2kfra8p0\\LocalCache\\local-packages\\Python311\\site-packages\\dart_fss\\fs\\extract.py\", line 1276, in analyze_report\n",
      "    raise NotFoundConsolidated('Could not find consolidated financial statements')\n",
      "dart_fss.errors.errors.NotFoundConsolidated: Could not find consolidated financial statements\n",
      "C:\\Users\\pmsda\\AppData\\Local\\Packages\\PythonSoftwareFoundation.Python.3.11_qbz5n2kfra8p0\\LocalCache\\local-packages\\Python311\\site-packages\\dart_fss\\fs\\extract.py:1462: RuntimeWarning: Unable to extract financial statements: {'rcp_no': '20230320001021', 'corp_code': '00126414', 'corp_name': '삼성제약', 'stock_code': '001360', 'corp_cls': 'Y', 'report_nm': '사업보고서 (2022.12)', 'flr_nm': '삼성제약', 'rcept_dt': '20230320', 'rm': ''}.\n",
      "  warnings.warn(warnings_text, RuntimeWarning)\n",
      "Traceback (most recent call last):\n",
      "  File \"C:\\Users\\pmsda\\AppData\\Local\\Packages\\PythonSoftwareFoundation.Python.3.11_qbz5n2kfra8p0\\LocalCache\\local-packages\\Python311\\site-packages\\dart_fss\\fs\\extract.py\", line 1433, in extract\n",
      "    statements = analyze_report(report=report,\n",
      "                 ^^^^^^^^^^^^^^^^^^^^^^^^^^^^^\n",
      "  File \"C:\\Users\\pmsda\\AppData\\Local\\Packages\\PythonSoftwareFoundation.Python.3.11_qbz5n2kfra8p0\\LocalCache\\local-packages\\Python311\\site-packages\\dart_fss\\fs\\extract.py\", line 1276, in analyze_report\n",
      "    raise NotFoundConsolidated('Could not find consolidated financial statements')\n",
      "dart_fss.errors.errors.NotFoundConsolidated: Could not find consolidated financial statements\n",
      "C:\\Users\\pmsda\\AppData\\Local\\Packages\\PythonSoftwareFoundation.Python.3.11_qbz5n2kfra8p0\\LocalCache\\local-packages\\Python311\\site-packages\\dart_fss\\fs\\extract.py:1462: RuntimeWarning: Unable to extract financial statements: {'rcp_no': '20220812000933', 'corp_code': '00126414', 'corp_name': '삼성제약', 'stock_code': '001360', 'corp_cls': 'Y', 'report_nm': '[기재정정]사업보고서 (2021.12)', 'flr_nm': '삼성제약', 'rcept_dt': '20220812', 'rm': ''}.\n",
      "  warnings.warn(warnings_text, RuntimeWarning)\n"
     ]
    },
    {
     "name": "stdout",
     "output_type": "stream",
     "text": [
      "31 00126414\n"
     ]
    },
    {
     "data": {
      "application/vnd.jupyter.widget-view+json": {
       "model_id": "8418ccd9585e4c90ad8c5b26c56c9ce0",
       "version_major": 2,
       "version_minor": 0
      },
      "text/plain": [
       "Annual reports:   0%|          | 0/2 [00:00<?, ?report/s]"
      ]
     },
     "metadata": {},
     "output_type": "display_data"
    },
    {
     "name": "stdout",
     "output_type": "stream",
     "text": [
      "31 00126478\n"
     ]
    },
    {
     "data": {
      "application/vnd.jupyter.widget-view+json": {
       "model_id": "115fbc53d8f4431dab6edaab1b55dabd",
       "version_major": 2,
       "version_minor": 0
      },
      "text/plain": [
       "Annual reports:   0%|          | 0/2 [00:00<?, ?report/s]"
      ]
     },
     "metadata": {},
     "output_type": "display_data"
    },
    {
     "name": "stdout",
     "output_type": "stream",
     "text": [
      "32 00104856\n"
     ]
    },
    {
     "data": {
      "application/vnd.jupyter.widget-view+json": {
       "model_id": "89ca8db61f304ed2968a29cf32ff2c64",
       "version_major": 2,
       "version_minor": 0
      },
      "text/plain": [
       "Annual reports:   0%|          | 0/2 [00:00<?, ?report/s]"
      ]
     },
     "metadata": {},
     "output_type": "display_data"
    },
    {
     "name": "stderr",
     "output_type": "stream",
     "text": [
      "Traceback (most recent call last):\n",
      "  File \"C:\\Users\\pmsda\\AppData\\Local\\Packages\\PythonSoftwareFoundation.Python.3.11_qbz5n2kfra8p0\\LocalCache\\local-packages\\Python311\\site-packages\\dart_fss\\fs\\extract.py\", line 1433, in extract\n",
      "    statements = analyze_report(report=report,\n",
      "                 ^^^^^^^^^^^^^^^^^^^^^^^^^^^^^\n",
      "  File \"C:\\Users\\pmsda\\AppData\\Local\\Packages\\PythonSoftwareFoundation.Python.3.11_qbz5n2kfra8p0\\LocalCache\\local-packages\\Python311\\site-packages\\dart_fss\\fs\\extract.py\", line 1276, in analyze_report\n",
      "    raise NotFoundConsolidated('Could not find consolidated financial statements')\n",
      "dart_fss.errors.errors.NotFoundConsolidated: Could not find consolidated financial statements\n",
      "C:\\Users\\pmsda\\AppData\\Local\\Packages\\PythonSoftwareFoundation.Python.3.11_qbz5n2kfra8p0\\LocalCache\\local-packages\\Python311\\site-packages\\dart_fss\\fs\\extract.py:1462: RuntimeWarning: Unable to extract financial statements: {'rcp_no': '20230713000163', 'corp_code': '00423690', 'corp_name': '삼성출판사', 'stock_code': '068290', 'corp_cls': 'Y', 'report_nm': '[기재정정]사업보고서 (2022.12)', 'flr_nm': '삼성출판사', 'rcept_dt': '20230713', 'rm': ''}.\n",
      "  warnings.warn(warnings_text, RuntimeWarning)\n"
     ]
    },
    {
     "name": "stdout",
     "output_type": "stream",
     "text": [
      "32 00423690\n"
     ]
    },
    {
     "data": {
      "application/vnd.jupyter.widget-view+json": {
       "model_id": "95876a60cfce4be7bb7c6dd5f3e4f773",
       "version_major": 2,
       "version_minor": 0
      },
      "text/plain": [
       "Annual reports:   0%|          | 0/2 [00:00<?, ?report/s]"
      ]
     },
     "metadata": {},
     "output_type": "display_data"
    },
    {
     "name": "stdout",
     "output_type": "stream",
     "text": [
      "33 00126292\n"
     ]
    },
    {
     "data": {
      "application/vnd.jupyter.widget-view+json": {
       "model_id": "1384dde2404d488d96d6a29d29021edb",
       "version_major": 2,
       "version_minor": 0
      },
      "text/plain": [
       "Annual reports:   0%|          | 0/2 [00:00<?, ?report/s]"
      ]
     },
     "metadata": {},
     "output_type": "display_data"
    },
    {
     "name": "stdout",
     "output_type": "stream",
     "text": [
      "34 00139214\n"
     ]
    },
    {
     "data": {
      "application/vnd.jupyter.widget-view+json": {
       "model_id": "dccac5234ecc49afad53fb257ac0af61",
       "version_major": 2,
       "version_minor": 0
      },
      "text/plain": [
       "Annual reports:   0%|          | 0/2 [00:00<?, ?report/s]"
      ]
     },
     "metadata": {},
     "output_type": "display_data"
    },
    {
     "name": "stdout",
     "output_type": "stream",
     "text": [
      "34 00126779\n"
     ]
    },
    {
     "data": {
      "application/vnd.jupyter.widget-view+json": {
       "model_id": "3f9a713e59784300a8ca055663efe503",
       "version_major": 2,
       "version_minor": 0
      },
      "text/plain": [
       "Annual reports:   0%|          | 0/2 [00:00<?, ?report/s]"
      ]
     },
     "metadata": {},
     "output_type": "display_data"
    },
    {
     "name": "stdout",
     "output_type": "stream",
     "text": [
      "34 00896285\n"
     ]
    },
    {
     "data": {
      "application/vnd.jupyter.widget-view+json": {
       "model_id": "bda807dea02c475eb37ec1eaf66162f4",
       "version_major": 2,
       "version_minor": 0
      },
      "text/plain": [
       "Annual reports:   0%|          | 0/2 [00:00<?, ?report/s]"
      ]
     },
     "metadata": {},
     "output_type": "display_data"
    },
    {
     "name": "stdout",
     "output_type": "stream",
     "text": [
      "34 00126955\n"
     ]
    },
    {
     "data": {
      "application/vnd.jupyter.widget-view+json": {
       "model_id": "ace1bd074701407d8e65a370ae1c06b6",
       "version_major": 2,
       "version_minor": 0
      },
      "text/plain": [
       "Annual reports:   0%|          | 0/2 [00:00<?, ?report/s]"
      ]
     },
     "metadata": {},
     "output_type": "display_data"
    },
    {
     "name": "stdout",
     "output_type": "stream",
     "text": [
      "34 00127042\n"
     ]
    },
    {
     "data": {
      "application/vnd.jupyter.widget-view+json": {
       "model_id": "04b829cc07db4f65b39294014aded844",
       "version_major": 2,
       "version_minor": 0
      },
      "text/plain": [
       "Annual reports:   0%|          | 0/2 [00:00<?, ?report/s]"
      ]
     },
     "metadata": {},
     "output_type": "display_data"
    },
    {
     "name": "stderr",
     "output_type": "stream",
     "text": [
      "Traceback (most recent call last):\n",
      "  File \"C:\\Users\\pmsda\\AppData\\Local\\Packages\\PythonSoftwareFoundation.Python.3.11_qbz5n2kfra8p0\\LocalCache\\local-packages\\Python311\\site-packages\\dart_fss\\fs\\extract.py\", line 1447, in extract\n",
      "    nstatements = analyze_report(report=report,\n",
      "                  ^^^^^^^^^^^^^^^^^^^^^^^^^^^^^\n",
      "  File \"C:\\Users\\pmsda\\AppData\\Local\\Packages\\PythonSoftwareFoundation.Python.3.11_qbz5n2kfra8p0\\LocalCache\\local-packages\\Python311\\site-packages\\dart_fss\\fs\\extract.py\", line 1276, in analyze_report\n",
      "    raise NotFoundConsolidated('Could not find consolidated financial statements')\n",
      "dart_fss.errors.errors.NotFoundConsolidated: Could not find consolidated financial statements\n",
      "C:\\Users\\pmsda\\AppData\\Local\\Packages\\PythonSoftwareFoundation.Python.3.11_qbz5n2kfra8p0\\LocalCache\\local-packages\\Python311\\site-packages\\dart_fss\\fs\\extract.py:1462: RuntimeWarning: Unable to extract financial statements: {'rcp_no': '20220315001102', 'corp_code': '01060814', 'corp_name': '삼양패키징', 'stock_code': '272550', 'corp_cls': 'Y', 'report_nm': '사업보고서 (2021.12)', 'flr_nm': '삼양패키징', 'rcept_dt': '20220315', 'rm': ''}.\n",
      "  warnings.warn(warnings_text, RuntimeWarning)\n"
     ]
    },
    {
     "name": "stdout",
     "output_type": "stream",
     "text": [
      "34 01060814\n"
     ]
    },
    {
     "data": {
      "application/vnd.jupyter.widget-view+json": {
       "model_id": "2ca5ef8a3a0a4c1284ec8879060feac6",
       "version_major": 2,
       "version_minor": 0
      },
      "text/plain": [
       "Annual reports:   0%|          | 0/2 [00:00<?, ?report/s]"
      ]
     },
     "metadata": {},
     "output_type": "display_data"
    },
    {
     "name": "stdout",
     "output_type": "stream",
     "text": [
      "34 00126937\n"
     ]
    },
    {
     "data": {
      "application/vnd.jupyter.widget-view+json": {
       "model_id": "3ee72db025ca444ba54b373d2392ac55",
       "version_major": 2,
       "version_minor": 0
      },
      "text/plain": [
       "Annual reports:   0%|          | 0/2 [00:00<?, ?report/s]"
      ]
     },
     "metadata": {},
     "output_type": "display_data"
    },
    {
     "name": "stdout",
     "output_type": "stream",
     "text": [
      "34 00127255\n"
     ]
    },
    {
     "data": {
      "application/vnd.jupyter.widget-view+json": {
       "model_id": "e6081d8706de4c9297bcaef8c7da9c53",
       "version_major": 2,
       "version_minor": 0
      },
      "text/plain": [
       "Annual reports:   0%|          | 0/2 [00:00<?, ?report/s]"
      ]
     },
     "metadata": {},
     "output_type": "display_data"
    },
    {
     "name": "stdout",
     "output_type": "stream",
     "text": [
      "34 00127167\n"
     ]
    },
    {
     "data": {
      "application/vnd.jupyter.widget-view+json": {
       "model_id": "22276411433e421e9c8ecc81d3992e81",
       "version_major": 2,
       "version_minor": 0
      },
      "text/plain": [
       "Annual reports:   0%|          | 0/2 [00:00<?, ?report/s]"
      ]
     },
     "metadata": {},
     "output_type": "display_data"
    },
    {
     "name": "stdout",
     "output_type": "stream",
     "text": [
      "34 00127200\n"
     ]
    },
    {
     "data": {
      "application/vnd.jupyter.widget-view+json": {
       "model_id": "0e882c8993a142e1a54f26aa16c5b3f4",
       "version_major": 2,
       "version_minor": 0
      },
      "text/plain": [
       "Annual reports:   0%|          | 0/2 [00:00<?, ?report/s]"
      ]
     },
     "metadata": {},
     "output_type": "display_data"
    },
    {
     "name": "stderr",
     "output_type": "stream",
     "text": [
      "Traceback (most recent call last):\n",
      "  File \"C:\\Users\\pmsda\\AppData\\Local\\Packages\\PythonSoftwareFoundation.Python.3.11_qbz5n2kfra8p0\\LocalCache\\local-packages\\Python311\\site-packages\\dart_fss\\fs\\extract.py\", line 1433, in extract\n",
      "    statements = analyze_report(report=report,\n",
      "                 ^^^^^^^^^^^^^^^^^^^^^^^^^^^^^\n",
      "  File \"C:\\Users\\pmsda\\AppData\\Local\\Packages\\PythonSoftwareFoundation.Python.3.11_qbz5n2kfra8p0\\LocalCache\\local-packages\\Python311\\site-packages\\dart_fss\\fs\\extract.py\", line 1276, in analyze_report\n",
      "    raise NotFoundConsolidated('Could not find consolidated financial statements')\n",
      "dart_fss.errors.errors.NotFoundConsolidated: Could not find consolidated financial statements\n",
      "C:\\Users\\pmsda\\AppData\\Local\\Packages\\PythonSoftwareFoundation.Python.3.11_qbz5n2kfra8p0\\LocalCache\\local-packages\\Python311\\site-packages\\dart_fss\\fs\\extract.py:1462: RuntimeWarning: Unable to extract financial statements: {'rcp_no': '20230314000085', 'corp_code': '00191588', 'corp_name': '삼원강재', 'stock_code': '023000', 'corp_cls': 'Y', 'report_nm': '사업보고서 (2022.12)', 'flr_nm': '삼원강재', 'rcept_dt': '20230314', 'rm': ''}.\n",
      "  warnings.warn(warnings_text, RuntimeWarning)\n",
      "Traceback (most recent call last):\n",
      "  File \"C:\\Users\\pmsda\\AppData\\Local\\Packages\\PythonSoftwareFoundation.Python.3.11_qbz5n2kfra8p0\\LocalCache\\local-packages\\Python311\\site-packages\\dart_fss\\fs\\extract.py\", line 1433, in extract\n",
      "    statements = analyze_report(report=report,\n",
      "                 ^^^^^^^^^^^^^^^^^^^^^^^^^^^^^\n",
      "  File \"C:\\Users\\pmsda\\AppData\\Local\\Packages\\PythonSoftwareFoundation.Python.3.11_qbz5n2kfra8p0\\LocalCache\\local-packages\\Python311\\site-packages\\dart_fss\\fs\\extract.py\", line 1276, in analyze_report\n",
      "    raise NotFoundConsolidated('Could not find consolidated financial statements')\n",
      "dart_fss.errors.errors.NotFoundConsolidated: Could not find consolidated financial statements\n",
      "C:\\Users\\pmsda\\AppData\\Local\\Packages\\PythonSoftwareFoundation.Python.3.11_qbz5n2kfra8p0\\LocalCache\\local-packages\\Python311\\site-packages\\dart_fss\\fs\\extract.py:1462: RuntimeWarning: Unable to extract financial statements: {'rcp_no': '20220310000009', 'corp_code': '00191588', 'corp_name': '삼원강재', 'stock_code': '023000', 'corp_cls': 'Y', 'report_nm': '사업보고서 (2021.12)', 'flr_nm': '삼원강재', 'rcept_dt': '20220310', 'rm': ''}.\n",
      "  warnings.warn(warnings_text, RuntimeWarning)\n"
     ]
    },
    {
     "name": "stdout",
     "output_type": "stream",
     "text": [
      "34 00191588\n"
     ]
    },
    {
     "data": {
      "application/vnd.jupyter.widget-view+json": {
       "model_id": "80414dbf01824244a74aa7da436b74e1",
       "version_major": 2,
       "version_minor": 0
      },
      "text/plain": [
       "Annual reports:   0%|          | 0/2 [00:00<?, ?report/s]"
      ]
     },
     "metadata": {},
     "output_type": "display_data"
    },
    {
     "name": "stderr",
     "output_type": "stream",
     "text": [
      "Traceback (most recent call last):\n",
      "  File \"C:\\Users\\pmsda\\AppData\\Local\\Packages\\PythonSoftwareFoundation.Python.3.11_qbz5n2kfra8p0\\LocalCache\\local-packages\\Python311\\site-packages\\dart_fss\\fs\\extract.py\", line 1447, in extract\n",
      "    nstatements = analyze_report(report=report,\n",
      "                  ^^^^^^^^^^^^^^^^^^^^^^^^^^^^^\n",
      "  File \"C:\\Users\\pmsda\\AppData\\Local\\Packages\\PythonSoftwareFoundation.Python.3.11_qbz5n2kfra8p0\\LocalCache\\local-packages\\Python311\\site-packages\\dart_fss\\fs\\extract.py\", line 1276, in analyze_report\n",
      "    raise NotFoundConsolidated('Could not find consolidated financial statements')\n",
      "dart_fss.errors.errors.NotFoundConsolidated: Could not find consolidated financial statements\n",
      "C:\\Users\\pmsda\\AppData\\Local\\Packages\\PythonSoftwareFoundation.Python.3.11_qbz5n2kfra8p0\\LocalCache\\local-packages\\Python311\\site-packages\\dart_fss\\fs\\extract.py:1462: RuntimeWarning: Unable to extract financial statements: {'rcp_no': '20220329000395', 'corp_code': '00127802', 'corp_name': '삼익THK', 'stock_code': '004380', 'corp_cls': 'Y', 'report_nm': '[기재정정]사업보고서 (2021.12)', 'flr_nm': '삼익THK', 'rcept_dt': '20220329', 'rm': ''}.\n",
      "  warnings.warn(warnings_text, RuntimeWarning)\n"
     ]
    },
    {
     "name": "stdout",
     "output_type": "stream",
     "text": [
      "34 00127802\n"
     ]
    },
    {
     "data": {
      "application/vnd.jupyter.widget-view+json": {
       "model_id": "bb07f436bcba48fb9ccb2fcff954d1bc",
       "version_major": 2,
       "version_minor": 0
      },
      "text/plain": [
       "Annual reports:   0%|          | 0/2 [00:00<?, ?report/s]"
      ]
     },
     "metadata": {},
     "output_type": "display_data"
    },
    {
     "name": "stdout",
     "output_type": "stream",
     "text": [
      "34 00127857\n"
     ]
    },
    {
     "data": {
      "application/vnd.jupyter.widget-view+json": {
       "model_id": "675cbad871b145f99173f7eed558848d",
       "version_major": 2,
       "version_minor": 0
      },
      "text/plain": [
       "Annual reports:   0%|          | 0/2 [00:00<?, ?report/s]"
      ]
     },
     "metadata": {},
     "output_type": "display_data"
    },
    {
     "name": "stdout",
     "output_type": "stream",
     "text": [
      "34 00109806\n"
     ]
    },
    {
     "data": {
      "application/vnd.jupyter.widget-view+json": {
       "model_id": "b3a5fca5b8a245db95c8aad873ce77f8",
       "version_major": 2,
       "version_minor": 0
      },
      "text/plain": [
       "Annual reports:   0%|          | 0/2 [00:00<?, ?report/s]"
      ]
     },
     "metadata": {},
     "output_type": "display_data"
    },
    {
     "name": "stdout",
     "output_type": "stream",
     "text": [
      "34 00128032\n"
     ]
    },
    {
     "data": {
      "application/vnd.jupyter.widget-view+json": {
       "model_id": "e83cca1b919b4c0d966b6b9ee67549ea",
       "version_major": 2,
       "version_minor": 0
      },
      "text/plain": [
       "Annual reports:   0%|          | 0/2 [00:00<?, ?report/s]"
      ]
     },
     "metadata": {},
     "output_type": "display_data"
    },
    {
     "name": "stderr",
     "output_type": "stream",
     "text": [
      "Traceback (most recent call last):\n",
      "  File \"C:\\Users\\pmsda\\AppData\\Local\\Packages\\PythonSoftwareFoundation.Python.3.11_qbz5n2kfra8p0\\LocalCache\\local-packages\\Python311\\site-packages\\dart_fss\\fs\\extract.py\", line 1433, in extract\n",
      "    statements = analyze_report(report=report,\n",
      "                 ^^^^^^^^^^^^^^^^^^^^^^^^^^^^^\n",
      "  File \"C:\\Users\\pmsda\\AppData\\Local\\Packages\\PythonSoftwareFoundation.Python.3.11_qbz5n2kfra8p0\\LocalCache\\local-packages\\Python311\\site-packages\\dart_fss\\fs\\extract.py\", line 1276, in analyze_report\n",
      "    raise NotFoundConsolidated('Could not find consolidated financial statements')\n",
      "dart_fss.errors.errors.NotFoundConsolidated: Could not find consolidated financial statements\n",
      "C:\\Users\\pmsda\\AppData\\Local\\Packages\\PythonSoftwareFoundation.Python.3.11_qbz5n2kfra8p0\\LocalCache\\local-packages\\Python311\\site-packages\\dart_fss\\fs\\extract.py:1462: RuntimeWarning: Unable to extract financial statements: {'rcp_no': '20230323000457', 'corp_code': '00128227', 'corp_name': '삼정펄프', 'stock_code': '009770', 'corp_cls': 'Y', 'report_nm': '사업보고서 (2022.12)', 'flr_nm': '삼정펄프', 'rcept_dt': '20230323', 'rm': ''}.\n",
      "  warnings.warn(warnings_text, RuntimeWarning)\n",
      "Traceback (most recent call last):\n",
      "  File \"C:\\Users\\pmsda\\AppData\\Local\\Packages\\PythonSoftwareFoundation.Python.3.11_qbz5n2kfra8p0\\LocalCache\\local-packages\\Python311\\site-packages\\dart_fss\\fs\\extract.py\", line 1433, in extract\n",
      "    statements = analyze_report(report=report,\n",
      "                 ^^^^^^^^^^^^^^^^^^^^^^^^^^^^^\n",
      "  File \"C:\\Users\\pmsda\\AppData\\Local\\Packages\\PythonSoftwareFoundation.Python.3.11_qbz5n2kfra8p0\\LocalCache\\local-packages\\Python311\\site-packages\\dart_fss\\fs\\extract.py\", line 1276, in analyze_report\n",
      "    raise NotFoundConsolidated('Could not find consolidated financial statements')\n",
      "dart_fss.errors.errors.NotFoundConsolidated: Could not find consolidated financial statements\n",
      "C:\\Users\\pmsda\\AppData\\Local\\Packages\\PythonSoftwareFoundation.Python.3.11_qbz5n2kfra8p0\\LocalCache\\local-packages\\Python311\\site-packages\\dart_fss\\fs\\extract.py:1462: RuntimeWarning: Unable to extract financial statements: {'rcp_no': '20220323001311', 'corp_code': '00128227', 'corp_name': '삼정펄프', 'stock_code': '009770', 'corp_cls': 'Y', 'report_nm': '사업보고서 (2021.12)', 'flr_nm': '삼정펄프', 'rcept_dt': '20220323', 'rm': ''}.\n",
      "  warnings.warn(warnings_text, RuntimeWarning)\n"
     ]
    },
    {
     "name": "stdout",
     "output_type": "stream",
     "text": [
      "34 00128227\n"
     ]
    },
    {
     "data": {
      "application/vnd.jupyter.widget-view+json": {
       "model_id": "a3dd0fe93d054357b73affff37b16f17",
       "version_major": 2,
       "version_minor": 0
      },
      "text/plain": [
       "Annual reports:   0%|          | 0/2 [00:00<?, ?report/s]"
      ]
     },
     "metadata": {},
     "output_type": "display_data"
    },
    {
     "name": "stderr",
     "output_type": "stream",
     "text": [
      "Traceback (most recent call last):\n",
      "  File \"C:\\Users\\pmsda\\AppData\\Local\\Packages\\PythonSoftwareFoundation.Python.3.11_qbz5n2kfra8p0\\LocalCache\\local-packages\\Python311\\site-packages\\dart_fss\\fs\\extract.py\", line 1447, in extract\n",
      "    nstatements = analyze_report(report=report,\n",
      "                  ^^^^^^^^^^^^^^^^^^^^^^^^^^^^^\n",
      "  File \"C:\\Users\\pmsda\\AppData\\Local\\Packages\\PythonSoftwareFoundation.Python.3.11_qbz5n2kfra8p0\\LocalCache\\local-packages\\Python311\\site-packages\\dart_fss\\fs\\extract.py\", line 1276, in analyze_report\n",
      "    raise NotFoundConsolidated('Could not find consolidated financial statements')\n",
      "dart_fss.errors.errors.NotFoundConsolidated: Could not find consolidated financial statements\n",
      "C:\\Users\\pmsda\\AppData\\Local\\Packages\\PythonSoftwareFoundation.Python.3.11_qbz5n2kfra8p0\\LocalCache\\local-packages\\Python311\\site-packages\\dart_fss\\fs\\extract.py:1462: RuntimeWarning: Unable to extract financial statements: {'rcp_no': '20220317000889', 'corp_code': '00128412', 'corp_name': '삼진제약', 'stock_code': '005500', 'corp_cls': 'Y', 'report_nm': '사업보고서 (2021.12)', 'flr_nm': '삼진제약', 'rcept_dt': '20220317', 'rm': ''}.\n",
      "  warnings.warn(warnings_text, RuntimeWarning)\n"
     ]
    },
    {
     "name": "stdout",
     "output_type": "stream",
     "text": [
      "34 00128412\n"
     ]
    },
    {
     "data": {
      "application/vnd.jupyter.widget-view+json": {
       "model_id": "21af8cae532149a296c51b44aee861a3",
       "version_major": 2,
       "version_minor": 0
      },
      "text/plain": [
       "Annual reports:   0%|          | 0/2 [00:00<?, ?report/s]"
      ]
     },
     "metadata": {},
     "output_type": "display_data"
    },
    {
     "name": "stdout",
     "output_type": "stream",
     "text": [
      "34 00128546\n"
     ]
    },
    {
     "data": {
      "application/vnd.jupyter.widget-view+json": {
       "model_id": "d0d7c6798dfc49f69ef4f41d1bc5b4ee",
       "version_major": 2,
       "version_minor": 0
      },
      "text/plain": [
       "Annual reports:   0%|          | 0/2 [00:00<?, ?report/s]"
      ]
     },
     "metadata": {},
     "output_type": "display_data"
    },
    {
     "name": "stdout",
     "output_type": "stream",
     "text": [
      "34 00128555\n"
     ]
    },
    {
     "data": {
      "application/vnd.jupyter.widget-view+json": {
       "model_id": "90f25428520c46299f66cef05369d32f",
       "version_major": 2,
       "version_minor": 0
      },
      "text/plain": [
       "Annual reports:   0%|          | 0/3 [00:00<?, ?report/s]"
      ]
     },
     "metadata": {},
     "output_type": "display_data"
    },
    {
     "name": "stdout",
     "output_type": "stream",
     "text": [
      "34 00239639\n"
     ]
    },
    {
     "data": {
      "application/vnd.jupyter.widget-view+json": {
       "model_id": "3b06fa84691a45de8249a8103a1078df",
       "version_major": 2,
       "version_minor": 0
      },
      "text/plain": [
       "Annual reports:   0%|          | 0/2 [00:00<?, ?report/s]"
      ]
     },
     "metadata": {},
     "output_type": "display_data"
    },
    {
     "name": "stdout",
     "output_type": "stream",
     "text": [
      "34 00128980\n"
     ]
    },
    {
     "data": {
      "application/vnd.jupyter.widget-view+json": {
       "model_id": "8aac1f67bd40464ea1b7596b27149ff9",
       "version_major": 2,
       "version_minor": 0
      },
      "text/plain": [
       "Annual reports:   0%|          | 0/2 [00:00<?, ?report/s]"
      ]
     },
     "metadata": {},
     "output_type": "display_data"
    },
    {
     "name": "stdout",
     "output_type": "stream",
     "text": [
      "34 00129235\n"
     ]
    },
    {
     "data": {
      "application/vnd.jupyter.widget-view+json": {
       "model_id": "2ae118ee9f004ea495adc3a5947d9075",
       "version_major": 2,
       "version_minor": 0
      },
      "text/plain": [
       "Annual reports:   0%|          | 0/2 [00:00<?, ?report/s]"
      ]
     },
     "metadata": {},
     "output_type": "display_data"
    },
    {
     "name": "stdout",
     "output_type": "stream",
     "text": [
      "34 00129271\n"
     ]
    },
    {
     "data": {
      "application/vnd.jupyter.widget-view+json": {
       "model_id": "417f37104ec249f093877abfb34c0ea2",
       "version_major": 2,
       "version_minor": 0
      },
      "text/plain": [
       "Annual reports:   0%|          | 0/2 [00:00<?, ?report/s]"
      ]
     },
     "metadata": {},
     "output_type": "display_data"
    },
    {
     "name": "stdout",
     "output_type": "stream",
     "text": [
      "34 00129280\n"
     ]
    },
    {
     "data": {
      "application/vnd.jupyter.widget-view+json": {
       "model_id": "94f9bc16043047c8a78e9aac88044392",
       "version_major": 2,
       "version_minor": 0
      },
      "text/plain": [
       "Annual reports:   0%|          | 0/2 [00:00<?, ?report/s]"
      ]
     },
     "metadata": {},
     "output_type": "display_data"
    },
    {
     "name": "stdout",
     "output_type": "stream",
     "text": [
      "34 00129350\n"
     ]
    },
    {
     "data": {
      "application/vnd.jupyter.widget-view+json": {
       "model_id": "8d24aaa2755f44eeb58afa16f0a05162",
       "version_major": 2,
       "version_minor": 0
      },
      "text/plain": [
       "Annual reports:   0%|          | 0/2 [00:00<?, ?report/s]"
      ]
     },
     "metadata": {},
     "output_type": "display_data"
    },
    {
     "name": "stdout",
     "output_type": "stream",
     "text": [
      "34 00129387\n"
     ]
    },
    {
     "data": {
      "application/vnd.jupyter.widget-view+json": {
       "model_id": "be7b98be0c13415587d0ac39a89a0e7b",
       "version_major": 2,
       "version_minor": 0
      },
      "text/plain": [
       "Annual reports:   0%|          | 0/2 [00:00<?, ?report/s]"
      ]
     },
     "metadata": {},
     "output_type": "display_data"
    },
    {
     "name": "stdout",
     "output_type": "stream",
     "text": [
      "34 00306162\n"
     ]
    },
    {
     "data": {
      "application/vnd.jupyter.widget-view+json": {
       "model_id": "da9b471bdb2d48e2a79dc08b4a4a0fa3",
       "version_major": 2,
       "version_minor": 0
      },
      "text/plain": [
       "Annual reports:   0%|          | 0/2 [00:00<?, ?report/s]"
      ]
     },
     "metadata": {},
     "output_type": "display_data"
    },
    {
     "name": "stdout",
     "output_type": "stream",
     "text": [
      "35 00112059\n"
     ]
    },
    {
     "data": {
      "application/vnd.jupyter.widget-view+json": {
       "model_id": "448785aaa69345df916caec40f7c8f7a",
       "version_major": 2,
       "version_minor": 0
      },
      "text/plain": [
       "Annual reports:   0%|          | 0/2 [00:00<?, ?report/s]"
      ]
     },
     "metadata": {},
     "output_type": "display_data"
    },
    {
     "name": "stdout",
     "output_type": "stream",
     "text": [
      "35 00129642\n"
     ]
    },
    {
     "data": {
      "application/vnd.jupyter.widget-view+json": {
       "model_id": "d95b91d161c544898c7c5681f02856b2",
       "version_major": 2,
       "version_minor": 0
      },
      "text/plain": [
       "Annual reports:   0%|          | 0/2 [00:00<?, ?report/s]"
      ]
     },
     "metadata": {},
     "output_type": "display_data"
    },
    {
     "name": "stdout",
     "output_type": "stream",
     "text": [
      "35 00181299\n"
     ]
    },
    {
     "data": {
      "application/vnd.jupyter.widget-view+json": {
       "model_id": "a5af9dd4517348fc90bc15cbe95621fe",
       "version_major": 2,
       "version_minor": 0
      },
      "text/plain": [
       "Annual reports:   0%|          | 0/2 [00:00<?, ?report/s]"
      ]
     },
     "metadata": {},
     "output_type": "display_data"
    },
    {
     "name": "stdout",
     "output_type": "stream",
     "text": [
      "35 00305668\n"
     ]
    },
    {
     "data": {
      "application/vnd.jupyter.widget-view+json": {
       "model_id": "26141648b50442aba13ee6fcab56e747",
       "version_major": 2,
       "version_minor": 0
      },
      "text/plain": [
       "Annual reports:   0%|          | 0/2 [00:00<?, ?report/s]"
      ]
     },
     "metadata": {},
     "output_type": "display_data"
    },
    {
     "name": "stdout",
     "output_type": "stream",
     "text": [
      "35 00130091\n"
     ]
    },
    {
     "data": {
      "application/vnd.jupyter.widget-view+json": {
       "model_id": "71ad43ce89574e7ca701b8fa1b510d88",
       "version_major": 2,
       "version_minor": 0
      },
      "text/plain": [
       "Annual reports:   0%|          | 0/2 [00:00<?, ?report/s]"
      ]
     },
     "metadata": {},
     "output_type": "display_data"
    },
    {
     "name": "stdout",
     "output_type": "stream",
     "text": [
      "35 01167056\n"
     ]
    },
    {
     "data": {
      "application/vnd.jupyter.widget-view+json": {
       "model_id": "adea2c235d184c80a4b5603848faf849",
       "version_major": 2,
       "version_minor": 0
      },
      "text/plain": [
       "Annual reports:   0%|          | 0/2 [00:00<?, ?report/s]"
      ]
     },
     "metadata": {},
     "output_type": "display_data"
    },
    {
     "name": "stdout",
     "output_type": "stream",
     "text": [
      "35 00130383\n"
     ]
    },
    {
     "data": {
      "application/vnd.jupyter.widget-view+json": {
       "model_id": "ad8b7e7aeffa42ce8c86fcd04c51a82a",
       "version_major": 2,
       "version_minor": 0
      },
      "text/plain": [
       "Annual reports:   0%|          | 0/2 [00:00<?, ?report/s]"
      ]
     },
     "metadata": {},
     "output_type": "display_data"
    },
    {
     "name": "stdout",
     "output_type": "stream",
     "text": [
      "35 00163114\n"
     ]
    },
    {
     "data": {
      "application/vnd.jupyter.widget-view+json": {
       "model_id": "c9cb591024a5426fbae60955b049b140",
       "version_major": 2,
       "version_minor": 0
      },
      "text/plain": [
       "Annual reports:   0%|          | 0/2 [00:00<?, ?report/s]"
      ]
     },
     "metadata": {},
     "output_type": "display_data"
    },
    {
     "name": "stdout",
     "output_type": "stream",
     "text": [
      "35 01036446\n"
     ]
    },
    {
     "data": {
      "application/vnd.jupyter.widget-view+json": {
       "model_id": "07f71305a76c447c83a587946bc36ee8",
       "version_major": 2,
       "version_minor": 0
      },
      "text/plain": [
       "Annual reports:   0%|          | 0/2 [00:00<?, ?report/s]"
      ]
     },
     "metadata": {},
     "output_type": "display_data"
    },
    {
     "name": "stdout",
     "output_type": "stream",
     "text": [
      "35 00130684\n"
     ]
    },
    {
     "data": {
      "application/vnd.jupyter.widget-view+json": {
       "model_id": "79af0ab7e9434da7a5ab249ec3ac4c69",
       "version_major": 2,
       "version_minor": 0
      },
      "text/plain": [
       "Annual reports:   0%|          | 0/2 [00:00<?, ?report/s]"
      ]
     },
     "metadata": {},
     "output_type": "display_data"
    },
    {
     "name": "stdout",
     "output_type": "stream",
     "text": [
      "35 00130763\n"
     ]
    },
    {
     "data": {
      "application/vnd.jupyter.widget-view+json": {
       "model_id": "53f1747304a844b6afd9826e586816ef",
       "version_major": 2,
       "version_minor": 0
      },
      "text/plain": [
       "Annual reports:   0%|          | 0/2 [00:00<?, ?report/s]"
      ]
     },
     "metadata": {},
     "output_type": "display_data"
    },
    {
     "name": "stderr",
     "output_type": "stream",
     "text": [
      "Traceback (most recent call last):\n",
      "  File \"C:\\Users\\pmsda\\AppData\\Local\\Packages\\PythonSoftwareFoundation.Python.3.11_qbz5n2kfra8p0\\LocalCache\\local-packages\\Python311\\site-packages\\dart_fss\\fs\\extract.py\", line 1433, in extract\n",
      "    statements = analyze_report(report=report,\n",
      "                 ^^^^^^^^^^^^^^^^^^^^^^^^^^^^^\n",
      "  File \"C:\\Users\\pmsda\\AppData\\Local\\Packages\\PythonSoftwareFoundation.Python.3.11_qbz5n2kfra8p0\\LocalCache\\local-packages\\Python311\\site-packages\\dart_fss\\fs\\extract.py\", line 1276, in analyze_report\n",
      "    raise NotFoundConsolidated('Could not find consolidated financial statements')\n",
      "dart_fss.errors.errors.NotFoundConsolidated: Could not find consolidated financial statements\n",
      "C:\\Users\\pmsda\\AppData\\Local\\Packages\\PythonSoftwareFoundation.Python.3.11_qbz5n2kfra8p0\\LocalCache\\local-packages\\Python311\\site-packages\\dart_fss\\fs\\extract.py:1462: RuntimeWarning: Unable to extract financial statements: {'rcp_no': '20230323000423', 'corp_code': '00130879', 'corp_name': '서울식품공업', 'stock_code': '004410', 'corp_cls': 'Y', 'report_nm': '사업보고서 (2022.12)', 'flr_nm': '서울식품공업', 'rcept_dt': '20230323', 'rm': ''}.\n",
      "  warnings.warn(warnings_text, RuntimeWarning)\n",
      "Traceback (most recent call last):\n",
      "  File \"C:\\Users\\pmsda\\AppData\\Local\\Packages\\PythonSoftwareFoundation.Python.3.11_qbz5n2kfra8p0\\LocalCache\\local-packages\\Python311\\site-packages\\dart_fss\\fs\\extract.py\", line 1433, in extract\n",
      "    statements = analyze_report(report=report,\n",
      "                 ^^^^^^^^^^^^^^^^^^^^^^^^^^^^^\n",
      "  File \"C:\\Users\\pmsda\\AppData\\Local\\Packages\\PythonSoftwareFoundation.Python.3.11_qbz5n2kfra8p0\\LocalCache\\local-packages\\Python311\\site-packages\\dart_fss\\fs\\extract.py\", line 1276, in analyze_report\n",
      "    raise NotFoundConsolidated('Could not find consolidated financial statements')\n",
      "dart_fss.errors.errors.NotFoundConsolidated: Could not find consolidated financial statements\n",
      "C:\\Users\\pmsda\\AppData\\Local\\Packages\\PythonSoftwareFoundation.Python.3.11_qbz5n2kfra8p0\\LocalCache\\local-packages\\Python311\\site-packages\\dart_fss\\fs\\extract.py:1462: RuntimeWarning: Unable to extract financial statements: {'rcp_no': '20220323000713', 'corp_code': '00130879', 'corp_name': '서울식품공업', 'stock_code': '004410', 'corp_cls': 'Y', 'report_nm': '사업보고서 (2021.12)', 'flr_nm': '서울식품공업', 'rcept_dt': '20220323', 'rm': ''}.\n",
      "  warnings.warn(warnings_text, RuntimeWarning)\n"
     ]
    },
    {
     "name": "stdout",
     "output_type": "stream",
     "text": [
      "35 00130879\n"
     ]
    },
    {
     "data": {
      "application/vnd.jupyter.widget-view+json": {
       "model_id": "8e397caaa4d34aef99fa7958cef25b08",
       "version_major": 2,
       "version_minor": 0
      },
      "text/plain": [
       "Annual reports:   0%|          | 0/2 [00:00<?, ?report/s]"
      ]
     },
     "metadata": {},
     "output_type": "display_data"
    },
    {
     "name": "stderr",
     "output_type": "stream",
     "text": [
      "Traceback (most recent call last):\n",
      "  File \"C:\\Users\\pmsda\\AppData\\Local\\Packages\\PythonSoftwareFoundation.Python.3.11_qbz5n2kfra8p0\\LocalCache\\local-packages\\Python311\\site-packages\\dart_fss\\fs\\extract.py\", line 1433, in extract\n",
      "    statements = analyze_report(report=report,\n",
      "                 ^^^^^^^^^^^^^^^^^^^^^^^^^^^^^\n",
      "  File \"C:\\Users\\pmsda\\AppData\\Local\\Packages\\PythonSoftwareFoundation.Python.3.11_qbz5n2kfra8p0\\LocalCache\\local-packages\\Python311\\site-packages\\dart_fss\\fs\\extract.py\", line 1276, in analyze_report\n",
      "    raise NotFoundConsolidated('Could not find consolidated financial statements')\n",
      "dart_fss.errors.errors.NotFoundConsolidated: Could not find consolidated financial statements\n",
      "C:\\Users\\pmsda\\AppData\\Local\\Packages\\PythonSoftwareFoundation.Python.3.11_qbz5n2kfra8p0\\LocalCache\\local-packages\\Python311\\site-packages\\dart_fss\\fs\\extract.py:1462: RuntimeWarning: Unable to extract financial statements: {'rcp_no': '20230323000835', 'corp_code': '00131197', 'corp_name': '서원', 'stock_code': '021050', 'corp_cls': 'Y', 'report_nm': '사업보고서 (2022.12)', 'flr_nm': '서원', 'rcept_dt': '20230323', 'rm': ''}.\n",
      "  warnings.warn(warnings_text, RuntimeWarning)\n"
     ]
    },
    {
     "name": "stdout",
     "output_type": "stream",
     "text": [
      "35 00131197\n"
     ]
    },
    {
     "data": {
      "application/vnd.jupyter.widget-view+json": {
       "model_id": "15822e74348b4a76b97405798e1ee8d3",
       "version_major": 2,
       "version_minor": 0
      },
      "text/plain": [
       "Annual reports:   0%|          | 0/2 [00:00<?, ?report/s]"
      ]
     },
     "metadata": {},
     "output_type": "display_data"
    },
    {
     "name": "stdout",
     "output_type": "stream",
     "text": [
      "35 00838005\n"
     ]
    },
    {
     "data": {
      "application/vnd.jupyter.widget-view+json": {
       "model_id": "a7907718a8b947a78e32a6e7d6164dd8",
       "version_major": 2,
       "version_minor": 0
      },
      "text/plain": [
       "Annual reports:   0%|          | 0/2 [00:00<?, ?report/s]"
      ]
     },
     "metadata": {},
     "output_type": "display_data"
    },
    {
     "name": "stdout",
     "output_type": "stream",
     "text": [
      "35 00131692\n"
     ]
    },
    {
     "data": {
      "application/vnd.jupyter.widget-view+json": {
       "model_id": "8c2c3f6e5d13476bb1e080f6554d1e33",
       "version_major": 2,
       "version_minor": 0
      },
      "text/plain": [
       "Annual reports:   0%|          | 0/2 [00:00<?, ?report/s]"
      ]
     },
     "metadata": {},
     "output_type": "display_data"
    },
    {
     "name": "stdout",
     "output_type": "stream",
     "text": [
      "35 00131939\n"
     ]
    },
    {
     "data": {
      "application/vnd.jupyter.widget-view+json": {
       "model_id": "99bfb484d17a479fba2b2c2133d58245",
       "version_major": 2,
       "version_minor": 0
      },
      "text/plain": [
       "Annual reports:   0%|          | 0/2 [00:00<?, ?report/s]"
      ]
     },
     "metadata": {},
     "output_type": "display_data"
    },
    {
     "name": "stdout",
     "output_type": "stream",
     "text": [
      "35 00855093\n"
     ]
    },
    {
     "data": {
      "application/vnd.jupyter.widget-view+json": {
       "model_id": "8db849ffe2c64f8bab6d6d93992dd836",
       "version_major": 2,
       "version_minor": 0
      },
      "text/plain": [
       "Annual reports:   0%|          | 0/2 [00:00<?, ?report/s]"
      ]
     },
     "metadata": {},
     "output_type": "display_data"
    },
    {
     "name": "stdout",
     "output_type": "stream",
     "text": [
      "35 00132628\n"
     ]
    },
    {
     "data": {
      "application/vnd.jupyter.widget-view+json": {
       "model_id": "7e039a4b5c0c46cc9ea7e0251750f96d",
       "version_major": 2,
       "version_minor": 0
      },
      "text/plain": [
       "Annual reports:   0%|          | 0/2 [00:00<?, ?report/s]"
      ]
     },
     "metadata": {},
     "output_type": "display_data"
    },
    {
     "name": "stdout",
     "output_type": "stream",
     "text": [
      "35 00132725\n"
     ]
    },
    {
     "data": {
      "application/vnd.jupyter.widget-view+json": {
       "model_id": "9e1e51e2e1584af2a20d3ac5c625b8a7",
       "version_major": 2,
       "version_minor": 0
      },
      "text/plain": [
       "Annual reports:   0%|          | 0/2 [00:00<?, ?report/s]"
      ]
     },
     "metadata": {},
     "output_type": "display_data"
    },
    {
     "name": "stdout",
     "output_type": "stream",
     "text": [
      "35 00132804\n"
     ]
    },
    {
     "data": {
      "application/vnd.jupyter.widget-view+json": {
       "model_id": "04e39688633e435e9ff53711e34de430",
       "version_major": 2,
       "version_minor": 0
      },
      "text/plain": [
       "Annual reports:   0%|          | 0/3 [00:00<?, ?report/s]"
      ]
     },
     "metadata": {},
     "output_type": "display_data"
    },
    {
     "name": "stdout",
     "output_type": "stream",
     "text": [
      "35 00132868\n"
     ]
    },
    {
     "data": {
      "application/vnd.jupyter.widget-view+json": {
       "model_id": "95d876fec77d4c0aa36acc82882081c6",
       "version_major": 2,
       "version_minor": 0
      },
      "text/plain": [
       "Annual reports:   0%|          | 0/2 [00:00<?, ?report/s]"
      ]
     },
     "metadata": {},
     "output_type": "display_data"
    },
    {
     "name": "stdout",
     "output_type": "stream",
     "text": [
      "35 00132992\n"
     ]
    },
    {
     "data": {
      "application/vnd.jupyter.widget-view+json": {
       "model_id": "5f92ebda915242048a9531ff41709c10",
       "version_major": 2,
       "version_minor": 0
      },
      "text/plain": [
       "Annual reports:   0%|          | 0/2 [00:00<?, ?report/s]"
      ]
     },
     "metadata": {},
     "output_type": "display_data"
    },
    {
     "name": "stdout",
     "output_type": "stream",
     "text": [
      "35 00133335\n"
     ]
    },
    {
     "data": {
      "application/vnd.jupyter.widget-view+json": {
       "model_id": "1f2839f8c9cc44b2a3de29c32cf3d452",
       "version_major": 2,
       "version_minor": 0
      },
      "text/plain": [
       "Annual reports:   0%|          | 0/2 [00:00<?, ?report/s]"
      ]
     },
     "metadata": {},
     "output_type": "display_data"
    },
    {
     "name": "stderr",
     "output_type": "stream",
     "text": [
      "Traceback (most recent call last):\n",
      "  File \"C:\\Users\\pmsda\\AppData\\Local\\Packages\\PythonSoftwareFoundation.Python.3.11_qbz5n2kfra8p0\\LocalCache\\local-packages\\Python311\\site-packages\\dart_fss\\fs\\extract.py\", line 1433, in extract\n",
      "    statements = analyze_report(report=report,\n",
      "                 ^^^^^^^^^^^^^^^^^^^^^^^^^^^^^\n",
      "  File \"C:\\Users\\pmsda\\AppData\\Local\\Packages\\PythonSoftwareFoundation.Python.3.11_qbz5n2kfra8p0\\LocalCache\\local-packages\\Python311\\site-packages\\dart_fss\\fs\\extract.py\", line 1276, in analyze_report\n",
      "    raise NotFoundConsolidated('Could not find consolidated financial statements')\n",
      "dart_fss.errors.errors.NotFoundConsolidated: Could not find consolidated financial statements\n",
      "C:\\Users\\pmsda\\AppData\\Local\\Packages\\PythonSoftwareFoundation.Python.3.11_qbz5n2kfra8p0\\LocalCache\\local-packages\\Python311\\site-packages\\dart_fss\\fs\\extract.py:1462: RuntimeWarning: Unable to extract financial statements: {'rcp_no': '20230322000452', 'corp_code': '00133618', 'corp_name': '세기상사', 'stock_code': '002420', 'corp_cls': 'Y', 'report_nm': '사업보고서 (2022.12)', 'flr_nm': '세기상사', 'rcept_dt': '20230322', 'rm': ''}.\n",
      "  warnings.warn(warnings_text, RuntimeWarning)\n",
      "Traceback (most recent call last):\n",
      "  File \"C:\\Users\\pmsda\\AppData\\Local\\Packages\\PythonSoftwareFoundation.Python.3.11_qbz5n2kfra8p0\\LocalCache\\local-packages\\Python311\\site-packages\\dart_fss\\fs\\extract.py\", line 1433, in extract\n",
      "    statements = analyze_report(report=report,\n",
      "                 ^^^^^^^^^^^^^^^^^^^^^^^^^^^^^\n",
      "  File \"C:\\Users\\pmsda\\AppData\\Local\\Packages\\PythonSoftwareFoundation.Python.3.11_qbz5n2kfra8p0\\LocalCache\\local-packages\\Python311\\site-packages\\dart_fss\\fs\\extract.py\", line 1276, in analyze_report\n",
      "    raise NotFoundConsolidated('Could not find consolidated financial statements')\n",
      "dart_fss.errors.errors.NotFoundConsolidated: Could not find consolidated financial statements\n",
      "C:\\Users\\pmsda\\AppData\\Local\\Packages\\PythonSoftwareFoundation.Python.3.11_qbz5n2kfra8p0\\LocalCache\\local-packages\\Python311\\site-packages\\dart_fss\\fs\\extract.py:1462: RuntimeWarning: Unable to extract financial statements: {'rcp_no': '20220310000216', 'corp_code': '00133618', 'corp_name': '세기상사', 'stock_code': '002420', 'corp_cls': 'Y', 'report_nm': '사업보고서 (2021.12)', 'flr_nm': '세기상사', 'rcept_dt': '20220310', 'rm': ''}.\n",
      "  warnings.warn(warnings_text, RuntimeWarning)\n"
     ]
    },
    {
     "name": "stdout",
     "output_type": "stream",
     "text": [
      "35 00133618\n"
     ]
    },
    {
     "data": {
      "application/vnd.jupyter.widget-view+json": {
       "model_id": "6e6f57d6b983446b918cefcdb51b4036",
       "version_major": 2,
       "version_minor": 0
      },
      "text/plain": [
       "Annual reports:   0%|          | 0/2 [00:00<?, ?report/s]"
      ]
     },
     "metadata": {},
     "output_type": "display_data"
    },
    {
     "name": "stdout",
     "output_type": "stream",
     "text": [
      "35 00133812\n"
     ]
    },
    {
     "data": {
      "application/vnd.jupyter.widget-view+json": {
       "model_id": "493ae5c9072f426b81a29747ac24486b",
       "version_major": 2,
       "version_minor": 0
      },
      "text/plain": [
       "Annual reports:   0%|          | 0/2 [00:00<?, ?report/s]"
      ]
     },
     "metadata": {},
     "output_type": "display_data"
    },
    {
     "name": "stdout",
     "output_type": "stream",
     "text": [
      "35 00133858\n"
     ]
    },
    {
     "data": {
      "application/vnd.jupyter.widget-view+json": {
       "model_id": "7b375a8c9c194bf5a6baf390f4fa5c34",
       "version_major": 2,
       "version_minor": 0
      },
      "text/plain": [
       "Annual reports:   0%|          | 0/2 [00:00<?, ?report/s]"
      ]
     },
     "metadata": {},
     "output_type": "display_data"
    },
    {
     "name": "stdout",
     "output_type": "stream",
     "text": [
      "35 00106669\n"
     ]
    },
    {
     "data": {
      "application/vnd.jupyter.widget-view+json": {
       "model_id": "2049748a00e94a30bffe95fefdd08576",
       "version_major": 2,
       "version_minor": 0
      },
      "text/plain": [
       "Annual reports:   0%|          | 0/2 [00:00<?, ?report/s]"
      ]
     },
     "metadata": {},
     "output_type": "display_data"
    },
    {
     "name": "stderr",
     "output_type": "stream",
     "text": [
      "Traceback (most recent call last):\n",
      "  File \"C:\\Users\\pmsda\\AppData\\Local\\Packages\\PythonSoftwareFoundation.Python.3.11_qbz5n2kfra8p0\\LocalCache\\local-packages\\Python311\\site-packages\\dart_fss\\fs\\extract.py\", line 1433, in extract\n",
      "    statements = analyze_report(report=report,\n",
      "                 ^^^^^^^^^^^^^^^^^^^^^^^^^^^^^\n",
      "  File \"C:\\Users\\pmsda\\AppData\\Local\\Packages\\PythonSoftwareFoundation.Python.3.11_qbz5n2kfra8p0\\LocalCache\\local-packages\\Python311\\site-packages\\dart_fss\\fs\\extract.py\", line 1276, in analyze_report\n",
      "    raise NotFoundConsolidated('Could not find consolidated financial statements')\n",
      "dart_fss.errors.errors.NotFoundConsolidated: Could not find consolidated financial statements\n",
      "C:\\Users\\pmsda\\AppData\\Local\\Packages\\PythonSoftwareFoundation.Python.3.11_qbz5n2kfra8p0\\LocalCache\\local-packages\\Python311\\site-packages\\dart_fss\\fs\\extract.py:1462: RuntimeWarning: Unable to extract financial statements: {'rcp_no': '20230314001166', 'corp_code': '01325979', 'corp_name': '세아제강', 'stock_code': '306200', 'corp_cls': 'Y', 'report_nm': '사업보고서 (2022.12)', 'flr_nm': '세아제강', 'rcept_dt': '20230314', 'rm': ''}.\n",
      "  warnings.warn(warnings_text, RuntimeWarning)\n",
      "Traceback (most recent call last):\n",
      "  File \"C:\\Users\\pmsda\\AppData\\Local\\Packages\\PythonSoftwareFoundation.Python.3.11_qbz5n2kfra8p0\\LocalCache\\local-packages\\Python311\\site-packages\\dart_fss\\fs\\extract.py\", line 1433, in extract\n",
      "    statements = analyze_report(report=report,\n",
      "                 ^^^^^^^^^^^^^^^^^^^^^^^^^^^^^\n",
      "  File \"C:\\Users\\pmsda\\AppData\\Local\\Packages\\PythonSoftwareFoundation.Python.3.11_qbz5n2kfra8p0\\LocalCache\\local-packages\\Python311\\site-packages\\dart_fss\\fs\\extract.py\", line 1276, in analyze_report\n",
      "    raise NotFoundConsolidated('Could not find consolidated financial statements')\n",
      "dart_fss.errors.errors.NotFoundConsolidated: Could not find consolidated financial statements\n",
      "C:\\Users\\pmsda\\AppData\\Local\\Packages\\PythonSoftwareFoundation.Python.3.11_qbz5n2kfra8p0\\LocalCache\\local-packages\\Python311\\site-packages\\dart_fss\\fs\\extract.py:1462: RuntimeWarning: Unable to extract financial statements: {'rcp_no': '20220314001229', 'corp_code': '01325979', 'corp_name': '세아제강', 'stock_code': '306200', 'corp_cls': 'Y', 'report_nm': '사업보고서 (2021.12)', 'flr_nm': '세아제강', 'rcept_dt': '20220315', 'rm': ''}.\n",
      "  warnings.warn(warnings_text, RuntimeWarning)\n"
     ]
    },
    {
     "name": "stdout",
     "output_type": "stream",
     "text": [
      "35 01325979\n"
     ]
    },
    {
     "data": {
      "application/vnd.jupyter.widget-view+json": {
       "model_id": "4e0355cea0e44cff9ad403cdb98ac413",
       "version_major": 2,
       "version_minor": 0
      },
      "text/plain": [
       "Annual reports:   0%|          | 0/2 [00:00<?, ?report/s]"
      ]
     },
     "metadata": {},
     "output_type": "display_data"
    },
    {
     "name": "stdout",
     "output_type": "stream",
     "text": [
      "35 00124197\n"
     ]
    },
    {
     "data": {
      "application/vnd.jupyter.widget-view+json": {
       "model_id": "6430dc0bf4554ba98e017918699d86cb",
       "version_major": 2,
       "version_minor": 0
      },
      "text/plain": [
       "Annual reports:   0%|          | 0/2 [00:00<?, ?report/s]"
      ]
     },
     "metadata": {},
     "output_type": "display_data"
    },
    {
     "name": "stdout",
     "output_type": "stream",
     "text": [
      "35 00133991\n"
     ]
    },
    {
     "data": {
      "application/vnd.jupyter.widget-view+json": {
       "model_id": "fb67b1a361b048af8fbf343d1cc7ac86",
       "version_major": 2,
       "version_minor": 0
      },
      "text/plain": [
       "Annual reports:   0%|          | 0/2 [00:00<?, ?report/s]"
      ]
     },
     "metadata": {},
     "output_type": "display_data"
    },
    {
     "name": "stdout",
     "output_type": "stream",
     "text": [
      "35 00377610\n"
     ]
    },
    {
     "data": {
      "application/vnd.jupyter.widget-view+json": {
       "model_id": "e134e2452da0463e9f707ab418bd7fe5",
       "version_major": 2,
       "version_minor": 0
      },
      "text/plain": [
       "Annual reports:   0%|          | 0/3 [00:00<?, ?report/s]"
      ]
     },
     "metadata": {},
     "output_type": "display_data"
    },
    {
     "name": "stderr",
     "output_type": "stream",
     "text": [
      "C:\\Users\\pmsda\\AppData\\Local\\Packages\\PythonSoftwareFoundation.Python.3.11_qbz5n2kfra8p0\\LocalCache\\local-packages\\Python311\\site-packages\\dart_fss\\fs\\extract.py:1455: RuntimeWarning: Unable to extract financial statements: {'rcp_no': '20220315000933', 'corp_code': '00134176', 'corp_name': '세우글로벌', 'stock_code': '013000', 'corp_cls': 'Y', 'report_nm': '사업보고서제출기한연장신고서 (2021.12)', 'flr_nm': '세우글로벌', 'rcept_dt': '20220315', 'rm': ''}.\n",
      "  warnings.warn(warnings_text, RuntimeWarning)\n"
     ]
    },
    {
     "name": "stdout",
     "output_type": "stream",
     "text": [
      "35 00134176\n"
     ]
    },
    {
     "data": {
      "application/vnd.jupyter.widget-view+json": {
       "model_id": "c0cec7e7e91b43e8b78b76e15b44eb07",
       "version_major": 2,
       "version_minor": 0
      },
      "text/plain": [
       "Annual reports:   0%|          | 0/3 [00:00<?, ?report/s]"
      ]
     },
     "metadata": {},
     "output_type": "display_data"
    },
    {
     "name": "stderr",
     "output_type": "stream",
     "text": [
      "C:\\Users\\pmsda\\AppData\\Local\\Packages\\PythonSoftwareFoundation.Python.3.11_qbz5n2kfra8p0\\LocalCache\\local-packages\\Python311\\site-packages\\dart_fss\\fs\\extract.py:1455: RuntimeWarning: Unable to extract financial statements: {'rcp_no': '20230323000745', 'corp_code': '00585219', 'corp_name': '세원이앤씨', 'stock_code': '091090', 'corp_cls': 'Y', 'report_nm': '사업보고서제출기한연장신고서 (2022.12)', 'flr_nm': '세원이앤씨', 'rcept_dt': '20230323', 'rm': ''}.\n",
      "  warnings.warn(warnings_text, RuntimeWarning)\n"
     ]
    },
    {
     "name": "stdout",
     "output_type": "stream",
     "text": [
      "35 00585219\n"
     ]
    },
    {
     "data": {
      "application/vnd.jupyter.widget-view+json": {
       "model_id": "ecd9a40789994e5585380d8dcef86b24",
       "version_major": 2,
       "version_minor": 0
      },
      "text/plain": [
       "Annual reports:   0%|          | 0/6 [00:00<?, ?report/s]"
      ]
     },
     "metadata": {},
     "output_type": "display_data"
    },
    {
     "name": "stdout",
     "output_type": "stream",
     "text": [
      "35 00134316\n"
     ]
    },
    {
     "data": {
      "application/vnd.jupyter.widget-view+json": {
       "model_id": "5a7c095cf4bb4df58f7fb2bb4828c9e0",
       "version_major": 2,
       "version_minor": 0
      },
      "text/plain": [
       "Annual reports:   0%|          | 0/2 [00:00<?, ?report/s]"
      ]
     },
     "metadata": {},
     "output_type": "display_data"
    },
    {
     "name": "stderr",
     "output_type": "stream",
     "text": [
      "Traceback (most recent call last):\n",
      "  File \"C:\\Users\\pmsda\\AppData\\Local\\Packages\\PythonSoftwareFoundation.Python.3.11_qbz5n2kfra8p0\\LocalCache\\local-packages\\Python311\\site-packages\\dart_fss\\fs\\extract.py\", line 1433, in extract\n",
      "    statements = analyze_report(report=report,\n",
      "                 ^^^^^^^^^^^^^^^^^^^^^^^^^^^^^\n",
      "  File \"C:\\Users\\pmsda\\AppData\\Local\\Packages\\PythonSoftwareFoundation.Python.3.11_qbz5n2kfra8p0\\LocalCache\\local-packages\\Python311\\site-packages\\dart_fss\\fs\\extract.py\", line 1276, in analyze_report\n",
      "    raise NotFoundConsolidated('Could not find consolidated financial statements')\n",
      "dart_fss.errors.errors.NotFoundConsolidated: Could not find consolidated financial statements\n",
      "C:\\Users\\pmsda\\AppData\\Local\\Packages\\PythonSoftwareFoundation.Python.3.11_qbz5n2kfra8p0\\LocalCache\\local-packages\\Python311\\site-packages\\dart_fss\\fs\\extract.py:1462: RuntimeWarning: Unable to extract financial statements: {'rcp_no': '20230316000461', 'corp_code': '00422895', 'corp_name': '세이브존I&C', 'stock_code': '067830', 'corp_cls': 'Y', 'report_nm': '사업보고서 (2022.12)', 'flr_nm': '세이브존I&C', 'rcept_dt': '20230316', 'rm': ''}.\n",
      "  warnings.warn(warnings_text, RuntimeWarning)\n",
      "Traceback (most recent call last):\n",
      "  File \"C:\\Users\\pmsda\\AppData\\Local\\Packages\\PythonSoftwareFoundation.Python.3.11_qbz5n2kfra8p0\\LocalCache\\local-packages\\Python311\\site-packages\\dart_fss\\fs\\extract.py\", line 1433, in extract\n",
      "    statements = analyze_report(report=report,\n",
      "                 ^^^^^^^^^^^^^^^^^^^^^^^^^^^^^\n",
      "  File \"C:\\Users\\pmsda\\AppData\\Local\\Packages\\PythonSoftwareFoundation.Python.3.11_qbz5n2kfra8p0\\LocalCache\\local-packages\\Python311\\site-packages\\dart_fss\\fs\\extract.py\", line 1276, in analyze_report\n",
      "    raise NotFoundConsolidated('Could not find consolidated financial statements')\n",
      "dart_fss.errors.errors.NotFoundConsolidated: Could not find consolidated financial statements\n",
      "C:\\Users\\pmsda\\AppData\\Local\\Packages\\PythonSoftwareFoundation.Python.3.11_qbz5n2kfra8p0\\LocalCache\\local-packages\\Python311\\site-packages\\dart_fss\\fs\\extract.py:1462: RuntimeWarning: Unable to extract financial statements: {'rcp_no': '20220317000879', 'corp_code': '00422895', 'corp_name': '세이브존I&C', 'stock_code': '067830', 'corp_cls': 'Y', 'report_nm': '사업보고서 (2021.12)', 'flr_nm': '세이브존I&C', 'rcept_dt': '20220317', 'rm': ''}.\n",
      "  warnings.warn(warnings_text, RuntimeWarning)\n"
     ]
    },
    {
     "name": "stdout",
     "output_type": "stream",
     "text": [
      "35 00422895\n"
     ]
    },
    {
     "data": {
      "application/vnd.jupyter.widget-view+json": {
       "model_id": "519a0a0a5ff049d4bc02684930309724",
       "version_major": 2,
       "version_minor": 0
      },
      "text/plain": [
       "Annual reports:   0%|          | 0/2 [00:00<?, ?report/s]"
      ]
     },
     "metadata": {},
     "output_type": "display_data"
    },
    {
     "name": "stdout",
     "output_type": "stream",
     "text": [
      "35 00134510\n"
     ]
    },
    {
     "data": {
      "application/vnd.jupyter.widget-view+json": {
       "model_id": "9aa6b26bdee84a009b80c5f0049b52ef",
       "version_major": 2,
       "version_minor": 0
      },
      "text/plain": [
       "Annual reports:   0%|          | 0/2 [00:00<?, ?report/s]"
      ]
     },
     "metadata": {},
     "output_type": "display_data"
    },
    {
     "name": "stdout",
     "output_type": "stream",
     "text": [
      "35 00415628\n"
     ]
    },
    {
     "data": {
      "application/vnd.jupyter.widget-view+json": {
       "model_id": "7616a7f2726b48c89c9fbec608803d17",
       "version_major": 2,
       "version_minor": 0
      },
      "text/plain": [
       "Annual reports:   0%|          | 0/2 [00:00<?, ?report/s]"
      ]
     },
     "metadata": {},
     "output_type": "display_data"
    },
    {
     "name": "stderr",
     "output_type": "stream",
     "text": [
      "Traceback (most recent call last):\n",
      "  File \"C:\\Users\\pmsda\\AppData\\Local\\Packages\\PythonSoftwareFoundation.Python.3.11_qbz5n2kfra8p0\\LocalCache\\local-packages\\Python311\\site-packages\\dart_fss\\fs\\extract.py\", line 1433, in extract\n",
      "    statements = analyze_report(report=report,\n",
      "                 ^^^^^^^^^^^^^^^^^^^^^^^^^^^^^\n",
      "  File \"C:\\Users\\pmsda\\AppData\\Local\\Packages\\PythonSoftwareFoundation.Python.3.11_qbz5n2kfra8p0\\LocalCache\\local-packages\\Python311\\site-packages\\dart_fss\\fs\\extract.py\", line 1276, in analyze_report\n",
      "    raise NotFoundConsolidated('Could not find consolidated financial statements')\n",
      "dart_fss.errors.errors.NotFoundConsolidated: Could not find consolidated financial statements\n",
      "C:\\Users\\pmsda\\AppData\\Local\\Packages\\PythonSoftwareFoundation.Python.3.11_qbz5n2kfra8p0\\LocalCache\\local-packages\\Python311\\site-packages\\dart_fss\\fs\\extract.py:1462: RuntimeWarning: Unable to extract financial statements: {'rcp_no': '20230316000858', 'corp_code': '00133706', 'corp_name': '한국제지', 'stock_code': '027970', 'corp_cls': 'Y', 'report_nm': '사업보고서 (2022.12)', 'flr_nm': '한국제지', 'rcept_dt': '20230316', 'rm': ''}.\n",
      "  warnings.warn(warnings_text, RuntimeWarning)\n",
      "Traceback (most recent call last):\n",
      "  File \"C:\\Users\\pmsda\\AppData\\Local\\Packages\\PythonSoftwareFoundation.Python.3.11_qbz5n2kfra8p0\\LocalCache\\local-packages\\Python311\\site-packages\\dart_fss\\fs\\extract.py\", line 1433, in extract\n",
      "    statements = analyze_report(report=report,\n",
      "                 ^^^^^^^^^^^^^^^^^^^^^^^^^^^^^\n",
      "  File \"C:\\Users\\pmsda\\AppData\\Local\\Packages\\PythonSoftwareFoundation.Python.3.11_qbz5n2kfra8p0\\LocalCache\\local-packages\\Python311\\site-packages\\dart_fss\\fs\\extract.py\", line 1276, in analyze_report\n",
      "    raise NotFoundConsolidated('Could not find consolidated financial statements')\n",
      "dart_fss.errors.errors.NotFoundConsolidated: Could not find consolidated financial statements\n",
      "C:\\Users\\pmsda\\AppData\\Local\\Packages\\PythonSoftwareFoundation.Python.3.11_qbz5n2kfra8p0\\LocalCache\\local-packages\\Python311\\site-packages\\dart_fss\\fs\\extract.py:1462: RuntimeWarning: Unable to extract financial statements: {'rcp_no': '20220323000788', 'corp_code': '00133706', 'corp_name': '한국제지', 'stock_code': '027970', 'corp_cls': 'Y', 'report_nm': '사업보고서 (2021.12)', 'flr_nm': '한국제지', 'rcept_dt': '20220323', 'rm': ''}.\n",
      "  warnings.warn(warnings_text, RuntimeWarning)\n"
     ]
    },
    {
     "name": "stdout",
     "output_type": "stream",
     "text": [
      "35 00133706\n"
     ]
    },
    {
     "data": {
      "application/vnd.jupyter.widget-view+json": {
       "model_id": "aa076e4646f749f1b59f45aa9ab54a0d",
       "version_major": 2,
       "version_minor": 0
      },
      "text/plain": [
       "Annual reports:   0%|          | 0/2 [00:00<?, ?report/s]"
      ]
     },
     "metadata": {},
     "output_type": "display_data"
    },
    {
     "name": "stdout",
     "output_type": "stream",
     "text": [
      "35 01182444\n"
     ]
    },
    {
     "data": {
      "application/vnd.jupyter.widget-view+json": {
       "model_id": "821cdcae04bd4b2ba4dd0ebdd08c26a6",
       "version_major": 2,
       "version_minor": 0
      },
      "text/plain": [
       "Annual reports:   0%|          | 0/7 [00:00<?, ?report/s]"
      ]
     },
     "metadata": {},
     "output_type": "display_data"
    },
    {
     "name": "stdout",
     "output_type": "stream",
     "text": [
      "35 00413046\n"
     ]
    },
    {
     "data": {
      "application/vnd.jupyter.widget-view+json": {
       "model_id": "e60d92d7e6714bf7aa21d616c1b04f87",
       "version_major": 2,
       "version_minor": 0
      },
      "text/plain": [
       "Annual reports:   0%|          | 0/4 [00:00<?, ?report/s]"
      ]
     },
     "metadata": {},
     "output_type": "display_data"
    },
    {
     "name": "stderr",
     "output_type": "stream",
     "text": [
      "Traceback (most recent call last):\n",
      "  File \"C:\\Users\\pmsda\\AppData\\Local\\Packages\\PythonSoftwareFoundation.Python.3.11_qbz5n2kfra8p0\\LocalCache\\local-packages\\Python311\\site-packages\\dart_fss\\fs\\extract.py\", line 1433, in extract\n",
      "    statements = analyze_report(report=report,\n",
      "                 ^^^^^^^^^^^^^^^^^^^^^^^^^^^^^\n",
      "  File \"C:\\Users\\pmsda\\AppData\\Local\\Packages\\PythonSoftwareFoundation.Python.3.11_qbz5n2kfra8p0\\LocalCache\\local-packages\\Python311\\site-packages\\dart_fss\\fs\\extract.py\", line 1276, in analyze_report\n",
      "    raise NotFoundConsolidated('Could not find consolidated financial statements')\n",
      "dart_fss.errors.errors.NotFoundConsolidated: Could not find consolidated financial statements\n",
      "C:\\Users\\pmsda\\AppData\\Local\\Packages\\PythonSoftwareFoundation.Python.3.11_qbz5n2kfra8p0\\LocalCache\\local-packages\\Python311\\site-packages\\dart_fss\\fs\\extract.py:1462: RuntimeWarning: Unable to extract financial statements: {'rcp_no': '20230320000647', 'corp_code': '00541349', 'corp_name': '셀트리온제약', 'stock_code': '068760', 'corp_cls': 'K', 'report_nm': '사업보고서 (2022.12)', 'flr_nm': '셀트리온제약', 'rcept_dt': '20230320', 'rm': ''}.\n",
      "  warnings.warn(warnings_text, RuntimeWarning)\n",
      "Traceback (most recent call last):\n",
      "  File \"C:\\Users\\pmsda\\AppData\\Local\\Packages\\PythonSoftwareFoundation.Python.3.11_qbz5n2kfra8p0\\LocalCache\\local-packages\\Python311\\site-packages\\dart_fss\\fs\\extract.py\", line 1433, in extract\n",
      "    statements = analyze_report(report=report,\n",
      "                 ^^^^^^^^^^^^^^^^^^^^^^^^^^^^^\n",
      "  File \"C:\\Users\\pmsda\\AppData\\Local\\Packages\\PythonSoftwareFoundation.Python.3.11_qbz5n2kfra8p0\\LocalCache\\local-packages\\Python311\\site-packages\\dart_fss\\fs\\extract.py\", line 1276, in analyze_report\n",
      "    raise NotFoundConsolidated('Could not find consolidated financial statements')\n",
      "dart_fss.errors.errors.NotFoundConsolidated: Could not find consolidated financial statements\n",
      "C:\\Users\\pmsda\\AppData\\Local\\Packages\\PythonSoftwareFoundation.Python.3.11_qbz5n2kfra8p0\\LocalCache\\local-packages\\Python311\\site-packages\\dart_fss\\fs\\extract.py:1462: RuntimeWarning: Unable to extract financial statements: {'rcp_no': '20220816001432', 'corp_code': '00541349', 'corp_name': '셀트리온제약', 'stock_code': '068760', 'corp_cls': 'K', 'report_nm': '[기재정정]사업보고서 (2021.12)', 'flr_nm': '셀트리온제약', 'rcept_dt': '20220816', 'rm': ''}.\n",
      "  warnings.warn(warnings_text, RuntimeWarning)\n"
     ]
    },
    {
     "name": "stdout",
     "output_type": "stream",
     "text": [
      "35 00541349\n"
     ]
    },
    {
     "data": {
      "application/vnd.jupyter.widget-view+json": {
       "model_id": "719879ae079f4ae087d9fddea6812a91",
       "version_major": 2,
       "version_minor": 0
      },
      "text/plain": [
       "Annual reports:   0%|          | 0/5 [00:00<?, ?report/s]"
      ]
     },
     "metadata": {},
     "output_type": "display_data"
    },
    {
     "name": "stdout",
     "output_type": "stream",
     "text": [
      "35 00554024\n"
     ]
    },
    {
     "data": {
      "application/vnd.jupyter.widget-view+json": {
       "model_id": "a73e4140bb414055a6c95323b022b86a",
       "version_major": 2,
       "version_minor": 0
      },
      "text/plain": [
       "Annual reports:   0%|          | 0/2 [00:00<?, ?report/s]"
      ]
     },
     "metadata": {},
     "output_type": "display_data"
    },
    {
     "name": "stdout",
     "output_type": "stream",
     "text": [
      "35 01412822\n"
     ]
    },
    {
     "data": {
      "application/vnd.jupyter.widget-view+json": {
       "model_id": "34016b317ca248f39a438fa7eb00a82a",
       "version_major": 2,
       "version_minor": 0
      },
      "text/plain": [
       "Annual reports:   0%|          | 0/2 [00:00<?, ?report/s]"
      ]
     },
     "metadata": {},
     "output_type": "display_data"
    },
    {
     "name": "stdout",
     "output_type": "stream",
     "text": [
      "35 01159233\n"
     ]
    },
    {
     "data": {
      "application/vnd.jupyter.widget-view+json": {
       "model_id": "04061a3195b345599b590128d94dcc32",
       "version_major": 2,
       "version_minor": 0
      },
      "text/plain": [
       "Annual reports:   0%|          | 0/2 [00:00<?, ?report/s]"
      ]
     },
     "metadata": {},
     "output_type": "display_data"
    },
    {
     "name": "stdout",
     "output_type": "stream",
     "text": [
      "35 01489648\n"
     ]
    },
    {
     "data": {
      "application/vnd.jupyter.widget-view+json": {
       "model_id": "eb94d84694794285af73c705c1e98ae0",
       "version_major": 2,
       "version_minor": 0
      },
      "text/plain": [
       "Annual reports:   0%|          | 0/2 [00:00<?, ?report/s]"
      ]
     },
     "metadata": {},
     "output_type": "display_data"
    },
    {
     "name": "stdout",
     "output_type": "stream",
     "text": [
      "35 00247975\n"
     ]
    },
    {
     "data": {
      "application/vnd.jupyter.widget-view+json": {
       "model_id": "26fa3490deb04907b89df56c7d92ac20",
       "version_major": 2,
       "version_minor": 0
      },
      "text/plain": [
       "Annual reports:   0%|          | 0/2 [00:00<?, ?report/s]"
      ]
     },
     "metadata": {},
     "output_type": "display_data"
    },
    {
     "name": "stdout",
     "output_type": "stream",
     "text": [
      "35 00134963\n"
     ]
    },
    {
     "data": {
      "application/vnd.jupyter.widget-view+json": {
       "model_id": "4e847149fd964e25aa1a98b3605df60a",
       "version_major": 2,
       "version_minor": 0
      },
      "text/plain": [
       "Annual reports:   0%|          | 0/2 [00:00<?, ?report/s]"
      ]
     },
     "metadata": {},
     "output_type": "display_data"
    },
    {
     "name": "stdout",
     "output_type": "stream",
     "text": [
      "35 00135111\n"
     ]
    },
    {
     "data": {
      "application/vnd.jupyter.widget-view+json": {
       "model_id": "4b79d3bf251748b5b922750cce1f1cce",
       "version_major": 2,
       "version_minor": 0
      },
      "text/plain": [
       "Annual reports:   0%|          | 0/2 [00:00<?, ?report/s]"
      ]
     },
     "metadata": {},
     "output_type": "display_data"
    },
    {
     "name": "stdout",
     "output_type": "stream",
     "text": [
      "35 01168684\n"
     ]
    },
    {
     "data": {
      "application/vnd.jupyter.widget-view+json": {
       "model_id": "17547b631b9f440ba5ffc932175ae088",
       "version_major": 2,
       "version_minor": 0
      },
      "text/plain": [
       "Annual reports:   0%|          | 0/2 [00:00<?, ?report/s]"
      ]
     },
     "metadata": {},
     "output_type": "display_data"
    },
    {
     "name": "stdout",
     "output_type": "stream",
     "text": [
      "36 00117498\n"
     ]
    },
    {
     "data": {
      "application/vnd.jupyter.widget-view+json": {
       "model_id": "32ff517f3a5947bd94bdfde5340e875e",
       "version_major": 2,
       "version_minor": 0
      },
      "text/plain": [
       "Annual reports:   0%|          | 0/2 [00:00<?, ?report/s]"
      ]
     },
     "metadata": {},
     "output_type": "display_data"
    },
    {
     "name": "stdout",
     "output_type": "stream",
     "text": [
      "36 00158219\n"
     ]
    },
    {
     "data": {
      "application/vnd.jupyter.widget-view+json": {
       "model_id": "fd5aba3aae3042bca0767236c0249204",
       "version_major": 2,
       "version_minor": 0
      },
      "text/plain": [
       "Annual reports:   0%|          | 0/2 [00:00<?, ?report/s]"
      ]
     },
     "metadata": {},
     "output_type": "display_data"
    },
    {
     "name": "stderr",
     "output_type": "stream",
     "text": [
      "Traceback (most recent call last):\n",
      "  File \"C:\\Users\\pmsda\\AppData\\Local\\Packages\\PythonSoftwareFoundation.Python.3.11_qbz5n2kfra8p0\\LocalCache\\local-packages\\Python311\\site-packages\\dart_fss\\fs\\extract.py\", line 1447, in extract\n",
      "    nstatements = analyze_report(report=report,\n",
      "                  ^^^^^^^^^^^^^^^^^^^^^^^^^^^^^\n",
      "  File \"C:\\Users\\pmsda\\AppData\\Local\\Packages\\PythonSoftwareFoundation.Python.3.11_qbz5n2kfra8p0\\LocalCache\\local-packages\\Python311\\site-packages\\dart_fss\\fs\\extract.py\", line 1276, in analyze_report\n",
      "    raise NotFoundConsolidated('Could not find consolidated financial statements')\n",
      "dart_fss.errors.errors.NotFoundConsolidated: Could not find consolidated financial statements\n",
      "C:\\Users\\pmsda\\AppData\\Local\\Packages\\PythonSoftwareFoundation.Python.3.11_qbz5n2kfra8p0\\LocalCache\\local-packages\\Python311\\site-packages\\dart_fss\\fs\\extract.py:1462: RuntimeWarning: Unable to extract financial statements: {'rcp_no': '20220317000781', 'corp_code': '00852087', 'corp_name': '시디즈', 'stock_code': '134790', 'corp_cls': 'Y', 'report_nm': '사업보고서 (2021.12)', 'flr_nm': '시디즈', 'rcept_dt': '20220317', 'rm': ''}.\n",
      "  warnings.warn(warnings_text, RuntimeWarning)\n"
     ]
    },
    {
     "name": "stdout",
     "output_type": "stream",
     "text": [
      "36 00852087\n"
     ]
    },
    {
     "data": {
      "application/vnd.jupyter.widget-view+json": {
       "model_id": "c0c9b7295a8e44c48c35ddc1f18e5323",
       "version_major": 2,
       "version_minor": 0
      },
      "text/plain": [
       "Annual reports:   0%|          | 0/5 [00:00<?, ?report/s]"
      ]
     },
     "metadata": {},
     "output_type": "display_data"
    },
    {
     "name": "stdout",
     "output_type": "stream",
     "text": [
      "36 00135777\n"
     ]
    },
    {
     "data": {
      "application/vnd.jupyter.widget-view+json": {
       "model_id": "9e424532ec3545e79c9e0572665c22f6",
       "version_major": 2,
       "version_minor": 0
      },
      "text/plain": [
       "Annual reports:   0%|          | 0/2 [00:00<?, ?report/s]"
      ]
     },
     "metadata": {},
     "output_type": "display_data"
    },
    {
     "name": "stdout",
     "output_type": "stream",
     "text": [
      "36 00135795\n"
     ]
    },
    {
     "data": {
      "application/vnd.jupyter.widget-view+json": {
       "model_id": "8c774094ce164ac198d14e2e9eb2dcc1",
       "version_major": 2,
       "version_minor": 0
      },
      "text/plain": [
       "Annual reports:   0%|          | 0/2 [00:00<?, ?report/s]"
      ]
     },
     "metadata": {},
     "output_type": "display_data"
    },
    {
     "name": "stdout",
     "output_type": "stream",
     "text": [
      "36 00135962\n"
     ]
    },
    {
     "data": {
      "application/vnd.jupyter.widget-view+json": {
       "model_id": "87c60d4579e941bb9ba6efa8c0e79ef4",
       "version_major": 2,
       "version_minor": 0
      },
      "text/plain": [
       "Annual reports:   0%|          | 0/3 [00:00<?, ?report/s]"
      ]
     },
     "metadata": {},
     "output_type": "display_data"
    },
    {
     "name": "stdout",
     "output_type": "stream",
     "text": [
      "36 00919966\n"
     ]
    },
    {
     "data": {
      "application/vnd.jupyter.widget-view+json": {
       "model_id": "5c003a7502bd41e489ba6dccdfdc8524",
       "version_major": 2,
       "version_minor": 0
      },
      "text/plain": [
       "Annual reports:   0%|          | 0/2 [00:00<?, ?report/s]"
      ]
     },
     "metadata": {},
     "output_type": "display_data"
    },
    {
     "name": "stdout",
     "output_type": "stream",
     "text": [
      "36 00136271\n"
     ]
    },
    {
     "data": {
      "application/vnd.jupyter.widget-view+json": {
       "model_id": "f85799bd48314c4788b720cc7fdaee9e",
       "version_major": 2,
       "version_minor": 0
      },
      "text/plain": [
       "Annual reports:   0%|          | 0/2 [00:00<?, ?report/s]"
      ]
     },
     "metadata": {},
     "output_type": "display_data"
    },
    {
     "name": "stdout",
     "output_type": "stream",
     "text": [
      "36 00136341\n"
     ]
    },
    {
     "data": {
      "application/vnd.jupyter.widget-view+json": {
       "model_id": "07d2e344b23b4520b3bb19ad6e33dadd",
       "version_major": 2,
       "version_minor": 0
      },
      "text/plain": [
       "Annual reports:   0%|          | 0/2 [00:00<?, ?report/s]"
      ]
     },
     "metadata": {},
     "output_type": "display_data"
    },
    {
     "name": "stdout",
     "output_type": "stream",
     "text": [
      "36 00136378\n"
     ]
    },
    {
     "data": {
      "application/vnd.jupyter.widget-view+json": {
       "model_id": "1cf9395494ec4e78b8ef2124648deca0",
       "version_major": 2,
       "version_minor": 0
      },
      "text/plain": [
       "Annual reports:   0%|          | 0/2 [00:00<?, ?report/s]"
      ]
     },
     "metadata": {},
     "output_type": "display_data"
    },
    {
     "name": "stderr",
     "output_type": "stream",
     "text": [
      "Traceback (most recent call last):\n",
      "  File \"C:\\Users\\pmsda\\AppData\\Local\\Packages\\PythonSoftwareFoundation.Python.3.11_qbz5n2kfra8p0\\LocalCache\\local-packages\\Python311\\site-packages\\dart_fss\\fs\\extract.py\", line 1447, in extract\n",
      "    nstatements = analyze_report(report=report,\n",
      "                  ^^^^^^^^^^^^^^^^^^^^^^^^^^^^^\n",
      "  File \"C:\\Users\\pmsda\\AppData\\Local\\Packages\\PythonSoftwareFoundation.Python.3.11_qbz5n2kfra8p0\\LocalCache\\local-packages\\Python311\\site-packages\\dart_fss\\fs\\extract.py\", line 1276, in analyze_report\n",
      "    raise NotFoundConsolidated('Could not find consolidated financial statements')\n",
      "dart_fss.errors.errors.NotFoundConsolidated: Could not find consolidated financial statements\n",
      "C:\\Users\\pmsda\\AppData\\Local\\Packages\\PythonSoftwareFoundation.Python.3.11_qbz5n2kfra8p0\\LocalCache\\local-packages\\Python311\\site-packages\\dart_fss\\fs\\extract.py:1462: RuntimeWarning: Unable to extract financial statements: {'rcp_no': '20220816001345', 'corp_code': '00219486', 'corp_name': '신세계I&C', 'stock_code': '035510', 'corp_cls': 'Y', 'report_nm': '[기재정정]사업보고서 (2021.12)', 'flr_nm': '신세계I&C', 'rcept_dt': '20220816', 'rm': ''}.\n",
      "  warnings.warn(warnings_text, RuntimeWarning)\n"
     ]
    },
    {
     "name": "stdout",
     "output_type": "stream",
     "text": [
      "36 00219486\n"
     ]
    },
    {
     "data": {
      "application/vnd.jupyter.widget-view+json": {
       "model_id": "b613ea50df5c4793bf63ae316518ff1a",
       "version_major": 2,
       "version_minor": 0
      },
      "text/plain": [
       "Annual reports:   0%|          | 0/2 [00:00<?, ?report/s]"
      ]
     },
     "metadata": {},
     "output_type": "display_data"
    },
    {
     "name": "stderr",
     "output_type": "stream",
     "text": [
      "Traceback (most recent call last):\n",
      "  File \"C:\\Users\\pmsda\\AppData\\Local\\Packages\\PythonSoftwareFoundation.Python.3.11_qbz5n2kfra8p0\\LocalCache\\local-packages\\Python311\\site-packages\\dart_fss\\fs\\extract.py\", line 1433, in extract\n",
      "    statements = analyze_report(report=report,\n",
      "                 ^^^^^^^^^^^^^^^^^^^^^^^^^^^^^\n",
      "  File \"C:\\Users\\pmsda\\AppData\\Local\\Packages\\PythonSoftwareFoundation.Python.3.11_qbz5n2kfra8p0\\LocalCache\\local-packages\\Python311\\site-packages\\dart_fss\\fs\\extract.py\", line 1276, in analyze_report\n",
      "    raise NotFoundConsolidated('Could not find consolidated financial statements')\n",
      "dart_fss.errors.errors.NotFoundConsolidated: Could not find consolidated financial statements\n",
      "C:\\Users\\pmsda\\AppData\\Local\\Packages\\PythonSoftwareFoundation.Python.3.11_qbz5n2kfra8p0\\LocalCache\\local-packages\\Python311\\site-packages\\dart_fss\\fs\\extract.py:1462: RuntimeWarning: Unable to extract financial statements: {'rcp_no': '20230315001398', 'corp_code': '00217947', 'corp_name': '신세계건설', 'stock_code': '034300', 'corp_cls': 'Y', 'report_nm': '사업보고서 (2022.12)', 'flr_nm': '신세계건설', 'rcept_dt': '20230315', 'rm': ''}.\n",
      "  warnings.warn(warnings_text, RuntimeWarning)\n",
      "Traceback (most recent call last):\n",
      "  File \"C:\\Users\\pmsda\\AppData\\Local\\Packages\\PythonSoftwareFoundation.Python.3.11_qbz5n2kfra8p0\\LocalCache\\local-packages\\Python311\\site-packages\\dart_fss\\fs\\extract.py\", line 1433, in extract\n",
      "    statements = analyze_report(report=report,\n",
      "                 ^^^^^^^^^^^^^^^^^^^^^^^^^^^^^\n",
      "  File \"C:\\Users\\pmsda\\AppData\\Local\\Packages\\PythonSoftwareFoundation.Python.3.11_qbz5n2kfra8p0\\LocalCache\\local-packages\\Python311\\site-packages\\dart_fss\\fs\\extract.py\", line 1276, in analyze_report\n",
      "    raise NotFoundConsolidated('Could not find consolidated financial statements')\n",
      "dart_fss.errors.errors.NotFoundConsolidated: Could not find consolidated financial statements\n",
      "C:\\Users\\pmsda\\AppData\\Local\\Packages\\PythonSoftwareFoundation.Python.3.11_qbz5n2kfra8p0\\LocalCache\\local-packages\\Python311\\site-packages\\dart_fss\\fs\\extract.py:1462: RuntimeWarning: Unable to extract financial statements: {'rcp_no': '20220316000875', 'corp_code': '00217947', 'corp_name': '신세계건설', 'stock_code': '034300', 'corp_cls': 'Y', 'report_nm': '사업보고서 (2021.12)', 'flr_nm': '신세계건설', 'rcept_dt': '20220316', 'rm': ''}.\n",
      "  warnings.warn(warnings_text, RuntimeWarning)\n"
     ]
    },
    {
     "name": "stdout",
     "output_type": "stream",
     "text": [
      "36 00217947\n"
     ]
    },
    {
     "data": {
      "application/vnd.jupyter.widget-view+json": {
       "model_id": "432af51a8e6249619d3914fe7f38cca7",
       "version_major": 2,
       "version_minor": 0
      },
      "text/plain": [
       "Annual reports:   0%|          | 0/2 [00:00<?, ?report/s]"
      ]
     },
     "metadata": {},
     "output_type": "display_data"
    },
    {
     "name": "stdout",
     "output_type": "stream",
     "text": [
      "36 00234412\n"
     ]
    },
    {
     "data": {
      "application/vnd.jupyter.widget-view+json": {
       "model_id": "27a1c947e2c54944be447ca4d25d34e2",
       "version_major": 2,
       "version_minor": 0
      },
      "text/plain": [
       "Annual reports:   0%|          | 0/2 [00:00<?, ?report/s]"
      ]
     },
     "metadata": {},
     "output_type": "display_data"
    },
    {
     "name": "stdout",
     "output_type": "stream",
     "text": [
      "36 00274933\n"
     ]
    },
    {
     "data": {
      "application/vnd.jupyter.widget-view+json": {
       "model_id": "9bbcda4542f340859f09ab8eddc041b4",
       "version_major": 2,
       "version_minor": 0
      },
      "text/plain": [
       "Annual reports:   0%|          | 0/2 [00:00<?, ?report/s]"
      ]
     },
     "metadata": {},
     "output_type": "display_data"
    },
    {
     "name": "stdout",
     "output_type": "stream",
     "text": [
      "37 00136721\n"
     ]
    },
    {
     "data": {
      "application/vnd.jupyter.widget-view+json": {
       "model_id": "9a28ae35c3944e69855c2320509ccb7c",
       "version_major": 2,
       "version_minor": 0
      },
      "text/plain": [
       "Annual reports:   0%|          | 0/2 [00:00<?, ?report/s]"
      ]
     },
     "metadata": {},
     "output_type": "display_data"
    },
    {
     "name": "stdout",
     "output_type": "stream",
     "text": [
      "38 00149293\n"
     ]
    },
    {
     "data": {
      "application/vnd.jupyter.widget-view+json": {
       "model_id": "e692acf6c1584531b3f0c021d3446495",
       "version_major": 2,
       "version_minor": 0
      },
      "text/plain": [
       "Annual reports:   0%|          | 0/2 [00:00<?, ?report/s]"
      ]
     },
     "metadata": {},
     "output_type": "display_data"
    },
    {
     "name": "stdout",
     "output_type": "stream",
     "text": [
      "39 00382199\n"
     ]
    },
    {
     "data": {
      "application/vnd.jupyter.widget-view+json": {
       "model_id": "6f4cdd25f5214b0fa3edc60ed86cbe7e",
       "version_major": 2,
       "version_minor": 0
      },
      "text/plain": [
       "Annual reports:   0%|          | 0/2 [00:00<?, ?report/s]"
      ]
     },
     "metadata": {},
     "output_type": "display_data"
    },
    {
     "name": "stdout",
     "output_type": "stream",
     "text": [
      "39 00307897\n"
     ]
    },
    {
     "data": {
      "application/vnd.jupyter.widget-view+json": {
       "model_id": "a1627dd082d747d49d27e615c276d2c4",
       "version_major": 2,
       "version_minor": 0
      },
      "text/plain": [
       "Annual reports:   0%|          | 0/2 [00:00<?, ?report/s]"
      ]
     },
     "metadata": {},
     "output_type": "display_data"
    },
    {
     "name": "stdout",
     "output_type": "stream",
     "text": [
      "40 00138321\n"
     ]
    },
    {
     "data": {
      "application/vnd.jupyter.widget-view+json": {
       "model_id": "cf4fca2c87cb4b128262f2851e062822",
       "version_major": 2,
       "version_minor": 0
      },
      "text/plain": [
       "Annual reports:   0%|          | 0/2 [00:00<?, ?report/s]"
      ]
     },
     "metadata": {},
     "output_type": "display_data"
    },
    {
     "name": "stdout",
     "output_type": "stream",
     "text": [
      "41 00156895\n"
     ]
    },
    {
     "data": {
      "application/vnd.jupyter.widget-view+json": {
       "model_id": "6dcaa8d293fe457085d28783fa28d2f0",
       "version_major": 2,
       "version_minor": 0
      },
      "text/plain": [
       "Annual reports:   0%|          | 0/2 [00:00<?, ?report/s]"
      ]
     },
     "metadata": {},
     "output_type": "display_data"
    },
    {
     "name": "stdout",
     "output_type": "stream",
     "text": [
      "42 01350869\n"
     ]
    },
    {
     "data": {
      "application/vnd.jupyter.widget-view+json": {
       "model_id": "eb9f6e6389d5475eac2b8efc6a49968b",
       "version_major": 2,
       "version_minor": 0
      },
      "text/plain": [
       "Annual reports:   0%|          | 0/3 [00:00<?, ?report/s]"
      ]
     },
     "metadata": {},
     "output_type": "display_data"
    },
    {
     "name": "stdout",
     "output_type": "stream",
     "text": [
      "43 00209443\n"
     ]
    },
    {
     "data": {
      "application/vnd.jupyter.widget-view+json": {
       "model_id": "0d3269a420184010a8b5a49f26a6b8c4",
       "version_major": 2,
       "version_minor": 0
      },
      "text/plain": [
       "Annual reports:   0%|          | 0/2 [00:00<?, ?report/s]"
      ]
     },
     "metadata": {},
     "output_type": "display_data"
    },
    {
     "name": "stdout",
     "output_type": "stream",
     "text": [
      "44 00231664\n"
     ]
    },
    {
     "data": {
      "application/vnd.jupyter.widget-view+json": {
       "model_id": "fb04a94a79a4476aad493aec8a434acc",
       "version_major": 2,
       "version_minor": 0
      },
      "text/plain": [
       "Annual reports:   0%|          | 0/2 [00:00<?, ?report/s]"
      ]
     },
     "metadata": {},
     "output_type": "display_data"
    },
    {
     "name": "stdout",
     "output_type": "stream",
     "text": [
      "45 00254045\n"
     ]
    },
    {
     "data": {
      "application/vnd.jupyter.widget-view+json": {
       "model_id": "95199af1ad5d479b97f9474221cbee76",
       "version_major": 2,
       "version_minor": 0
      },
      "text/plain": [
       "Annual reports:   0%|          | 0/2 [00:00<?, ?report/s]"
      ]
     },
     "metadata": {},
     "output_type": "display_data"
    },
    {
     "name": "stdout",
     "output_type": "stream",
     "text": [
      "46 00104102\n"
     ]
    },
    {
     "data": {
      "application/vnd.jupyter.widget-view+json": {
       "model_id": "f1241903f8414fe0a0d8540fb611922e",
       "version_major": 2,
       "version_minor": 0
      },
      "text/plain": [
       "Annual reports:   0%|          | 0/2 [00:00<?, ?report/s]"
      ]
     },
     "metadata": {},
     "output_type": "display_data"
    },
    {
     "name": "stderr",
     "output_type": "stream",
     "text": [
      "C:\\Users\\pmsda\\AppData\\Local\\Packages\\PythonSoftwareFoundation.Python.3.11_qbz5n2kfra8p0\\LocalCache\\local-packages\\Python311\\site-packages\\dart_fss\\fs\\extract.py:86: RuntimeWarning: Month must be in 1..12\n",
      "  warnings.warn(warnings_text, RuntimeWarning)\n",
      "C:\\Users\\pmsda\\AppData\\Local\\Packages\\PythonSoftwareFoundation.Python.3.11_qbz5n2kfra8p0\\LocalCache\\local-packages\\Python311\\site-packages\\dart_fss\\fs\\extract.py:86: RuntimeWarning: Month must be in 1..12\n",
      "  warnings.warn(warnings_text, RuntimeWarning)\n",
      "C:\\Users\\pmsda\\AppData\\Local\\Packages\\PythonSoftwareFoundation.Python.3.11_qbz5n2kfra8p0\\LocalCache\\local-packages\\Python311\\site-packages\\dart_fss\\fs\\extract.py:86: RuntimeWarning: Month must be in 1..12\n",
      "  warnings.warn(warnings_text, RuntimeWarning)\n",
      "C:\\Users\\pmsda\\AppData\\Local\\Packages\\PythonSoftwareFoundation.Python.3.11_qbz5n2kfra8p0\\LocalCache\\local-packages\\Python311\\site-packages\\dart_fss\\fs\\extract.py:86: RuntimeWarning: Month must be in 1..12\n",
      "  warnings.warn(warnings_text, RuntimeWarning)\n",
      "C:\\Users\\pmsda\\AppData\\Local\\Packages\\PythonSoftwareFoundation.Python.3.11_qbz5n2kfra8p0\\LocalCache\\local-packages\\Python311\\site-packages\\dart_fss\\fs\\extract.py:86: RuntimeWarning: Month must be in 1..12\n",
      "  warnings.warn(warnings_text, RuntimeWarning)\n",
      "C:\\Users\\pmsda\\AppData\\Local\\Packages\\PythonSoftwareFoundation.Python.3.11_qbz5n2kfra8p0\\LocalCache\\local-packages\\Python311\\site-packages\\dart_fss\\fs\\extract.py:86: RuntimeWarning: Month must be in 1..12\n",
      "  warnings.warn(warnings_text, RuntimeWarning)\n"
     ]
    },
    {
     "name": "stdout",
     "output_type": "stream",
     "text": [
      "47 00117601\n"
     ]
    },
    {
     "data": {
      "application/vnd.jupyter.widget-view+json": {
       "model_id": "aa0accedeeeb4920b8146d50946ef0c3",
       "version_major": 2,
       "version_minor": 0
      },
      "text/plain": [
       "Annual reports:   0%|          | 0/2 [00:00<?, ?report/s]"
      ]
     },
     "metadata": {},
     "output_type": "display_data"
    },
    {
     "name": "stdout",
     "output_type": "stream",
     "text": [
      "48 00131054\n"
     ]
    },
    {
     "data": {
      "application/vnd.jupyter.widget-view+json": {
       "model_id": "9dc8f11bbf46425f8793b8684f943d8e",
       "version_major": 2,
       "version_minor": 0
      },
      "text/plain": [
       "Annual reports:   0%|          | 0/2 [00:00<?, ?report/s]"
      ]
     },
     "metadata": {},
     "output_type": "display_data"
    },
    {
     "name": "stderr",
     "output_type": "stream",
     "text": [
      "C:\\Users\\pmsda\\AppData\\Local\\Packages\\PythonSoftwareFoundation.Python.3.11_qbz5n2kfra8p0\\LocalCache\\local-packages\\Python311\\site-packages\\dart_fss\\fs\\extract.py:1440: RuntimeWarning: Unable to extract financial statements: {'rcp_no': '20230323001499', 'corp_code': '00145190', 'corp_name': '유화증권', 'stock_code': '003460', 'corp_cls': 'Y', 'report_nm': '사업보고서 (2022.12)', 'flr_nm': '유화증권', 'rcept_dt': '20230323', 'rm': ''}.\n",
      "  warnings.warn(warnings_text, RuntimeWarning)\n",
      "C:\\Users\\pmsda\\AppData\\Local\\Packages\\PythonSoftwareFoundation.Python.3.11_qbz5n2kfra8p0\\LocalCache\\local-packages\\Python311\\site-packages\\dart_fss\\fs\\extract.py:1440: RuntimeWarning: Unable to extract financial statements: {'rcp_no': '20220322000927', 'corp_code': '00145190', 'corp_name': '유화증권', 'stock_code': '003460', 'corp_cls': 'Y', 'report_nm': '[기재정정]사업보고서 (2021.12)', 'flr_nm': '유화증권', 'rcept_dt': '20220322', 'rm': ''}.\n",
      "  warnings.warn(warnings_text, RuntimeWarning)\n"
     ]
    },
    {
     "name": "stdout",
     "output_type": "stream",
     "text": [
      "48 00145190\n"
     ]
    },
    {
     "data": {
      "application/vnd.jupyter.widget-view+json": {
       "model_id": "350e4c75d6e3466e8e082ed2be49c8a4",
       "version_major": 2,
       "version_minor": 0
      },
      "text/plain": [
       "Annual reports:   0%|          | 0/2 [00:00<?, ?report/s]"
      ]
     },
     "metadata": {},
     "output_type": "display_data"
    },
    {
     "name": "stdout",
     "output_type": "stream",
     "text": [
      "49 00330424\n"
     ]
    },
    {
     "data": {
      "application/vnd.jupyter.widget-view+json": {
       "model_id": "57709ae21e8b4c19834b2568b42f1f33",
       "version_major": 2,
       "version_minor": 0
      },
      "text/plain": [
       "Annual reports:   0%|          | 0/2 [00:00<?, ?report/s]"
      ]
     },
     "metadata": {},
     "output_type": "display_data"
    },
    {
     "name": "stderr",
     "output_type": "stream",
     "text": [
      "Traceback (most recent call last):\n",
      "  File \"C:\\Users\\pmsda\\AppData\\Local\\Packages\\PythonSoftwareFoundation.Python.3.11_qbz5n2kfra8p0\\LocalCache\\local-packages\\Python311\\site-packages\\dart_fss\\fs\\extract.py\", line 1457, in extract\n",
      "    statements, label_df = merge_fs(statements, nstatements, fs_tp=fs_tp, label_df=label_df)\n",
      "                           ^^^^^^^^^^^^^^^^^^^^^^^^^^^^^^^^^^^^^^^^^^^^^^^^^^^^^^^^^^^^^^^^^\n",
      "  File \"C:\\Users\\pmsda\\AppData\\Local\\Packages\\PythonSoftwareFoundation.Python.3.11_qbz5n2kfra8p0\\LocalCache\\local-packages\\Python311\\site-packages\\dart_fss\\fs\\extract.py\", line 1027, in merge_fs\n",
      "    _, ndf_columns =  split_columns_concept_data(ndf.columns)\n",
      "                      ^^^^^^^^^^^^^^^^^^^^^^^^^^^^^^^^^^^^^^^\n",
      "  File \"C:\\Users\\pmsda\\AppData\\Local\\Packages\\PythonSoftwareFoundation.Python.3.11_qbz5n2kfra8p0\\LocalCache\\local-packages\\Python311\\site-packages\\dart_fss\\fs\\extract.py\", line 1156, in split_columns_concept_data\n",
      "    df_column_date = regex.findall(column[0])\n",
      "                     ^^^^^^^^^^^^^^^^^^^^^^^^\n",
      "TypeError: expected string or bytes-like object, got 'float'\n",
      "C:\\Users\\pmsda\\AppData\\Local\\Packages\\PythonSoftwareFoundation.Python.3.11_qbz5n2kfra8p0\\LocalCache\\local-packages\\Python311\\site-packages\\dart_fss\\fs\\extract.py:1462: RuntimeWarning: Unable to extract financial statements: {'rcp_no': '20220322000911', 'corp_code': '00147295', 'corp_name': '전북은행', 'stock_code': '006350', 'corp_cls': 'E', 'report_nm': '사업보고서 (2021.12)', 'flr_nm': '전북은행', 'rcept_dt': '20220322', 'rm': '연'}.\n",
      "  warnings.warn(warnings_text, RuntimeWarning)\n"
     ]
    },
    {
     "name": "stdout",
     "output_type": "stream",
     "text": [
      "50 00147295\n"
     ]
    },
    {
     "data": {
      "application/vnd.jupyter.widget-view+json": {
       "model_id": "8e27d17a8f2141e69cfe54eb60cffb39",
       "version_major": 2,
       "version_minor": 0
      },
      "text/plain": [
       "Annual reports:   0%|          | 0/2 [00:00<?, ?report/s]"
      ]
     },
     "metadata": {},
     "output_type": "display_data"
    },
    {
     "name": "stdout",
     "output_type": "stream",
     "text": [
      "51 00148832\n"
     ]
    },
    {
     "data": {
      "application/vnd.jupyter.widget-view+json": {
       "model_id": "2300e3f1c5ea4b00b1861def3dee9c1d",
       "version_major": 2,
       "version_minor": 0
      },
      "text/plain": [
       "Annual reports:   0%|          | 0/2 [00:00<?, ?report/s]"
      ]
     },
     "metadata": {},
     "output_type": "display_data"
    },
    {
     "name": "stderr",
     "output_type": "stream",
     "text": [
      "C:\\Users\\pmsda\\AppData\\Local\\Packages\\PythonSoftwareFoundation.Python.3.11_qbz5n2kfra8p0\\LocalCache\\local-packages\\Python311\\site-packages\\dart_fss\\fs\\extract.py:1440: RuntimeWarning: Unable to extract financial statements: {'rcp_no': '20230321001298', 'corp_code': '01133217', 'corp_name': '카카오뱅크', 'stock_code': '323410', 'corp_cls': 'Y', 'report_nm': '사업보고서 (2022.12)', 'flr_nm': '카카오뱅크', 'rcept_dt': '20230321', 'rm': ''}.\n",
      "  warnings.warn(warnings_text, RuntimeWarning)\n",
      "C:\\Users\\pmsda\\AppData\\Local\\Packages\\PythonSoftwareFoundation.Python.3.11_qbz5n2kfra8p0\\LocalCache\\local-packages\\Python311\\site-packages\\dart_fss\\fs\\extract.py:1440: RuntimeWarning: Unable to extract financial statements: {'rcp_no': '20220321000832', 'corp_code': '01133217', 'corp_name': '카카오뱅크', 'stock_code': '323410', 'corp_cls': 'Y', 'report_nm': '사업보고서 (2021.12)', 'flr_nm': '카카오뱅크', 'rcept_dt': '20220321', 'rm': ''}.\n",
      "  warnings.warn(warnings_text, RuntimeWarning)\n"
     ]
    },
    {
     "name": "stdout",
     "output_type": "stream",
     "text": [
      "51 01133217\n"
     ]
    },
    {
     "data": {
      "application/vnd.jupyter.widget-view+json": {
       "model_id": "84bb67636500491fb151f6cdf1b19544",
       "version_major": 2,
       "version_minor": 0
      },
      "text/plain": [
       "Annual reports:   0%|          | 0/2 [00:00<?, ?report/s]"
      ]
     },
     "metadata": {},
     "output_type": "display_data"
    },
    {
     "name": "stdout",
     "output_type": "stream",
     "text": [
      "52 00164876\n"
     ]
    },
    {
     "data": {
      "application/vnd.jupyter.widget-view+json": {
       "model_id": "ce730475a3554547a4d24b9d1782d15e",
       "version_major": 2,
       "version_minor": 0
      },
      "text/plain": [
       "Annual reports:   0%|          | 0/2 [00:00<?, ?report/s]"
      ]
     },
     "metadata": {},
     "output_type": "display_data"
    },
    {
     "name": "stdout",
     "output_type": "stream",
     "text": [
      "53 00161408\n"
     ]
    },
    {
     "data": {
      "application/vnd.jupyter.widget-view+json": {
       "model_id": "b36484b147d3419b8ba248ddb49c45d5",
       "version_major": 2,
       "version_minor": 0
      },
      "text/plain": [
       "Annual reports:   0%|          | 0/2 [00:00<?, ?report/s]"
      ]
     },
     "metadata": {},
     "output_type": "display_data"
    },
    {
     "name": "stderr",
     "output_type": "stream",
     "text": [
      "C:\\Users\\pmsda\\AppData\\Local\\Packages\\PythonSoftwareFoundation.Python.3.11_qbz5n2kfra8p0\\LocalCache\\local-packages\\Python311\\site-packages\\dart_fss\\fs\\extract.py:1440: RuntimeWarning: Unable to extract financial statements: {'rcp_no': '20230622000218', 'corp_code': '00304915', 'corp_name': '코리아에셋투자증권', 'stock_code': '190650', 'corp_cls': 'K', 'report_nm': '사업보고서 (2023.03)', 'flr_nm': '코리아에셋투자증권', 'rcept_dt': '20230622', 'rm': ''}.\n",
      "  warnings.warn(warnings_text, RuntimeWarning)\n",
      "C:\\Users\\pmsda\\AppData\\Local\\Packages\\PythonSoftwareFoundation.Python.3.11_qbz5n2kfra8p0\\LocalCache\\local-packages\\Python311\\site-packages\\dart_fss\\fs\\extract.py:1440: RuntimeWarning: Unable to extract financial statements: {'rcp_no': '20220622000380', 'corp_code': '00304915', 'corp_name': '코리아에셋투자증권', 'stock_code': '190650', 'corp_cls': 'K', 'report_nm': '사업보고서 (2022.03)', 'flr_nm': '코리아에셋투자증권', 'rcept_dt': '20220622', 'rm': ''}.\n",
      "  warnings.warn(warnings_text, RuntimeWarning)\n"
     ]
    },
    {
     "name": "stdout",
     "output_type": "stream",
     "text": [
      "53 00304915\n"
     ]
    },
    {
     "data": {
      "application/vnd.jupyter.widget-view+json": {
       "model_id": "04943abd8927453688aa06722b2ad3b4",
       "version_major": 2,
       "version_minor": 0
      },
      "text/plain": [
       "Annual reports:   0%|          | 0/2 [00:00<?, ?report/s]"
      ]
     },
     "metadata": {},
     "output_type": "display_data"
    },
    {
     "name": "stdout",
     "output_type": "stream",
     "text": [
      "54 00113191\n"
     ]
    },
    {
     "data": {
      "application/vnd.jupyter.widget-view+json": {
       "model_id": "eb2fb664c14a47759f397abfdbae19c2",
       "version_major": 2,
       "version_minor": 0
      },
      "text/plain": [
       "Annual reports:   0%|          | 0/2 [00:00<?, ?report/s]"
      ]
     },
     "metadata": {},
     "output_type": "display_data"
    },
    {
     "name": "stderr",
     "output_type": "stream",
     "text": [
      "C:\\Users\\pmsda\\AppData\\Local\\Packages\\PythonSoftwareFoundation.Python.3.11_qbz5n2kfra8p0\\LocalCache\\local-packages\\Python311\\site-packages\\dart_fss\\fs\\extract.py:1440: RuntimeWarning: Unable to extract financial statements: {'rcp_no': '20230317001056', 'corp_code': '00267942', 'corp_name': '큐캐피탈', 'stock_code': '016600', 'corp_cls': 'K', 'report_nm': '사업보고서 (2022.12)', 'flr_nm': '큐캐피탈', 'rcept_dt': '20230317', 'rm': ''}.\n",
      "  warnings.warn(warnings_text, RuntimeWarning)\n",
      "C:\\Users\\pmsda\\AppData\\Local\\Packages\\PythonSoftwareFoundation.Python.3.11_qbz5n2kfra8p0\\LocalCache\\local-packages\\Python311\\site-packages\\dart_fss\\fs\\extract.py:1440: RuntimeWarning: Unable to extract financial statements: {'rcp_no': '20220321001290', 'corp_code': '00267942', 'corp_name': '큐캐피탈', 'stock_code': '016600', 'corp_cls': 'K', 'report_nm': '사업보고서 (2021.12)', 'flr_nm': '큐캐피탈', 'rcept_dt': '20220321', 'rm': ''}.\n",
      "  warnings.warn(warnings_text, RuntimeWarning)\n"
     ]
    },
    {
     "name": "stdout",
     "output_type": "stream",
     "text": [
      "54 00267942\n"
     ]
    },
    {
     "data": {
      "application/vnd.jupyter.widget-view+json": {
       "model_id": "a87e3537ed904d1f98b5288a1349d437",
       "version_major": 2,
       "version_minor": 0
      },
      "text/plain": [
       "Annual reports:   0%|          | 0/2 [00:00<?, ?report/s]"
      ]
     },
     "metadata": {},
     "output_type": "display_data"
    },
    {
     "name": "stdout",
     "output_type": "stream",
     "text": [
      "55 00296290\n"
     ]
    },
    {
     "data": {
      "application/vnd.jupyter.widget-view+json": {
       "model_id": "e597f698a64941f9b04944021e610960",
       "version_major": 2,
       "version_minor": 0
      },
      "text/plain": [
       "Annual reports:   0%|          | 0/2 [00:00<?, ?report/s]"
      ]
     },
     "metadata": {},
     "output_type": "display_data"
    },
    {
     "name": "stdout",
     "output_type": "stream",
     "text": [
      "56 00547583\n"
     ]
    },
    {
     "data": {
      "application/vnd.jupyter.widget-view+json": {
       "model_id": "ada25cf2694e497ca8bfd831d1746e44",
       "version_major": 2,
       "version_minor": 0
      },
      "text/plain": [
       "Annual reports:   0%|          | 0/2 [00:00<?, ?report/s]"
      ]
     },
     "metadata": {},
     "output_type": "display_data"
    },
    {
     "name": "stdout",
     "output_type": "stream",
     "text": [
      "57 00158909\n"
     ]
    },
    {
     "data": {
      "application/vnd.jupyter.widget-view+json": {
       "model_id": "fb5dd38c86ea40a09a911a36142adc46",
       "version_major": 2,
       "version_minor": 0
      },
      "text/plain": [
       "Annual reports:   0%|          | 0/2 [00:00<?, ?report/s]"
      ]
     },
     "metadata": {},
     "output_type": "display_data"
    },
    {
     "name": "stdout",
     "output_type": "stream",
     "text": [
      "58 00432102\n"
     ]
    },
    {
     "data": {
      "application/vnd.jupyter.widget-view+json": {
       "model_id": "bf01ecb45e664befa0203115831e741c",
       "version_major": 2,
       "version_minor": 0
      },
      "text/plain": [
       "Annual reports:   0%|          | 0/2 [00:00<?, ?report/s]"
      ]
     },
     "metadata": {},
     "output_type": "display_data"
    },
    {
     "name": "stdout",
     "output_type": "stream",
     "text": [
      "59 00148504\n"
     ]
    },
    {
     "data": {
      "application/vnd.jupyter.widget-view+json": {
       "model_id": "f062e5aa6a624f96a3016e90b46cc3f7",
       "version_major": 2,
       "version_minor": 0
      },
      "text/plain": [
       "Annual reports:   0%|          | 0/2 [00:00<?, ?report/s]"
      ]
     },
     "metadata": {},
     "output_type": "display_data"
    },
    {
     "name": "stdout",
     "output_type": "stream",
     "text": [
      "60 00161444\n"
     ]
    },
    {
     "data": {
      "application/vnd.jupyter.widget-view+json": {
       "model_id": "f3a28661ac3646b088eefa353b0d3d1d",
       "version_major": 2,
       "version_minor": 0
      },
      "text/plain": [
       "Annual reports:   0%|          | 0/2 [00:00<?, ?report/s]"
      ]
     },
     "metadata": {},
     "output_type": "display_data"
    },
    {
     "name": "stdout",
     "output_type": "stream",
     "text": [
      "61 00404701\n"
     ]
    },
    {
     "data": {
      "application/vnd.jupyter.widget-view+json": {
       "model_id": "d4b70617578e42379527cad5a132f987",
       "version_major": 2,
       "version_minor": 0
      },
      "text/plain": [
       "Annual reports:   0%|          | 0/2 [00:00<?, ?report/s]"
      ]
     },
     "metadata": {},
     "output_type": "display_data"
    },
    {
     "name": "stderr",
     "output_type": "stream",
     "text": [
      "C:\\Users\\pmsda\\AppData\\Local\\Packages\\PythonSoftwareFoundation.Python.3.11_qbz5n2kfra8p0\\LocalCache\\local-packages\\Python311\\site-packages\\dart_fss\\fs\\extract.py:1455: RuntimeWarning: Unable to extract financial statements: {'rcp_no': '20220322000617', 'corp_code': '00149594', 'corp_name': '한국캐피탈', 'stock_code': '023760', 'corp_cls': 'K', 'report_nm': '[첨부정정]사업보고서 (2021.12)', 'flr_nm': '한국캐피탈', 'rcept_dt': '20220322', 'rm': ''}.\n",
      "  warnings.warn(warnings_text, RuntimeWarning)\n"
     ]
    },
    {
     "name": "stdout",
     "output_type": "stream",
     "text": [
      "62 00149594\n"
     ]
    },
    {
     "data": {
      "application/vnd.jupyter.widget-view+json": {
       "model_id": "37c84a90a9ea40fb9e015be0eabd21a0",
       "version_major": 2,
       "version_minor": 0
      },
      "text/plain": [
       "Annual reports:   0%|          | 0/2 [00:00<?, ?report/s]"
      ]
     },
     "metadata": {},
     "output_type": "display_data"
    },
    {
     "name": "stdout",
     "output_type": "stream",
     "text": [
      "63 00233653\n"
     ]
    },
    {
     "data": {
      "application/vnd.jupyter.widget-view+json": {
       "model_id": "db0b93f084d24288913db627dc2be924",
       "version_major": 2,
       "version_minor": 0
      },
      "text/plain": [
       "Annual reports:   0%|          | 0/2 [00:00<?, ?report/s]"
      ]
     },
     "metadata": {},
     "output_type": "display_data"
    },
    {
     "name": "stderr",
     "output_type": "stream",
     "text": [
      "C:\\Users\\pmsda\\AppData\\Local\\Packages\\PythonSoftwareFoundation.Python.3.11_qbz5n2kfra8p0\\LocalCache\\local-packages\\Python311\\site-packages\\dart_fss\\fs\\extract.py:1440: RuntimeWarning: Unable to extract financial statements: {'rcp_no': '20230315000894', 'corp_code': '00162416', 'corp_name': '한양증권', 'stock_code': '001750', 'corp_cls': 'Y', 'report_nm': '사업보고서 (2022.12)', 'flr_nm': '한양증권', 'rcept_dt': '20230315', 'rm': ''}.\n",
      "  warnings.warn(warnings_text, RuntimeWarning)\n",
      "C:\\Users\\pmsda\\AppData\\Local\\Packages\\PythonSoftwareFoundation.Python.3.11_qbz5n2kfra8p0\\LocalCache\\local-packages\\Python311\\site-packages\\dart_fss\\fs\\extract.py:1440: RuntimeWarning: Unable to extract financial statements: {'rcp_no': '20220315001266', 'corp_code': '00162416', 'corp_name': '한양증권', 'stock_code': '001750', 'corp_cls': 'Y', 'report_nm': '사업보고서 (2021.12)', 'flr_nm': '한양증권', 'rcept_dt': '20220315', 'rm': ''}.\n",
      "  warnings.warn(warnings_text, RuntimeWarning)\n"
     ]
    },
    {
     "name": "stdout",
     "output_type": "stream",
     "text": [
      "63 00162416\n"
     ]
    },
    {
     "data": {
      "application/vnd.jupyter.widget-view+json": {
       "model_id": "49aad0260863429982bae9b13f4e5142",
       "version_major": 2,
       "version_minor": 0
      },
      "text/plain": [
       "Annual reports:   0%|          | 0/2 [00:00<?, ?report/s]"
      ]
     },
     "metadata": {},
     "output_type": "display_data"
    },
    {
     "name": "stdout",
     "output_type": "stream",
     "text": [
      "63 00129509\n"
     ]
    },
    {
     "data": {
      "application/vnd.jupyter.widget-view+json": {
       "model_id": "ce7b3ecf536346feb27376a5e57d1c4a",
       "version_major": 2,
       "version_minor": 0
      },
      "text/plain": [
       "Annual reports:   0%|          | 0/2 [00:00<?, ?report/s]"
      ]
     },
     "metadata": {},
     "output_type": "display_data"
    },
    {
     "name": "stdout",
     "output_type": "stream",
     "text": [
      "64 00113058\n"
     ]
    },
    {
     "data": {
      "application/vnd.jupyter.widget-view+json": {
       "model_id": "68787ecee5174758b33ba1f10ea9a8e1",
       "version_major": 2,
       "version_minor": 0
      },
      "text/plain": [
       "Annual reports:   0%|          | 0/2 [00:00<?, ?report/s]"
      ]
     },
     "metadata": {},
     "output_type": "display_data"
    },
    {
     "name": "stdout",
     "output_type": "stream",
     "text": [
      "65 00135917\n"
     ]
    },
    {
     "data": {
      "application/vnd.jupyter.widget-view+json": {
       "model_id": "f0e162759c7546918d8923588be58f11",
       "version_major": 2,
       "version_minor": 0
      },
      "text/plain": [
       "Annual reports:   0%|          | 0/2 [00:00<?, ?report/s]"
      ]
     },
     "metadata": {},
     "output_type": "display_data"
    },
    {
     "name": "stdout",
     "output_type": "stream",
     "text": [
      "66 00148610\n"
     ]
    },
    {
     "data": {
      "application/vnd.jupyter.widget-view+json": {
       "model_id": "83789ad4f26e431a832d2cd1ef90b7b1",
       "version_major": 2,
       "version_minor": 0
      },
      "text/plain": [
       "Annual reports:   0%|          | 0/2 [00:00<?, ?report/s]"
      ]
     },
     "metadata": {},
     "output_type": "display_data"
    },
    {
     "name": "stdout",
     "output_type": "stream",
     "text": [
      "67 00137997\n"
     ]
    },
    {
     "data": {
      "application/vnd.jupyter.widget-view+json": {
       "model_id": "12c882c2710d4c4da58a6293fd9b20a7",
       "version_major": 2,
       "version_minor": 0
      },
      "text/plain": [
       "Annual reports:   0%|          | 0/2 [00:00<?, ?report/s]"
      ]
     },
     "metadata": {},
     "output_type": "display_data"
    },
    {
     "name": "stdout",
     "output_type": "stream",
     "text": [
      "68 00164973\n"
     ]
    },
    {
     "data": {
      "application/vnd.jupyter.widget-view+json": {
       "model_id": "bbde2c656c824500a739ee1ffc0df5e7",
       "version_major": 2,
       "version_minor": 0
      },
      "text/plain": [
       "Annual reports:   0%|          | 0/2 [00:00<?, ?report/s]"
      ]
     },
     "metadata": {},
     "output_type": "display_data"
    },
    {
     "name": "stderr",
     "output_type": "stream",
     "text": [
      "C:\\Users\\pmsda\\AppData\\Local\\Packages\\PythonSoftwareFoundation.Python.3.11_qbz5n2kfra8p0\\LocalCache\\local-packages\\Python311\\site-packages\\dart_fss\\fs\\extract.py:1440: RuntimeWarning: Unable to extract financial statements: {'rcp_no': '20230316001454', 'corp_code': '00103176', 'corp_name': '흥국화재', 'stock_code': '000540', 'corp_cls': 'Y', 'report_nm': '사업보고서 (2022.12)', 'flr_nm': '흥국화재', 'rcept_dt': '20230316', 'rm': ''}.\n",
      "  warnings.warn(warnings_text, RuntimeWarning)\n",
      "C:\\Users\\pmsda\\AppData\\Local\\Packages\\PythonSoftwareFoundation.Python.3.11_qbz5n2kfra8p0\\LocalCache\\local-packages\\Python311\\site-packages\\dart_fss\\fs\\extract.py:1440: RuntimeWarning: Unable to extract financial statements: {'rcp_no': '20220317001158', 'corp_code': '00103176', 'corp_name': '흥국화재', 'stock_code': '000540', 'corp_cls': 'Y', 'report_nm': '사업보고서 (2021.12)', 'flr_nm': '흥국화재', 'rcept_dt': '20220317', 'rm': ''}.\n",
      "  warnings.warn(warnings_text, RuntimeWarning)\n"
     ]
    },
    {
     "name": "stdout",
     "output_type": "stream",
     "text": [
      "68 00103176\n"
     ]
    }
   ],
   "source": [
    "columns = ['code','y','pred_y']\n",
    "failed = []\n",
    "dataframe = pd.DataFrame(columns = columns)\n",
    "\n",
    "for c_code in corp_code:\n",
    "    try:\n",
    "        corp = corp_list.find_by_corp_code(c_code)\n",
    "        fs = corp.extract_fs('20220101')\n",
    "        data = fs[0].loc[fs[0]['Statement of financial position(Unit: KWR)','label_ko'].to_list().index('자산총계')]\n",
    "        y = data.iloc[2]\n",
    "        pred_y = data.iloc[3]\n",
    "        dataframe.loc[len(dataframe)] = [c_code,y,pred_y]\n",
    "    except:\n",
    "        failed.append(c_code)\n",
    "    finally:\n",
    "        print(len(dataframe),c_code)"
   ]
  },
  {
   "cell_type": "code",
   "execution_count": 6,
   "metadata": {},
   "outputs": [
    {
     "data": {
      "text/plain": [
       "[]"
      ]
     },
     "execution_count": 6,
     "metadata": {},
     "output_type": "execute_result"
    }
   ],
   "source": [
    "corp_code"
   ]
  },
  {
   "cell_type": "code",
   "execution_count": 11,
   "metadata": {},
   "outputs": [],
   "source": [
    "dataframe.to_csv('dataframe.csv',index=False)"
   ]
  },
  {
   "cell_type": "code",
   "execution_count": null,
   "metadata": {},
   "outputs": [],
   "source": [
    "with open('failed.txt','w') as file:\n",
    "    for f in failed:\n",
    "        file.write(f)\n",
    "        file.write('\\n')"
   ]
  }
 ],
 "metadata": {
  "kernelspec": {
   "display_name": "Python 3",
   "language": "python",
   "name": "python3"
  },
  "language_info": {
   "codemirror_mode": {
    "name": "ipython",
    "version": 3
   },
   "file_extension": ".py",
   "mimetype": "text/x-python",
   "name": "python",
   "nbconvert_exporter": "python",
   "pygments_lexer": "ipython3",
   "version": "3.11.6"
  },
  "orig_nbformat": 4
 },
 "nbformat": 4,
 "nbformat_minor": 2
}
