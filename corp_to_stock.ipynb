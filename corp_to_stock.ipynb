{
 "cells": [
  {
   "cell_type": "code",
   "execution_count": 1,
   "metadata": {},
   "outputs": [
    {
     "data": {
      "application/vnd.jupyter.widget-view+json": {
       "model_id": "9c23305ed66d49a3a0765f73f0b67865",
       "version_major": 2,
       "version_minor": 0
      },
      "text/plain": [
       "Output()"
      ]
     },
     "metadata": {},
     "output_type": "display_data"
    },
    {
     "data": {
      "application/vnd.jupyter.widget-view+json": {
       "model_id": "eee273bf437e403d84b5d6cbd940dda5",
       "version_major": 2,
       "version_minor": 0
      },
      "text/plain": [
       "Output()"
      ]
     },
     "metadata": {},
     "output_type": "display_data"
    },
    {
     "data": {
      "application/vnd.jupyter.widget-view+json": {
       "model_id": "38197299eabd415891186f29e7737fb7",
       "version_major": 2,
       "version_minor": 0
      },
      "text/plain": [
       "Output()"
      ]
     },
     "metadata": {},
     "output_type": "display_data"
    }
   ],
   "source": [
    "import dart_fss\n",
    "\n",
    "api_key = '4fb4acc1d37b1dae74040e64a9674e018ccfd7fe'\n",
    "\n",
    "dart_fss.set_api_key(api_key=api_key)\n",
    "corp_list = dart_fss.get_corp_list()"
   ]
  },
  {
   "cell_type": "code",
   "execution_count": 2,
   "metadata": {},
   "outputs": [],
   "source": [
    "import OpenDartReader\n",
    "\n",
    "api_key = '4fb4acc1d37b1dae74040e64a9674e018ccfd7fe'\n",
    "\n",
    "dart = OpenDartReader(api_key)"
   ]
  },
  {
   "cell_type": "code",
   "execution_count": 4,
   "metadata": {},
   "outputs": [
    {
     "data": {
      "text/plain": [
       "'138930'"
      ]
     },
     "execution_count": 4,
     "metadata": {},
     "output_type": "execute_result"
    }
   ],
   "source": [
    "dart.company('00858364')['stock_code']"
   ]
  },
  {
   "cell_type": "code",
   "execution_count": 17,
   "metadata": {},
   "outputs": [],
   "source": [
    "import pandas as pd\n",
    "\n",
    "df = pd.read_csv('corpcode_finance.csv',dtype = {'code':str})\n",
    "\n",
    "corp_code_list = df['code'].to_list()\n",
    "stock_code_list = []\n",
    "\n",
    "for code in corp_code_list:\n",
    "    st_code = dart.company(code)['stock_code']\n",
    "    stock_code_list.append(st_code)\n",
    "df['code'] = stock_code_list"
   ]
  },
  {
   "cell_type": "code",
   "execution_count": 43,
   "metadata": {},
   "outputs": [],
   "source": [
    "data = pd.read_csv('stockcode_finance.csv',dtype = {'code':str})\n",
    "result = data.merge(df,on='code',how='left')"
   ]
  },
  {
   "cell_type": "code",
   "execution_count": 44,
   "metadata": {},
   "outputs": [],
   "source": [
    "result['y'] = result['y_y'].combine_first(result['y_x'])\n",
    "result['prev_y'] = result['prev_y_y'].combine_first(result['prev_y_x'])\n",
    "result.drop(['y_x','y_y','prev_y_x','prev_y_y'],axis=1,inplace=True)\n",
    "result.to_csv('merged_code.csv',index=False)"
   ]
  },
  {
   "cell_type": "code",
   "execution_count": 48,
   "metadata": {},
   "outputs": [],
   "source": [
    "find_stock_code = result[result['y']=='0']['code']\n",
    "with open('find_stock_finance.txt','w') as file:\n",
    "    for code in find_stock_code:\n",
    "        file.write(code)\n",
    "        file.write('\\n')"
   ]
  }
 ],
 "metadata": {
  "kernelspec": {
   "display_name": "Python 3",
   "language": "python",
   "name": "python3"
  },
  "language_info": {
   "codemirror_mode": {
    "name": "ipython",
    "version": 3
   },
   "file_extension": ".py",
   "mimetype": "text/x-python",
   "name": "python",
   "nbconvert_exporter": "python",
   "pygments_lexer": "ipython3",
   "version": "3.11.6"
  },
  "orig_nbformat": 4
 },
 "nbformat": 4,
 "nbformat_minor": 2
}
