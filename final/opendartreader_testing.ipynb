{
 "cells": [
  {
   "cell_type": "code",
   "execution_count": null,
   "metadata": {},
   "outputs": [],
   "source": [
    "import OpenDartReader\n",
    "import pandas as pd"
   ]
  },
  {
   "cell_type": "code",
   "execution_count": null,
   "metadata": {},
   "outputs": [],
   "source": [
    "api_key = '1ee244d6168bde153cb2d45463d71139f567d1f4' # My key\n",
    "dart_reader = OpenDartReader(api_key)"
   ]
  },
  {
   "cell_type": "code",
   "execution_count": null,
   "metadata": {},
   "outputs": [],
   "source": [
    "# 상장회사 코드 불러오기\n",
    "tb = pd.read_csv('./company_code.csv', encoding='utf-8')\n",
    "print(tb.shape)\n",
    "tb.head()\n",
    "\n",
    "# 회사명 종목코드 확인하기\n",
    "codes= [dart_reader.find_corp_code(name) for name in tb['회사명']]\n",
    "print(len(codes))\n",
    "tb['code'] = codes\n",
    "\n",
    "tb[tb['회사명'] == '삼성전자']\n",
    "# corp_lst = dart_reader.corp_codes"
   ]
  },
  {
   "cell_type": "markdown",
   "metadata": {},
   "source": [
    "<재무구조>\n",
    "\n",
    "f1: 기업의 총 자산 (t-1): 자산총계\n",
    "\n",
    "f2: 영업활동 현금흐름 / 총자산: 영업이익? 유동자산 / 자산총계\n",
    "\n",
    "f3: 전기 부채 비율 (총부채 / 총자산): 부채총계 / 자산총계\n",
    "\n",
    "f4: 전기 무형자산 비중 (무형자산 / 총자산): ??? / 자산총계 \n",
    "\n",
    "<성장성>\n",
    "\n",
    "g1: 전기 매출액 성장률 (매출액 - t-1기 매출액) / 매출액 \n",
    "\n",
    "g2: 전기 현금 배당 성향 상승률 (현금 배당 성향 - t-1기 현금 배당 성향) / 현금 배당 성향\n",
    "\n",
    "g3: 전기 EBIT 성장률 ((EBIT - t-1기 EBIT) / EBIT)\n",
    "\n",
    "g4: 전기 임직원 성장률 ((총 임직원수 - t-1기 총 임직원 수) / 총 임직원 수)\n",
    "\n",
    "<지분구조>\n",
    "\n",
    "s1: 전기 최대주주지분율\n",
    "\n",
    "s2: 전기 외국인투자지분율 (?)\n",
    "\n",
    "<기타>\n",
    "\n",
    "o1: 전기 사외이사비율 (사외이사 수 / 전체 임원 수): major_shareholders_exec\n",
    "\n",
    "o2: 전기 지속가능경영보고서 공시 여부에 대한 가변수"
   ]
  },
  {
   "cell_type": "code",
   "execution_count": null,
   "metadata": {},
   "outputs": [],
   "source": [
    "dart_reader.finstate('095570', 2021) \n",
    "# f1: 재무상태표.자산 총계\n",
    "# f2: 손익계산서.영업이익 / 자산 총계\n",
    "# f3: 재무상태표.부채총계 / 자산총계\n",
    "# g1: 손익계산서.매출액\n",
    "# g3: 손익계산서.법인세차감전 순이익"
   ]
  },
  {
   "cell_type": "code",
   "execution_count": null,
   "metadata": {},
   "outputs": [],
   "source": [
    "dart_reader.report('00126380', '배당', 2021) #g2 #(연결)현금배당성향(%)"
   ]
  },
  {
   "cell_type": "code",
   "execution_count": null,
   "metadata": {},
   "outputs": [],
   "source": [
    "dart_reader.report('00126380', '최대주주', 2021) # s1 # 보통주 계 + 우선수 계 (%)"
   ]
  },
  {
   "cell_type": "code",
   "execution_count": null,
   "metadata": {},
   "outputs": [],
   "source": [
    "dart_reader.report('00126380', '임원', 2021) #g4, o1 # rgist_exctv_at == '사외이사' / 전체 row 수   "
   ]
  },
  {
   "cell_type": "code",
   "execution_count": null,
   "metadata": {},
   "outputs": [],
   "source": [
    "# dart_reader.list('00126380', start='2022-01-01')\n",
    "# dart_reader.company('00126380')\n",
    "# txt = dart_reader.document('20220816')"
   ]
  },
  {
   "cell_type": "code",
   "execution_count": null,
   "metadata": {},
   "outputs": [],
   "source": [
    "dart_reader.sub_docs('20220308000798')\n",
    "dart_reader.sub_docs('20220308000798')['url'].iloc[16] #f4 # url -> read_html 필요"
   ]
  }
 ],
 "metadata": {
  "kernelspec": {
   "display_name": "Python 3",
   "language": "python",
   "name": "python3"
  },
  "language_info": {
   "codemirror_mode": {
    "name": "ipython",
    "version": 3
   },
   "file_extension": ".py",
   "mimetype": "text/x-python",
   "name": "python",
   "nbconvert_exporter": "python",
   "pygments_lexer": "ipython3",
   "version": "3.10.5"
  }
 },
 "nbformat": 4,
 "nbformat_minor": 2
}
