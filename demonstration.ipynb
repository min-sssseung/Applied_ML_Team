{
 "cells": [
  {
   "cell_type": "code",
   "execution_count": null,
   "metadata": {},
   "outputs": [],
   "source": [
    "!pip install OpenDartReader"
   ]
  },
  {
   "cell_type": "code",
   "execution_count": 3,
   "metadata": {},
   "outputs": [
    {
     "name": "stdout",
     "output_type": "stream",
     "text": [
      "(1049, 3)\n",
      "(707, 3)\n"
     ]
    },
    {
     "data": {
      "text/html": [
       "<div>\n",
       "<style scoped>\n",
       "    .dataframe tbody tr th:only-of-type {\n",
       "        vertical-align: middle;\n",
       "    }\n",
       "\n",
       "    .dataframe tbody tr th {\n",
       "        vertical-align: top;\n",
       "    }\n",
       "\n",
       "    .dataframe thead th {\n",
       "        text-align: right;\n",
       "    }\n",
       "</style>\n",
       "<table border=\"1\" class=\"dataframe\">\n",
       "  <thead>\n",
       "    <tr style=\"text-align: right;\">\n",
       "      <th></th>\n",
       "      <th>code</th>\n",
       "      <th>y</th>\n",
       "      <th>prev_y</th>\n",
       "    </tr>\n",
       "  </thead>\n",
       "  <tbody>\n",
       "    <tr>\n",
       "      <th>0</th>\n",
       "      <td>095570</td>\n",
       "      <td>1,481,445,371,745</td>\n",
       "      <td>1,355,044,449,955</td>\n",
       "    </tr>\n",
       "    <tr>\n",
       "      <th>1</th>\n",
       "      <td>006840</td>\n",
       "      <td>5,004,334,961,394</td>\n",
       "      <td>4,548,736,656,905</td>\n",
       "    </tr>\n",
       "    <tr>\n",
       "      <th>2</th>\n",
       "      <td>027410</td>\n",
       "      <td>1,938,013,970,903</td>\n",
       "      <td>1,981,622,039,251</td>\n",
       "    </tr>\n",
       "    <tr>\n",
       "      <th>3</th>\n",
       "      <td>282330</td>\n",
       "      <td>2,946,235,271,626</td>\n",
       "      <td>2,596,378,756,682</td>\n",
       "    </tr>\n",
       "    <tr>\n",
       "      <th>6</th>\n",
       "      <td>001460</td>\n",
       "      <td>668,872,026,401</td>\n",
       "      <td>684,434,512,150</td>\n",
       "    </tr>\n",
       "  </tbody>\n",
       "</table>\n",
       "</div>"
      ],
      "text/plain": [
       "     code                  y             prev_y\n",
       "0  095570  1,481,445,371,745  1,355,044,449,955\n",
       "1  006840  5,004,334,961,394  4,548,736,656,905\n",
       "2  027410  1,938,013,970,903  1,981,622,039,251\n",
       "3  282330  2,946,235,271,626  2,596,378,756,682\n",
       "6  001460    668,872,026,401    684,434,512,150"
      ]
     },
     "execution_count": 3,
     "metadata": {},
     "output_type": "execute_result"
    }
   ],
   "source": [
    "from financial_data_making import financial_dict\n",
    "import OpenDartReader\n",
    "import pandas as pd\n",
    "\n",
    "# df = pd.read_csv('./merged_code.csv')\n",
    "call =  financial_dict('4fb4acc1d37b1dae74040e64a9674e018ccfd7fe') # api_key\n",
    "\n",
    "df = pd.read_csv('./opendart_stockcode_finance.csv', dtype={'code': str})\n",
    "df1 = df[df['y'] != '0']\n",
    "print(df.shape)\n",
    "print(df1.shape)\n",
    "df1.head()\n",
    "# call.dart_extract('6840', 2020)\n",
    "# call.html_extract('027410', 2021)"
   ]
  },
  {
   "cell_type": "code",
   "execution_count": null,
   "metadata": {},
   "outputs": [],
   "source": [
    "api_key = '4fb4acc1d37b1dae74040e64a9674e018ccfd7fe'\n",
    "dart = OpenDartReader(api_key)\n",
    "code, year = '311690', 2020\n",
    "\n",
    "# 매출액\n",
    "# 손익계산서\n",
    "def sales_docu(code, year):\n",
    "    sales = dart.finstate(code, year)\n",
    "    # real_sales = sales[(sales['fs_nm']=='연결재무제표')&(sales['account_nm']=='매출액')].iloc[0, :] # 매출액 \n",
    "    c_sales = sales[(sales['fs_nm']=='연결재무제표')&(sales['account_nm']=='매출액')]['thstrm_amount'].values # 매출액 # 문제1\n",
    "    p_sales = sales[(sales['fs_nm']=='연결재무제표')&(sales['account_nm']=='매출액')]['frmtrm_amount'].values # t-1기 매출액 # 문제 2\n",
    "\n",
    "    div_cash = dart.report(code, '배당', year) #(연결)현금배당성향(%)\n",
    "    c_div = div_cash[div_cash['se']=='(연결)현금배당성향(%)']['thstrm'].values[0] # 순이익이 마이너스일 경우 0% # 배당금 / 당기순이익\n",
    "    p_div = div_cash[div_cash['se']=='(연결)현금배당성향(%)']['frmtrm'].values[0]\n",
    "\n",
    "    holder = dart.report(code, '최대주주', year) # 보통주 계 + 우선수 계 (%)\n",
    "    ratio_stakeholder = holder[(holder['stock_knd']=='보통주')&(holder['nm']=='계')].values # 문제3\n",
    "\n",
    "    exec = dart.report(code, '임원', year) #'사외이사' / 전체 임원 수   \n",
    "    out_exec = exec[exec['ofcps'] == '사외이사'].shape[0]\n",
    "    exec = exec.shape[0]\n",
    "\n",
    "    employee = dart.report(code, '직원', year)['rgllbr_co'].to_list() # 총 직원 수\n",
    "    \n",
    "    output = {'sales': c_sales, \n",
    "              'pre_sales': p_sales, \n",
    "              'cash_div': c_div, \n",
    "              'pre_cash_civ': p_div,\n",
    "              'stakeholder' : ratio_stakeholder,\n",
    "              'num_outexecutives': out_exec,\n",
    "              'num_executives': exec,\n",
    "              'num_employee': employee}\n",
    "    \n",
    "    return output\n",
    "# for \n",
    "data = []\n",
    "good_index = []\n",
    "bad_index = []\n",
    "\n",
    "for index, code in enumerate(df1['code'].to_list()):\n",
    "    try:\n",
    "        data.append(sales_docu(code, year))\n",
    "        print(f'{index}, Good!')\n",
    "        good_index.append(index)\n",
    "    except:\n",
    "        print(f'{index}, bad...')\n",
    "        bad_index.append(index)"
   ]
  },
  {
   "cell_type": "code",
   "execution_count": 26,
   "metadata": {},
   "outputs": [
    {
     "name": "stdout",
     "output_type": "stream",
     "text": [
      "691 16\n"
     ]
    }
   ],
   "source": [
    "print(len(good_index), len(bad_index)) # \n",
    "\n",
    "succees_sales_docu = df1.iloc[good_index, 0]\n",
    "fail_sales_docu = df1.iloc[bad_index, 0]"
   ]
  },
  {
   "cell_type": "code",
   "execution_count": 25,
   "metadata": {},
   "outputs": [],
   "source": [
    "with open ('s_docu.txt', 'w') as f:\n",
    "    for x in df1.iloc[good_index, 0].values:\n",
    "        f.write(f'{x}\\n')\n",
    "    f.close()\n",
    "    \n",
    "with open ('f_docu.txt', 'w') as f:\n",
    "    for x in df1.iloc[bad_index, 0].values:\n",
    "        f.write(f'{x}\\n')\n",
    "    f.close()"
   ]
  },
  {
   "cell_type": "code",
   "execution_count": 14,
   "metadata": {},
   "outputs": [],
   "source": [
    "def html_extract(self, code, year):\n"
   ]
  },
  {
   "cell_type": "code",
   "execution_count": null,
   "metadata": {},
   "outputs": [],
   "source": []
  }
 ],
 "metadata": {
  "kernelspec": {
   "display_name": "Python 3",
   "language": "python",
   "name": "python3"
  },
  "language_info": {
   "codemirror_mode": {
    "name": "ipython",
    "version": 3
   },
   "file_extension": ".py",
   "mimetype": "text/x-python",
   "name": "python",
   "nbconvert_exporter": "python",
   "pygments_lexer": "ipython3",
   "version": "3.10.5"
  }
 },
 "nbformat": 4,
 "nbformat_minor": 2
}
