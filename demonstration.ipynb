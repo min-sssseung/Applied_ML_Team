{
 "cells": [
  {
   "cell_type": "code",
   "execution_count": null,
   "metadata": {},
   "outputs": [],
   "source": [
    "!pip install OpenDartReader"
   ]
  },
  {
   "cell_type": "code",
   "execution_count": 2,
   "metadata": {},
   "outputs": [],
   "source": [
    "from financial_data_making import financial_dict"
   ]
  },
  {
   "cell_type": "code",
   "execution_count": 3,
   "metadata": {},
   "outputs": [],
   "source": [
    "call =  financial_dict('4fb4acc1d37b1dae74040e64a9674e018ccfd7fe') # api_key"
   ]
  },
  {
   "cell_type": "code",
   "execution_count": 4,
   "metadata": {},
   "outputs": [
    {
     "data": {
      "text/plain": [
       "{'sales': '154,381,286,305',\n",
       " 'pre_sales': '133,387,713,837',\n",
       " 'cash_div': '38.60',\n",
       " 'pre_cash_civ': '39.20',\n",
       " 'stakeholder': '69.72',\n",
       " 'num_outexecutives': 2,\n",
       " 'num_executives': 5,\n",
       " 'num_employee': 108}"
      ]
     },
     "execution_count": 4,
     "metadata": {},
     "output_type": "execute_result"
    }
   ],
   "source": [
    "call.dart_extract('027410', 2020)"
   ]
  },
  {
   "cell_type": "code",
   "execution_count": 5,
   "metadata": {},
   "outputs": [
    {
     "name": "stdout",
     "output_type": "stream",
     "text": [
      "사업보고서 (2020.12)\n"
     ]
    },
    {
     "data": {
      "text/plain": [
       "{'asset': '1658204361732',\n",
       " 'debt': '121105273379',\n",
       " 'intang': '12667210365',\n",
       " 'profit': '14640997513',\n",
       " 'profit_without_tax': '16140824575',\n",
       " 'pre_profit_without_tax': '24585396620'}"
      ]
     },
     "execution_count": 5,
     "metadata": {},
     "output_type": "execute_result"
    }
   ],
   "source": [
    "call.html_extract('027410', 2021)"
   ]
  }
 ],
 "metadata": {
  "kernelspec": {
   "display_name": "Python 3",
   "language": "python",
   "name": "python3"
  },
  "language_info": {
   "codemirror_mode": {
    "name": "ipython",
    "version": 3
   },
   "file_extension": ".py",
   "mimetype": "text/x-python",
   "name": "python",
   "nbconvert_exporter": "python",
   "pygments_lexer": "ipython3",
   "version": "3.10.5"
  }
 },
 "nbformat": 4,
 "nbformat_minor": 2
}
